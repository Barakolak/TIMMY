{
 "cells": [
  {
   "cell_type": "code",
   "metadata": {
    "tags": [],
    "cell_id": "00000-3015181c-de0a-4d37-b92f-81922bf306cc",
    "deepnote_to_be_reexecuted": false,
    "source_hash": "8aeb643c",
    "execution_start": 1622302004942,
    "execution_millis": 2384,
    "deepnote_cell_type": "code"
   },
   "source": "import numpy as np\nimport pandas as pd\nimport re\nimport matplotlib.pyplot as plt\nfrom textblob import TextBlob",
   "execution_count": 1,
   "outputs": []
  },
  {
   "cell_type": "code",
   "metadata": {
    "tags": [],
    "cell_id": "00001-ca2f0659-a0a5-481e-bffd-975692e8088f",
    "deepnote_to_be_reexecuted": false,
    "source_hash": "252baf81",
    "execution_start": 1622302007340,
    "execution_millis": 1117,
    "deepnote_cell_type": "code"
   },
   "source": "# Creating Data Frame\ndf_path = \"./archive/Bitcoin_tweets.csv\"\ndf = pd.read_csv(df_path)\n\ndf.head(10)",
   "execution_count": 2,
   "outputs": [
    {
     "name": "stderr",
     "text": "/shared-libs/python3.7/py-core/lib/python3.7/site-packages/IPython/core/interactiveshell.py:3170: DtypeWarning: Columns (5,6,7,12) have mixed types.Specify dtype option on import or set low_memory=False.\n  interactivity=interactivity, compiler=compiler, result=result)\n",
     "output_type": "stream"
    },
    {
     "output_type": "execute_result",
     "execution_count": 2,
     "data": {
      "application/vnd.deepnote.dataframe.v2+json": {
       "row_count": 10,
       "column_count": 13,
       "columns": [
        {
         "name": "user_name",
         "dtype": "object",
         "stats": {
          "unique_count": 9,
          "nan_count": 0,
          "categories": [
           {
            "name": "DeSota Wilson",
            "count": 2
           },
           {
            "name": "CryptoND",
            "count": 1
           },
           {
            "name": "7 others",
            "count": 7
           }
          ]
         }
        },
        {
         "name": "user_location",
         "dtype": "object",
         "stats": {
          "unique_count": 5,
          "nan_count": 4,
          "categories": [
           {
            "name": "Atlanta, GA",
            "count": 2
           },
           {
            "name": "4 others",
            "count": 4
           },
           {
            "name": "Missing",
            "count": 4
           }
          ]
         }
        },
        {
         "name": "user_description",
         "dtype": "object",
         "stats": {
          "unique_count": 9,
          "nan_count": 0,
          "categories": [
           {
            "name": "Biz Consultant, real estate, fintech, startups, posts are not the view of my employer, RTs are not endorsements, military brat, @UNC alumnus, ΚΑΨ♦️ΦΝΠ, -DW = Me",
            "count": 2
           },
           {
            "name": "😎 BITCOINLIVE is a Dutch platform aimed at informing the general public about crypto & technology! 😉 AND promoting it: https://t.co/5RYdRnUSud",
            "count": 1
           },
           {
            "name": "7 others",
            "count": 7
           }
          ]
         }
        },
        {
         "name": "user_created",
         "dtype": "object",
         "stats": {
          "unique_count": 9,
          "nan_count": 0,
          "categories": [
           {
            "name": "2009-04-26 20:05:09",
            "count": 2
           },
           {
            "name": "2019-10-17 20:12:10",
            "count": 1
           },
           {
            "name": "7 others",
            "count": 7
           }
          ]
         }
        },
        {
         "name": "user_followers",
         "dtype": "float64",
         "stats": {
          "unique_count": 9,
          "nan_count": 0,
          "min": "104.0",
          "max": "8534.0",
          "histogram": [
           {
            "bin_start": 104,
            "bin_end": 947,
            "count": 5
           },
           {
            "bin_start": 947,
            "bin_end": 1790,
            "count": 1
           },
           {
            "bin_start": 1790,
            "bin_end": 2633,
            "count": 0
           },
           {
            "bin_start": 2633,
            "bin_end": 3476,
            "count": 0
           },
           {
            "bin_start": 3476,
            "bin_end": 4319,
            "count": 1
           },
           {
            "bin_start": 4319,
            "bin_end": 5162,
            "count": 0
           },
           {
            "bin_start": 5162,
            "bin_end": 6005,
            "count": 0
           },
           {
            "bin_start": 6005,
            "bin_end": 6848,
            "count": 1
           },
           {
            "bin_start": 6848,
            "bin_end": 7691,
            "count": 0
           },
           {
            "bin_start": 7691,
            "bin_end": 8534,
            "count": 2
           }
          ]
         }
        },
        {
         "name": "user_friends",
         "dtype": "object",
         "stats": {
          "unique_count": 9,
          "nan_count": 0,
          "categories": [
           {
            "name": "7605",
            "count": 2
           },
           {
            "name": "1532",
            "count": 1
           },
           {
            "name": "7 others",
            "count": 7
           }
          ]
         }
        },
        {
         "name": "user_favourites",
         "dtype": "object",
         "stats": {
          "unique_count": 9,
          "nan_count": 0,
          "categories": [
           {
            "name": "4838",
            "count": 2
           },
           {
            "name": "25483",
            "count": 1
           },
           {
            "name": "7 others",
            "count": 7
           }
          ]
         }
        },
        {
         "name": "user_verified",
         "dtype": "object",
         "stats": {
          "unique_count": 1,
          "nan_count": 0,
          "categories": [
           {
            "name": "False",
            "count": 10
           }
          ]
         }
        },
        {
         "name": "date",
         "dtype": "object",
         "stats": {
          "unique_count": 10,
          "nan_count": 0,
          "categories": [
           {
            "name": "2021-02-10 23:59:04",
            "count": 1
           },
           {
            "name": "2021-02-10 23:58:48",
            "count": 1
           },
           {
            "name": "8 others",
            "count": 8
           }
          ]
         }
        },
        {
         "name": "text",
         "dtype": "object",
         "stats": {
          "unique_count": 10,
          "nan_count": 0,
          "categories": [
           {
            "name": "Blue Ridge Bank shares halted by NYSE after #bitcoin ATM announcement https://t.co/xaaZmaJKiV @MyBlueRidgeBank… https://t.co/sgBxMkP1SI",
            "count": 1
           },
           {
            "name": "😎 Today, that's this #Thursday, we will do a \"🎬 Take 2\" with our friend @LeoWandersleb, #Btc #wallet #security expe… https://t.co/go6aDgRml5",
            "count": 1
           },
           {
            "name": "8 others",
            "count": 8
           }
          ]
         }
        },
        {
         "name": "hashtags",
         "dtype": "object",
         "stats": {
          "unique_count": 8,
          "nan_count": 2,
          "categories": [
           {
            "name": "['bitcoin']",
            "count": 1
           },
           {
            "name": "7 others",
            "count": 7
           },
           {
            "name": "Missing",
            "count": 2
           }
          ]
         }
        },
        {
         "name": "source",
         "dtype": "object",
         "stats": {
          "unique_count": 5,
          "nan_count": 0,
          "categories": [
           {
            "name": "Twitter Web App",
            "count": 6
           },
           {
            "name": "Twitter for Android",
            "count": 1
           },
           {
            "name": "3 others",
            "count": 3
           }
          ]
         }
        },
        {
         "name": "is_retweet",
         "dtype": "object",
         "stats": {
          "unique_count": 1,
          "nan_count": 0,
          "categories": [
           {
            "name": "False",
            "count": 10
           }
          ]
         }
        },
        {
         "name": "_deepnote_index_column",
         "dtype": "int64"
        }
       ],
       "rows_top": [
        {
         "user_name": "DeSota Wilson",
         "user_location": "Atlanta, GA",
         "user_description": "Biz Consultant, real estate, fintech, startups, posts are not the view of my employer, RTs are not …",
         "user_created": "2009-04-26 20:05:09",
         "user_followers": 8534,
         "user_friends": "7605",
         "user_favourites": "4838",
         "user_verified": "False",
         "date": "2021-02-10 23:59:04",
         "text": "Blue Ridge Bank shares halted by NYSE after #bitcoin ATM announcement https://t.co/xaaZmaJKiV @MyBl…",
         "hashtags": "['bitcoin']",
         "source": "Twitter Web App",
         "is_retweet": "False",
         "_deepnote_index_column": 0
        },
        {
         "user_name": "CryptoND",
         "user_location": "nan",
         "user_description": "😎 BITCOINLIVE is a Dutch platform aimed at informing the general public about crypto & technology! …",
         "user_created": "2019-10-17 20:12:10",
         "user_followers": 6769,
         "user_friends": "1532",
         "user_favourites": "25483",
         "user_verified": "False",
         "date": "2021-02-10 23:58:48",
         "text": "😎 Today, that's this #Thursday, we will do a \"🎬 Take 2\" with our friend @LeoWandersleb, #Btc #walle…",
         "hashtags": "['Thursday', 'Btc', 'wallet', 'security']",
         "source": "Twitter for Android",
         "is_retweet": "False",
         "_deepnote_index_column": 1
        },
        {
         "user_name": "Tdlmatias",
         "user_location": "London, England",
         "user_description": "IM Academy : The best #forex, #SelfEducation, #Cryptocurrency trading education platform: https://t…",
         "user_created": "2014-11-10 10:50:37",
         "user_followers": 128,
         "user_friends": "332",
         "user_favourites": "924",
         "user_verified": "False",
         "date": "2021-02-10 23:54:48",
         "text": "Guys evening, I have read this article about BTC and would like to share with you all - https://t.c…",
         "hashtags": "nan",
         "source": "Twitter Web App",
         "is_retweet": "False",
         "_deepnote_index_column": 2
        },
        {
         "user_name": "Crypto is the future",
         "user_location": "nan",
         "user_description": "I will post a lot of buying signals for BTC trading, so I hope that you block me. Drop all everythi…",
         "user_created": "2019-09-28 16:48:12",
         "user_followers": 625,
         "user_friends": "129",
         "user_favourites": "14",
         "user_verified": "False",
         "date": "2021-02-10 23:54:33",
         "text": "$BTC A big chance in a billion! Price: \\4872644.0 (2021/02/11 08:51) #Bitcoin #FX #BTC #crypto",
         "hashtags": "['Bitcoin', 'FX', 'BTC', 'crypto']",
         "source": "dlvr.it",
         "is_retweet": "False",
         "_deepnote_index_column": 3
        },
        {
         "user_name": "Alex Kirchmaier 🇦🇹🇸🇪 #FactsSuperspreader",
         "user_location": "Europa",
         "user_description": "Co-founder @RENJERJerky | Forbes 30Under30 | Innovation Economist, Lateral Thinker, Futurist, #Cryp…",
         "user_created": "2016-02-03 13:15:55",
         "user_followers": 1249,
         "user_friends": "1472",
         "user_favourites": "10482",
         "user_verified": "False",
         "date": "2021-02-10 23:54:06",
         "text": "This network is secured by 9 508 nodes as of today. Soon, the biggest bears will recognise: #BTC in…",
         "hashtags": "['BTC']",
         "source": "Twitter Web App",
         "is_retweet": "False",
         "_deepnote_index_column": 4
        },
        {
         "user_name": "ZerrBenz™ ⚔ ✪ 20732",
         "user_location": "Bkk, Thailand",
         "user_description": "I'm a cat slave 🐱 Interested in Blockchain · Tech · Internet Marketing · Affliate · Legit Airdrop. …",
         "user_created": "2010-01-12 07:00:04",
         "user_followers": 742,
         "user_friends": "716",
         "user_favourites": "2444",
         "user_verified": "False",
         "date": "2021-02-10 23:53:30",
         "text": "💹 Trade #Crypto on #Binance \n\n📌 Enjoy #Cashback 10% of the Trading fee\n📌 Sign up link 👉 https://t.c…",
         "hashtags": "['Crypto', 'Binance', 'Cashback']",
         "source": "Twitter Web App",
         "is_retweet": "False",
         "_deepnote_index_column": 5
        },
        {
         "user_name": "Bitcoin-Bot",
         "user_location": "Florida, USA",
         "user_description": "Bot to generate Bitcoin picture as combinations of icons with random quotes. message in about every…",
         "user_created": "2019-12-23 16:49:16",
         "user_followers": 131,
         "user_friends": "84",
         "user_favourites": "5728",
         "user_verified": "False",
         "date": "2021-02-10 23:53:17",
         "text": "&lt;'fire' &amp; 'man'&gt;\n#Bitcoin #Crypto #BTC https://t.co/CV9IyODy55",
         "hashtags": "['Bitcoin', 'Crypto', 'BTC']",
         "source": "BTC_p_bot",
         "is_retweet": "False",
         "_deepnote_index_column": 6
        },
        {
         "user_name": "Cryptocurrencies / EUR",
         "user_location": "nan",
         "user_description": "Stay updated on the main cryptocurrencies of the market | @cryptosUSD for USD | Do you miss any coi…",
         "user_created": "2018-08-03 21:30:08",
         "user_followers": 4052,
         "user_friends": "1",
         "user_favourites": "9",
         "user_verified": "False",
         "date": "2021-02-10 23:52:42",
         "text": "🔄 Prices update in $EUR (1 hour):\n\n$BTC   - 37082.1 €  (-0.51 %)\n$ETH   - 1441.59 €  (+0.21 %)\n$XRP…",
         "hashtags": "nan",
         "source": "Cryptocurrencies prices to EUR",
         "is_retweet": "False",
         "_deepnote_index_column": 7
        },
        {
         "user_name": "Mikcoin",
         "user_location": "nan",
         "user_description": "Technical Analyst | Trader\n\nNo certainty, only possibilities.",
         "user_created": "2020-11-26 23:45:46",
         "user_followers": 104,
         "user_friends": "41",
         "user_favourites": "238",
         "user_verified": "False",
         "date": "2021-02-10 23:52:25",
         "text": "#BTC #Bitcoin #Ethereum #ETH #Crypto #cryptotrading \n\n$RSR I know i told you guys the target was $0…",
         "hashtags": "['BTC', 'Bitcoin', 'Ethereum', 'ETH', 'Crypto', 'cryptotrading']",
         "source": "Twitter Web App",
         "is_retweet": "False",
         "_deepnote_index_column": 8
        },
        {
         "user_name": "DeSota Wilson",
         "user_location": "Atlanta, GA",
         "user_description": "Biz Consultant, real estate, fintech, startups, posts are not the view of my employer, RTs are not …",
         "user_created": "2009-04-26 20:05:09",
         "user_followers": 8534,
         "user_friends": "7605",
         "user_favourites": "4838",
         "user_verified": "False",
         "date": "2021-02-10 23:52:08",
         "text": ".@Tesla’s #bitcoin investment is revolutionary for #crypto but other firms may not do the same just…",
         "hashtags": "['bitcoin', 'crypto']",
         "source": "Twitter Web App",
         "is_retweet": "False",
         "_deepnote_index_column": 9
        }
       ],
       "rows_bottom": null
      },
      "text/plain": "                                  user_name    user_location  \\\n0                             DeSota Wilson      Atlanta, GA   \n1                                  CryptoND              NaN   \n2                                 Tdlmatias  London, England   \n3                      Crypto is the future              NaN   \n4  Alex Kirchmaier 🇦🇹🇸🇪 #FactsSuperspreader           Europa   \n5                       ZerrBenz™ ⚔ ✪ 20732    Bkk, Thailand   \n6                               Bitcoin-Bot     Florida, USA   \n7                    Cryptocurrencies / EUR              NaN   \n8                                   Mikcoin              NaN   \n9                             DeSota Wilson      Atlanta, GA   \n\n                                    user_description         user_created  \\\n0  Biz Consultant, real estate, fintech, startups...  2009-04-26 20:05:09   \n1  😎 BITCOINLIVE is a Dutch platform aimed at inf...  2019-10-17 20:12:10   \n2  IM Academy : The best #forex, #SelfEducation, ...  2014-11-10 10:50:37   \n3  I will post a lot of buying signals for BTC tr...  2019-09-28 16:48:12   \n4  Co-founder @RENJERJerky | Forbes 30Under30 | I...  2016-02-03 13:15:55   \n5  I'm a cat slave 🐱 Interested in Blockchain · T...  2010-01-12 07:00:04   \n6  Bot to generate Bitcoin picture as combination...  2019-12-23 16:49:16   \n7  Stay updated on the main cryptocurrencies of t...  2018-08-03 21:30:08   \n8  Technical Analyst | Trader\\n\\nNo certainty, on...  2020-11-26 23:45:46   \n9  Biz Consultant, real estate, fintech, startups...  2009-04-26 20:05:09   \n\n   user_followers user_friends user_favourites user_verified  \\\n0          8534.0         7605            4838         False   \n1          6769.0         1532           25483         False   \n2           128.0          332             924         False   \n3           625.0          129              14         False   \n4          1249.0         1472           10482         False   \n5           742.0          716            2444         False   \n6           131.0           84            5728         False   \n7          4052.0            1               9         False   \n8           104.0           41             238         False   \n9          8534.0         7605            4838         False   \n\n                  date                                               text  \\\n0  2021-02-10 23:59:04  Blue Ridge Bank shares halted by NYSE after #b...   \n1  2021-02-10 23:58:48  😎 Today, that's this #Thursday, we will do a \"...   \n2  2021-02-10 23:54:48  Guys evening, I have read this article about B...   \n3  2021-02-10 23:54:33  $BTC A big chance in a billion! Price: \\487264...   \n4  2021-02-10 23:54:06  This network is secured by 9 508 nodes as of t...   \n5  2021-02-10 23:53:30  💹 Trade #Crypto on #Binance \\n\\n📌 Enjoy #Cashb...   \n6  2021-02-10 23:53:17  &lt;'fire' &amp; 'man'&gt;\\n#Bitcoin #Crypto #...   \n7  2021-02-10 23:52:42  🔄 Prices update in $EUR (1 hour):\\n\\n$BTC   - ...   \n8  2021-02-10 23:52:25  #BTC #Bitcoin #Ethereum #ETH #Crypto #cryptotr...   \n9  2021-02-10 23:52:08  .@Tesla’s #bitcoin investment is revolutionary...   \n\n                                            hashtags  \\\n0                                        ['bitcoin']   \n1          ['Thursday', 'Btc', 'wallet', 'security']   \n2                                                NaN   \n3                 ['Bitcoin', 'FX', 'BTC', 'crypto']   \n4                                            ['BTC']   \n5                  ['Crypto', 'Binance', 'Cashback']   \n6                       ['Bitcoin', 'Crypto', 'BTC']   \n7                                                NaN   \n8  ['BTC', 'Bitcoin', 'Ethereum', 'ETH', 'Crypto'...   \n9                              ['bitcoin', 'crypto']   \n\n                           source is_retweet  \n0                 Twitter Web App      False  \n1             Twitter for Android      False  \n2                 Twitter Web App      False  \n3                         dlvr.it      False  \n4                 Twitter Web App      False  \n5                 Twitter Web App      False  \n6                       BTC_p_bot      False  \n7  Cryptocurrencies prices to EUR      False  \n8                 Twitter Web App      False  \n9                 Twitter Web App      False  ",
      "text/html": "<div>\n<style scoped>\n    .dataframe tbody tr th:only-of-type {\n        vertical-align: middle;\n    }\n\n    .dataframe tbody tr th {\n        vertical-align: top;\n    }\n\n    .dataframe thead th {\n        text-align: right;\n    }\n</style>\n<table border=\"1\" class=\"dataframe\">\n  <thead>\n    <tr style=\"text-align: right;\">\n      <th></th>\n      <th>user_name</th>\n      <th>user_location</th>\n      <th>user_description</th>\n      <th>user_created</th>\n      <th>user_followers</th>\n      <th>user_friends</th>\n      <th>user_favourites</th>\n      <th>user_verified</th>\n      <th>date</th>\n      <th>text</th>\n      <th>hashtags</th>\n      <th>source</th>\n      <th>is_retweet</th>\n    </tr>\n  </thead>\n  <tbody>\n    <tr>\n      <th>0</th>\n      <td>DeSota Wilson</td>\n      <td>Atlanta, GA</td>\n      <td>Biz Consultant, real estate, fintech, startups...</td>\n      <td>2009-04-26 20:05:09</td>\n      <td>8534.0</td>\n      <td>7605</td>\n      <td>4838</td>\n      <td>False</td>\n      <td>2021-02-10 23:59:04</td>\n      <td>Blue Ridge Bank shares halted by NYSE after #b...</td>\n      <td>['bitcoin']</td>\n      <td>Twitter Web App</td>\n      <td>False</td>\n    </tr>\n    <tr>\n      <th>1</th>\n      <td>CryptoND</td>\n      <td>NaN</td>\n      <td>😎 BITCOINLIVE is a Dutch platform aimed at inf...</td>\n      <td>2019-10-17 20:12:10</td>\n      <td>6769.0</td>\n      <td>1532</td>\n      <td>25483</td>\n      <td>False</td>\n      <td>2021-02-10 23:58:48</td>\n      <td>😎 Today, that's this #Thursday, we will do a \"...</td>\n      <td>['Thursday', 'Btc', 'wallet', 'security']</td>\n      <td>Twitter for Android</td>\n      <td>False</td>\n    </tr>\n    <tr>\n      <th>2</th>\n      <td>Tdlmatias</td>\n      <td>London, England</td>\n      <td>IM Academy : The best #forex, #SelfEducation, ...</td>\n      <td>2014-11-10 10:50:37</td>\n      <td>128.0</td>\n      <td>332</td>\n      <td>924</td>\n      <td>False</td>\n      <td>2021-02-10 23:54:48</td>\n      <td>Guys evening, I have read this article about B...</td>\n      <td>NaN</td>\n      <td>Twitter Web App</td>\n      <td>False</td>\n    </tr>\n    <tr>\n      <th>3</th>\n      <td>Crypto is the future</td>\n      <td>NaN</td>\n      <td>I will post a lot of buying signals for BTC tr...</td>\n      <td>2019-09-28 16:48:12</td>\n      <td>625.0</td>\n      <td>129</td>\n      <td>14</td>\n      <td>False</td>\n      <td>2021-02-10 23:54:33</td>\n      <td>$BTC A big chance in a billion! Price: \\487264...</td>\n      <td>['Bitcoin', 'FX', 'BTC', 'crypto']</td>\n      <td>dlvr.it</td>\n      <td>False</td>\n    </tr>\n    <tr>\n      <th>4</th>\n      <td>Alex Kirchmaier 🇦🇹🇸🇪 #FactsSuperspreader</td>\n      <td>Europa</td>\n      <td>Co-founder @RENJERJerky | Forbes 30Under30 | I...</td>\n      <td>2016-02-03 13:15:55</td>\n      <td>1249.0</td>\n      <td>1472</td>\n      <td>10482</td>\n      <td>False</td>\n      <td>2021-02-10 23:54:06</td>\n      <td>This network is secured by 9 508 nodes as of t...</td>\n      <td>['BTC']</td>\n      <td>Twitter Web App</td>\n      <td>False</td>\n    </tr>\n    <tr>\n      <th>5</th>\n      <td>ZerrBenz™ ⚔ ✪ 20732</td>\n      <td>Bkk, Thailand</td>\n      <td>I'm a cat slave 🐱 Interested in Blockchain · T...</td>\n      <td>2010-01-12 07:00:04</td>\n      <td>742.0</td>\n      <td>716</td>\n      <td>2444</td>\n      <td>False</td>\n      <td>2021-02-10 23:53:30</td>\n      <td>💹 Trade #Crypto on #Binance \\n\\n📌 Enjoy #Cashb...</td>\n      <td>['Crypto', 'Binance', 'Cashback']</td>\n      <td>Twitter Web App</td>\n      <td>False</td>\n    </tr>\n    <tr>\n      <th>6</th>\n      <td>Bitcoin-Bot</td>\n      <td>Florida, USA</td>\n      <td>Bot to generate Bitcoin picture as combination...</td>\n      <td>2019-12-23 16:49:16</td>\n      <td>131.0</td>\n      <td>84</td>\n      <td>5728</td>\n      <td>False</td>\n      <td>2021-02-10 23:53:17</td>\n      <td>&amp;lt;'fire' &amp;amp; 'man'&amp;gt;\\n#Bitcoin #Crypto #...</td>\n      <td>['Bitcoin', 'Crypto', 'BTC']</td>\n      <td>BTC_p_bot</td>\n      <td>False</td>\n    </tr>\n    <tr>\n      <th>7</th>\n      <td>Cryptocurrencies / EUR</td>\n      <td>NaN</td>\n      <td>Stay updated on the main cryptocurrencies of t...</td>\n      <td>2018-08-03 21:30:08</td>\n      <td>4052.0</td>\n      <td>1</td>\n      <td>9</td>\n      <td>False</td>\n      <td>2021-02-10 23:52:42</td>\n      <td>🔄 Prices update in $EUR (1 hour):\\n\\n$BTC   - ...</td>\n      <td>NaN</td>\n      <td>Cryptocurrencies prices to EUR</td>\n      <td>False</td>\n    </tr>\n    <tr>\n      <th>8</th>\n      <td>Mikcoin</td>\n      <td>NaN</td>\n      <td>Technical Analyst | Trader\\n\\nNo certainty, on...</td>\n      <td>2020-11-26 23:45:46</td>\n      <td>104.0</td>\n      <td>41</td>\n      <td>238</td>\n      <td>False</td>\n      <td>2021-02-10 23:52:25</td>\n      <td>#BTC #Bitcoin #Ethereum #ETH #Crypto #cryptotr...</td>\n      <td>['BTC', 'Bitcoin', 'Ethereum', 'ETH', 'Crypto'...</td>\n      <td>Twitter Web App</td>\n      <td>False</td>\n    </tr>\n    <tr>\n      <th>9</th>\n      <td>DeSota Wilson</td>\n      <td>Atlanta, GA</td>\n      <td>Biz Consultant, real estate, fintech, startups...</td>\n      <td>2009-04-26 20:05:09</td>\n      <td>8534.0</td>\n      <td>7605</td>\n      <td>4838</td>\n      <td>False</td>\n      <td>2021-02-10 23:52:08</td>\n      <td>.@Tesla’s #bitcoin investment is revolutionary...</td>\n      <td>['bitcoin', 'crypto']</td>\n      <td>Twitter Web App</td>\n      <td>False</td>\n    </tr>\n  </tbody>\n</table>\n</div>"
     },
     "metadata": {}
    }
   ]
  },
  {
   "cell_type": "code",
   "metadata": {
    "tags": [],
    "cell_id": "00002-bd7545ee-d2d8-42a1-af18-f337dc0a69dd",
    "deepnote_to_be_reexecuted": false,
    "source_hash": "9c014366",
    "execution_start": 1622302008459,
    "execution_millis": 117,
    "deepnote_cell_type": "code"
   },
   "source": "#Removing NaNs from Hashtag column\ndf. dropna(subset = [\"hashtags\"], inplace=True)\ndf.head(10)",
   "execution_count": 3,
   "outputs": [
    {
     "output_type": "execute_result",
     "execution_count": 3,
     "data": {
      "application/vnd.deepnote.dataframe.v2+json": {
       "row_count": 10,
       "column_count": 13,
       "columns": [
        {
         "name": "user_name",
         "dtype": "object",
         "stats": {
          "unique_count": 9,
          "nan_count": 0,
          "categories": [
           {
            "name": "DeSota Wilson",
            "count": 2
           },
           {
            "name": "CryptoND",
            "count": 1
           },
           {
            "name": "7 others",
            "count": 7
           }
          ]
         }
        },
        {
         "name": "user_location",
         "dtype": "object",
         "stats": {
          "unique_count": 6,
          "nan_count": 3,
          "categories": [
           {
            "name": "Atlanta, GA",
            "count": 2
           },
           {
            "name": "5 others",
            "count": 5
           },
           {
            "name": "Missing",
            "count": 3
           }
          ]
         }
        },
        {
         "name": "user_description",
         "dtype": "object",
         "stats": {
          "unique_count": 9,
          "nan_count": 0,
          "categories": [
           {
            "name": "Biz Consultant, real estate, fintech, startups, posts are not the view of my employer, RTs are not endorsements, military brat, @UNC alumnus, ΚΑΨ♦️ΦΝΠ, -DW = Me",
            "count": 2
           },
           {
            "name": "😎 BITCOINLIVE is a Dutch platform aimed at informing the general public about crypto & technology! 😉 AND promoting it: https://t.co/5RYdRnUSud",
            "count": 1
           },
           {
            "name": "7 others",
            "count": 7
           }
          ]
         }
        },
        {
         "name": "user_created",
         "dtype": "object",
         "stats": {
          "unique_count": 9,
          "nan_count": 0,
          "categories": [
           {
            "name": "2009-04-26 20:05:09",
            "count": 2
           },
           {
            "name": "2019-10-17 20:12:10",
            "count": 1
           },
           {
            "name": "7 others",
            "count": 7
           }
          ]
         }
        },
        {
         "name": "user_followers",
         "dtype": "float64",
         "stats": {
          "unique_count": 9,
          "nan_count": 0,
          "min": "104.0",
          "max": "8534.0",
          "histogram": [
           {
            "bin_start": 104,
            "bin_end": 947,
            "count": 5
           },
           {
            "bin_start": 947,
            "bin_end": 1790,
            "count": 2
           },
           {
            "bin_start": 1790,
            "bin_end": 2633,
            "count": 0
           },
           {
            "bin_start": 2633,
            "bin_end": 3476,
            "count": 0
           },
           {
            "bin_start": 3476,
            "bin_end": 4319,
            "count": 0
           },
           {
            "bin_start": 4319,
            "bin_end": 5162,
            "count": 0
           },
           {
            "bin_start": 5162,
            "bin_end": 6005,
            "count": 0
           },
           {
            "bin_start": 6005,
            "bin_end": 6848,
            "count": 1
           },
           {
            "bin_start": 6848,
            "bin_end": 7691,
            "count": 0
           },
           {
            "bin_start": 7691,
            "bin_end": 8534,
            "count": 2
           }
          ]
         }
        },
        {
         "name": "user_friends",
         "dtype": "object",
         "stats": {
          "unique_count": 9,
          "nan_count": 0,
          "categories": [
           {
            "name": "7605",
            "count": 2
           },
           {
            "name": "1532",
            "count": 1
           },
           {
            "name": "7 others",
            "count": 7
           }
          ]
         }
        },
        {
         "name": "user_favourites",
         "dtype": "object",
         "stats": {
          "unique_count": 9,
          "nan_count": 0,
          "categories": [
           {
            "name": "4838",
            "count": 2
           },
           {
            "name": "25483",
            "count": 1
           },
           {
            "name": "7 others",
            "count": 7
           }
          ]
         }
        },
        {
         "name": "user_verified",
         "dtype": "object",
         "stats": {
          "unique_count": 1,
          "nan_count": 0,
          "categories": [
           {
            "name": "False",
            "count": 10
           }
          ]
         }
        },
        {
         "name": "date",
         "dtype": "object",
         "stats": {
          "unique_count": 10,
          "nan_count": 0,
          "categories": [
           {
            "name": "2021-02-10 23:59:04",
            "count": 1
           },
           {
            "name": "2021-02-10 23:58:48",
            "count": 1
           },
           {
            "name": "8 others",
            "count": 8
           }
          ]
         }
        },
        {
         "name": "text",
         "dtype": "object",
         "stats": {
          "unique_count": 10,
          "nan_count": 0,
          "categories": [
           {
            "name": "Blue Ridge Bank shares halted by NYSE after #bitcoin ATM announcement https://t.co/xaaZmaJKiV @MyBlueRidgeBank… https://t.co/sgBxMkP1SI",
            "count": 1
           },
           {
            "name": "😎 Today, that's this #Thursday, we will do a \"🎬 Take 2\" with our friend @LeoWandersleb, #Btc #wallet #security expe… https://t.co/go6aDgRml5",
            "count": 1
           },
           {
            "name": "8 others",
            "count": 8
           }
          ]
         }
        },
        {
         "name": "hashtags",
         "dtype": "object",
         "stats": {
          "unique_count": 10,
          "nan_count": 0,
          "categories": [
           {
            "name": "['bitcoin']",
            "count": 1
           },
           {
            "name": "['Thursday', 'Btc', 'wallet', 'security']",
            "count": 1
           },
           {
            "name": "8 others",
            "count": 8
           }
          ]
         }
        },
        {
         "name": "source",
         "dtype": "object",
         "stats": {
          "unique_count": 4,
          "nan_count": 0,
          "categories": [
           {
            "name": "Twitter Web App",
            "count": 6
           },
           {
            "name": "Twitter for Android",
            "count": 2
           },
           {
            "name": "2 others",
            "count": 2
           }
          ]
         }
        },
        {
         "name": "is_retweet",
         "dtype": "object",
         "stats": {
          "unique_count": 1,
          "nan_count": 0,
          "categories": [
           {
            "name": "False",
            "count": 10
           }
          ]
         }
        },
        {
         "name": "_deepnote_index_column",
         "dtype": "int64"
        }
       ],
       "rows_top": [
        {
         "user_name": "DeSota Wilson",
         "user_location": "Atlanta, GA",
         "user_description": "Biz Consultant, real estate, fintech, startups, posts are not the view of my employer, RTs are not …",
         "user_created": "2009-04-26 20:05:09",
         "user_followers": 8534,
         "user_friends": "7605",
         "user_favourites": "4838",
         "user_verified": "False",
         "date": "2021-02-10 23:59:04",
         "text": "Blue Ridge Bank shares halted by NYSE after #bitcoin ATM announcement https://t.co/xaaZmaJKiV @MyBl…",
         "hashtags": "['bitcoin']",
         "source": "Twitter Web App",
         "is_retweet": "False",
         "_deepnote_index_column": 0
        },
        {
         "user_name": "CryptoND",
         "user_location": "nan",
         "user_description": "😎 BITCOINLIVE is a Dutch platform aimed at informing the general public about crypto & technology! …",
         "user_created": "2019-10-17 20:12:10",
         "user_followers": 6769,
         "user_friends": "1532",
         "user_favourites": "25483",
         "user_verified": "False",
         "date": "2021-02-10 23:58:48",
         "text": "😎 Today, that's this #Thursday, we will do a \"🎬 Take 2\" with our friend @LeoWandersleb, #Btc #walle…",
         "hashtags": "['Thursday', 'Btc', 'wallet', 'security']",
         "source": "Twitter for Android",
         "is_retweet": "False",
         "_deepnote_index_column": 1
        },
        {
         "user_name": "Crypto is the future",
         "user_location": "nan",
         "user_description": "I will post a lot of buying signals for BTC trading, so I hope that you block me. Drop all everythi…",
         "user_created": "2019-09-28 16:48:12",
         "user_followers": 625,
         "user_friends": "129",
         "user_favourites": "14",
         "user_verified": "False",
         "date": "2021-02-10 23:54:33",
         "text": "$BTC A big chance in a billion! Price: \\4872644.0 (2021/02/11 08:51) #Bitcoin #FX #BTC #crypto",
         "hashtags": "['Bitcoin', 'FX', 'BTC', 'crypto']",
         "source": "dlvr.it",
         "is_retweet": "False",
         "_deepnote_index_column": 3
        },
        {
         "user_name": "Alex Kirchmaier 🇦🇹🇸🇪 #FactsSuperspreader",
         "user_location": "Europa",
         "user_description": "Co-founder @RENJERJerky | Forbes 30Under30 | Innovation Economist, Lateral Thinker, Futurist, #Cryp…",
         "user_created": "2016-02-03 13:15:55",
         "user_followers": 1249,
         "user_friends": "1472",
         "user_favourites": "10482",
         "user_verified": "False",
         "date": "2021-02-10 23:54:06",
         "text": "This network is secured by 9 508 nodes as of today. Soon, the biggest bears will recognise: #BTC in…",
         "hashtags": "['BTC']",
         "source": "Twitter Web App",
         "is_retweet": "False",
         "_deepnote_index_column": 4
        },
        {
         "user_name": "ZerrBenz™ ⚔ ✪ 20732",
         "user_location": "Bkk, Thailand",
         "user_description": "I'm a cat slave 🐱 Interested in Blockchain · Tech · Internet Marketing · Affliate · Legit Airdrop. …",
         "user_created": "2010-01-12 07:00:04",
         "user_followers": 742,
         "user_friends": "716",
         "user_favourites": "2444",
         "user_verified": "False",
         "date": "2021-02-10 23:53:30",
         "text": "💹 Trade #Crypto on #Binance \n\n📌 Enjoy #Cashback 10% of the Trading fee\n📌 Sign up link 👉 https://t.c…",
         "hashtags": "['Crypto', 'Binance', 'Cashback']",
         "source": "Twitter Web App",
         "is_retweet": "False",
         "_deepnote_index_column": 5
        },
        {
         "user_name": "Bitcoin-Bot",
         "user_location": "Florida, USA",
         "user_description": "Bot to generate Bitcoin picture as combinations of icons with random quotes. message in about every…",
         "user_created": "2019-12-23 16:49:16",
         "user_followers": 131,
         "user_friends": "84",
         "user_favourites": "5728",
         "user_verified": "False",
         "date": "2021-02-10 23:53:17",
         "text": "&lt;'fire' &amp; 'man'&gt;\n#Bitcoin #Crypto #BTC https://t.co/CV9IyODy55",
         "hashtags": "['Bitcoin', 'Crypto', 'BTC']",
         "source": "BTC_p_bot",
         "is_retweet": "False",
         "_deepnote_index_column": 6
        },
        {
         "user_name": "Mikcoin",
         "user_location": "nan",
         "user_description": "Technical Analyst | Trader\n\nNo certainty, only possibilities.",
         "user_created": "2020-11-26 23:45:46",
         "user_followers": 104,
         "user_friends": "41",
         "user_favourites": "238",
         "user_verified": "False",
         "date": "2021-02-10 23:52:25",
         "text": "#BTC #Bitcoin #Ethereum #ETH #Crypto #cryptotrading \n\n$RSR I know i told you guys the target was $0…",
         "hashtags": "['BTC', 'Bitcoin', 'Ethereum', 'ETH', 'Crypto', 'cryptotrading']",
         "source": "Twitter Web App",
         "is_retweet": "False",
         "_deepnote_index_column": 8
        },
        {
         "user_name": "DeSota Wilson",
         "user_location": "Atlanta, GA",
         "user_description": "Biz Consultant, real estate, fintech, startups, posts are not the view of my employer, RTs are not …",
         "user_created": "2009-04-26 20:05:09",
         "user_followers": 8534,
         "user_friends": "7605",
         "user_favourites": "4838",
         "user_verified": "False",
         "date": "2021-02-10 23:52:08",
         "text": ".@Tesla’s #bitcoin investment is revolutionary for #crypto but other firms may not do the same just…",
         "hashtags": "['bitcoin', 'crypto']",
         "source": "Twitter Web App",
         "is_retweet": "False",
         "_deepnote_index_column": 9
        },
        {
         "user_name": "@massumeh18 #RefinedWarrior #Activist",
         "user_location": "NOVA",
         "user_description": "Persistent. to the extreme... #FREEPALESTINE #PersianPride 🇮🇷❤️💚❤️",
         "user_created": "2009-01-05 13:28:47",
         "user_followers": 1159,
         "user_friends": "2185",
         "user_favourites": "30852",
         "user_verified": "False",
         "date": "2021-02-10 23:52:04",
         "text": "Annnd #btc #Bitcoin is headed even higher now... https://t.co/EHAduI087d",
         "hashtags": "['btc', 'Bitcoin']",
         "source": "Twitter Web App",
         "is_retweet": "False",
         "_deepnote_index_column": 10
        },
        {
         "user_name": "One Perspective",
         "user_location": "Market Place",
         "user_description": "It's all a market of markets.\n\nPast performance of a security or strategy does not guarantee future…",
         "user_created": "2018-01-09 21:49:45",
         "user_followers": 668,
         "user_friends": "1097",
         "user_favourites": "6853",
         "user_verified": "False",
         "date": "2021-02-10 23:50:30",
         "text": "#Bitcoin #BTC $BTC $GBTC $RIOT $MARA $ETH $ETHE #AAVE #DeFi $AAVE $COMP $CGLD $GRT #Crypto #cryptoc…",
         "hashtags": "['Bitcoin', 'BTC', 'AAVE', 'DeFi', 'Crypto', 'cryptocurrency']",
         "source": "Twitter for Android",
         "is_retweet": "False",
         "_deepnote_index_column": 13
        }
       ],
       "rows_bottom": null
      },
      "text/plain": "                                   user_name  user_location  \\\n0                              DeSota Wilson    Atlanta, GA   \n1                                   CryptoND            NaN   \n3                       Crypto is the future            NaN   \n4   Alex Kirchmaier 🇦🇹🇸🇪 #FactsSuperspreader         Europa   \n5                        ZerrBenz™ ⚔ ✪ 20732  Bkk, Thailand   \n6                                Bitcoin-Bot   Florida, USA   \n8                                    Mikcoin            NaN   \n9                              DeSota Wilson    Atlanta, GA   \n10     @massumeh18 #RefinedWarrior #Activist           NOVA   \n13                           One Perspective   Market Place   \n\n                                     user_description         user_created  \\\n0   Biz Consultant, real estate, fintech, startups...  2009-04-26 20:05:09   \n1   😎 BITCOINLIVE is a Dutch platform aimed at inf...  2019-10-17 20:12:10   \n3   I will post a lot of buying signals for BTC tr...  2019-09-28 16:48:12   \n4   Co-founder @RENJERJerky | Forbes 30Under30 | I...  2016-02-03 13:15:55   \n5   I'm a cat slave 🐱 Interested in Blockchain · T...  2010-01-12 07:00:04   \n6   Bot to generate Bitcoin picture as combination...  2019-12-23 16:49:16   \n8   Technical Analyst | Trader\\n\\nNo certainty, on...  2020-11-26 23:45:46   \n9   Biz Consultant, real estate, fintech, startups...  2009-04-26 20:05:09   \n10  Persistent. to the extreme... #FREEPALESTINE #...  2009-01-05 13:28:47   \n13  It's all a market of markets.\\n\\nPast performa...  2018-01-09 21:49:45   \n\n    user_followers user_friends user_favourites user_verified  \\\n0           8534.0         7605            4838         False   \n1           6769.0         1532           25483         False   \n3            625.0          129              14         False   \n4           1249.0         1472           10482         False   \n5            742.0          716            2444         False   \n6            131.0           84            5728         False   \n8            104.0           41             238         False   \n9           8534.0         7605            4838         False   \n10          1159.0         2185           30852         False   \n13           668.0         1097            6853         False   \n\n                   date                                               text  \\\n0   2021-02-10 23:59:04  Blue Ridge Bank shares halted by NYSE after #b...   \n1   2021-02-10 23:58:48  😎 Today, that's this #Thursday, we will do a \"...   \n3   2021-02-10 23:54:33  $BTC A big chance in a billion! Price: \\487264...   \n4   2021-02-10 23:54:06  This network is secured by 9 508 nodes as of t...   \n5   2021-02-10 23:53:30  💹 Trade #Crypto on #Binance \\n\\n📌 Enjoy #Cashb...   \n6   2021-02-10 23:53:17  &lt;'fire' &amp; 'man'&gt;\\n#Bitcoin #Crypto #...   \n8   2021-02-10 23:52:25  #BTC #Bitcoin #Ethereum #ETH #Crypto #cryptotr...   \n9   2021-02-10 23:52:08  .@Tesla’s #bitcoin investment is revolutionary...   \n10  2021-02-10 23:52:04  Annnd #btc #Bitcoin is headed even higher now....   \n13  2021-02-10 23:50:30  #Bitcoin #BTC $BTC $GBTC $RIOT $MARA $ETH $ETH...   \n\n                                             hashtags               source  \\\n0                                         ['bitcoin']      Twitter Web App   \n1           ['Thursday', 'Btc', 'wallet', 'security']  Twitter for Android   \n3                  ['Bitcoin', 'FX', 'BTC', 'crypto']              dlvr.it   \n4                                             ['BTC']      Twitter Web App   \n5                   ['Crypto', 'Binance', 'Cashback']      Twitter Web App   \n6                        ['Bitcoin', 'Crypto', 'BTC']            BTC_p_bot   \n8   ['BTC', 'Bitcoin', 'Ethereum', 'ETH', 'Crypto'...      Twitter Web App   \n9                               ['bitcoin', 'crypto']      Twitter Web App   \n10                                 ['btc', 'Bitcoin']      Twitter Web App   \n13  ['Bitcoin', 'BTC', 'AAVE', 'DeFi', 'Crypto', '...  Twitter for Android   \n\n   is_retweet  \n0       False  \n1       False  \n3       False  \n4       False  \n5       False  \n6       False  \n8       False  \n9       False  \n10      False  \n13      False  ",
      "text/html": "<div>\n<style scoped>\n    .dataframe tbody tr th:only-of-type {\n        vertical-align: middle;\n    }\n\n    .dataframe tbody tr th {\n        vertical-align: top;\n    }\n\n    .dataframe thead th {\n        text-align: right;\n    }\n</style>\n<table border=\"1\" class=\"dataframe\">\n  <thead>\n    <tr style=\"text-align: right;\">\n      <th></th>\n      <th>user_name</th>\n      <th>user_location</th>\n      <th>user_description</th>\n      <th>user_created</th>\n      <th>user_followers</th>\n      <th>user_friends</th>\n      <th>user_favourites</th>\n      <th>user_verified</th>\n      <th>date</th>\n      <th>text</th>\n      <th>hashtags</th>\n      <th>source</th>\n      <th>is_retweet</th>\n    </tr>\n  </thead>\n  <tbody>\n    <tr>\n      <th>0</th>\n      <td>DeSota Wilson</td>\n      <td>Atlanta, GA</td>\n      <td>Biz Consultant, real estate, fintech, startups...</td>\n      <td>2009-04-26 20:05:09</td>\n      <td>8534.0</td>\n      <td>7605</td>\n      <td>4838</td>\n      <td>False</td>\n      <td>2021-02-10 23:59:04</td>\n      <td>Blue Ridge Bank shares halted by NYSE after #b...</td>\n      <td>['bitcoin']</td>\n      <td>Twitter Web App</td>\n      <td>False</td>\n    </tr>\n    <tr>\n      <th>1</th>\n      <td>CryptoND</td>\n      <td>NaN</td>\n      <td>😎 BITCOINLIVE is a Dutch platform aimed at inf...</td>\n      <td>2019-10-17 20:12:10</td>\n      <td>6769.0</td>\n      <td>1532</td>\n      <td>25483</td>\n      <td>False</td>\n      <td>2021-02-10 23:58:48</td>\n      <td>😎 Today, that's this #Thursday, we will do a \"...</td>\n      <td>['Thursday', 'Btc', 'wallet', 'security']</td>\n      <td>Twitter for Android</td>\n      <td>False</td>\n    </tr>\n    <tr>\n      <th>3</th>\n      <td>Crypto is the future</td>\n      <td>NaN</td>\n      <td>I will post a lot of buying signals for BTC tr...</td>\n      <td>2019-09-28 16:48:12</td>\n      <td>625.0</td>\n      <td>129</td>\n      <td>14</td>\n      <td>False</td>\n      <td>2021-02-10 23:54:33</td>\n      <td>$BTC A big chance in a billion! Price: \\487264...</td>\n      <td>['Bitcoin', 'FX', 'BTC', 'crypto']</td>\n      <td>dlvr.it</td>\n      <td>False</td>\n    </tr>\n    <tr>\n      <th>4</th>\n      <td>Alex Kirchmaier 🇦🇹🇸🇪 #FactsSuperspreader</td>\n      <td>Europa</td>\n      <td>Co-founder @RENJERJerky | Forbes 30Under30 | I...</td>\n      <td>2016-02-03 13:15:55</td>\n      <td>1249.0</td>\n      <td>1472</td>\n      <td>10482</td>\n      <td>False</td>\n      <td>2021-02-10 23:54:06</td>\n      <td>This network is secured by 9 508 nodes as of t...</td>\n      <td>['BTC']</td>\n      <td>Twitter Web App</td>\n      <td>False</td>\n    </tr>\n    <tr>\n      <th>5</th>\n      <td>ZerrBenz™ ⚔ ✪ 20732</td>\n      <td>Bkk, Thailand</td>\n      <td>I'm a cat slave 🐱 Interested in Blockchain · T...</td>\n      <td>2010-01-12 07:00:04</td>\n      <td>742.0</td>\n      <td>716</td>\n      <td>2444</td>\n      <td>False</td>\n      <td>2021-02-10 23:53:30</td>\n      <td>💹 Trade #Crypto on #Binance \\n\\n📌 Enjoy #Cashb...</td>\n      <td>['Crypto', 'Binance', 'Cashback']</td>\n      <td>Twitter Web App</td>\n      <td>False</td>\n    </tr>\n    <tr>\n      <th>6</th>\n      <td>Bitcoin-Bot</td>\n      <td>Florida, USA</td>\n      <td>Bot to generate Bitcoin picture as combination...</td>\n      <td>2019-12-23 16:49:16</td>\n      <td>131.0</td>\n      <td>84</td>\n      <td>5728</td>\n      <td>False</td>\n      <td>2021-02-10 23:53:17</td>\n      <td>&amp;lt;'fire' &amp;amp; 'man'&amp;gt;\\n#Bitcoin #Crypto #...</td>\n      <td>['Bitcoin', 'Crypto', 'BTC']</td>\n      <td>BTC_p_bot</td>\n      <td>False</td>\n    </tr>\n    <tr>\n      <th>8</th>\n      <td>Mikcoin</td>\n      <td>NaN</td>\n      <td>Technical Analyst | Trader\\n\\nNo certainty, on...</td>\n      <td>2020-11-26 23:45:46</td>\n      <td>104.0</td>\n      <td>41</td>\n      <td>238</td>\n      <td>False</td>\n      <td>2021-02-10 23:52:25</td>\n      <td>#BTC #Bitcoin #Ethereum #ETH #Crypto #cryptotr...</td>\n      <td>['BTC', 'Bitcoin', 'Ethereum', 'ETH', 'Crypto'...</td>\n      <td>Twitter Web App</td>\n      <td>False</td>\n    </tr>\n    <tr>\n      <th>9</th>\n      <td>DeSota Wilson</td>\n      <td>Atlanta, GA</td>\n      <td>Biz Consultant, real estate, fintech, startups...</td>\n      <td>2009-04-26 20:05:09</td>\n      <td>8534.0</td>\n      <td>7605</td>\n      <td>4838</td>\n      <td>False</td>\n      <td>2021-02-10 23:52:08</td>\n      <td>.@Tesla’s #bitcoin investment is revolutionary...</td>\n      <td>['bitcoin', 'crypto']</td>\n      <td>Twitter Web App</td>\n      <td>False</td>\n    </tr>\n    <tr>\n      <th>10</th>\n      <td>@massumeh18 #RefinedWarrior #Activist</td>\n      <td>NOVA</td>\n      <td>Persistent. to the extreme... #FREEPALESTINE #...</td>\n      <td>2009-01-05 13:28:47</td>\n      <td>1159.0</td>\n      <td>2185</td>\n      <td>30852</td>\n      <td>False</td>\n      <td>2021-02-10 23:52:04</td>\n      <td>Annnd #btc #Bitcoin is headed even higher now....</td>\n      <td>['btc', 'Bitcoin']</td>\n      <td>Twitter Web App</td>\n      <td>False</td>\n    </tr>\n    <tr>\n      <th>13</th>\n      <td>One Perspective</td>\n      <td>Market Place</td>\n      <td>It's all a market of markets.\\n\\nPast performa...</td>\n      <td>2018-01-09 21:49:45</td>\n      <td>668.0</td>\n      <td>1097</td>\n      <td>6853</td>\n      <td>False</td>\n      <td>2021-02-10 23:50:30</td>\n      <td>#Bitcoin #BTC $BTC $GBTC $RIOT $MARA $ETH $ETH...</td>\n      <td>['Bitcoin', 'BTC', 'AAVE', 'DeFi', 'Crypto', '...</td>\n      <td>Twitter for Android</td>\n      <td>False</td>\n    </tr>\n  </tbody>\n</table>\n</div>"
     },
     "metadata": {}
    }
   ]
  },
  {
   "cell_type": "code",
   "source": "# How Many tweets?\nprint(\"Size of twwets: \", len(df))",
   "metadata": {
    "tags": [],
    "cell_id": "00003-2e61c439-e309-4224-a96d-b10980ac8709",
    "deepnote_to_be_reexecuted": false,
    "source_hash": "71cf71f4",
    "execution_start": 1622302008582,
    "execution_millis": 59245,
    "deepnote_cell_type": "code"
   },
   "outputs": [
    {
     "name": "stdout",
     "text": "Size of twwets:  89897\n",
     "output_type": "stream"
    }
   ],
   "execution_count": 4
  },
  {
   "cell_type": "code",
   "metadata": {
    "tags": [],
    "cell_id": "00003-4fc30def-8acb-46d5-84cc-fe6995e4a10e",
    "deepnote_to_be_reexecuted": false,
    "source_hash": "231551b0",
    "execution_start": 1622302008607,
    "execution_millis": 59219,
    "deepnote_cell_type": "code"
   },
   "source": "# Getting only the texts\ndf = df[['text']]\ndf.columns = ['tweets']",
   "execution_count": 5,
   "outputs": []
  },
  {
   "cell_type": "code",
   "metadata": {
    "tags": [],
    "cell_id": "00004-ed5c92f7-6e76-4256-925e-1c9a204d11ec",
    "deepnote_to_be_reexecuted": false,
    "source_hash": "718bea49",
    "execution_start": 1622302008658,
    "execution_millis": 59216,
    "deepnote_cell_type": "code"
   },
   "source": "# Cleaning text \ndef cleanText(twt):\n    twt = re.sub(\"#bitcoin\", 'bitcoin', twt) # removes the '#' from bitcoin\n    twt = re.sub(\"#Bitcoin\", 'Bitcoin', twt) # removes the '#' from Bitcoin\n    twt = re.sub('#[A-Za-z0-9]+', '', twt) # removes any string with a '#'\n    twt = re.sub('\\\\n', '', twt) # removes the '\\n' string\n    twt = re.sub('https:\\/\\/\\S+', '', twt) # removes any hyperlinks\n    return twt",
   "execution_count": 6,
   "outputs": []
  },
  {
   "cell_type": "code",
   "metadata": {
    "tags": [],
    "cell_id": "00005-8c279934-91b7-4248-a8b1-553ca7f634e7",
    "deepnote_to_be_reexecuted": false,
    "source_hash": "b902a1ba",
    "execution_start": 1622302008659,
    "execution_millis": 1699,
    "deepnote_cell_type": "code"
   },
   "source": "# Clean Data Frame\ndf['cleaned_text'] = df['tweets'].apply(cleanText)\ndf",
   "execution_count": 7,
   "outputs": [
    {
     "output_type": "execute_result",
     "execution_count": 7,
     "data": {
      "application/vnd.deepnote.dataframe.v2+json": {
       "row_count": 89897,
       "column_count": 2,
       "columns": [
        {
         "name": "tweets",
         "dtype": "object",
         "stats": {
          "unique_count": 89381,
          "nan_count": 0,
          "categories": [
           {
            "name": "@IcoIzobi Amazing project because it is very helpful for make money\n#blockchain #crypto #bitcoin #btc #cryptotrading #tokensale #ico #sales #ICO #iconews #privatesale #iZOBi #iZOBiICO #investment #tokensales #investors #bitcointrading #erc20 #handyman #handymanservices #app #iZOBiApp",
            "count": 59
           },
           {
            "name": "@IcoIzobi Great project 👍👍👍\n#blockchain #crypto #bitcoin #btc #cryptotrading #tokensale #ico #sales #ICO #iconews #privatesale #iZOBi #iZOBiICO #investment #tokensales #investors #bitcointrading #erc20 #handyman #handymanservices #app #iZOBiApp",
            "count": 33
           },
           {
            "name": "89379 others",
            "count": 89805
           }
          ]
         }
        },
        {
         "name": "cleaned_text",
         "dtype": "object"
        },
        {
         "name": "_deepnote_index_column",
         "dtype": "int64"
        }
       ],
       "rows_top": [
        {
         "tweets": "Blue Ridge Bank shares halted by NYSE after #bitcoin ATM announcement https://t.co/xaaZmaJKiV @MyBl…",
         "cleaned_text": "Blue Ridge Bank shares halted by NYSE after bitcoin ATM announcement  @MyBlueRidgeBank… ",
         "_deepnote_index_column": 0
        },
        {
         "tweets": "😎 Today, that's this #Thursday, we will do a \"🎬 Take 2\" with our friend @LeoWandersleb, #Btc #walle…",
         "cleaned_text": "😎 Today, that's this , we will do a \"🎬 Take 2\" with our friend @LeoWandersleb,    expe… ",
         "_deepnote_index_column": 1
        },
        {
         "tweets": "$BTC A big chance in a billion! Price: \\4872644.0 (2021/02/11 08:51) #Bitcoin #FX #BTC #crypto",
         "cleaned_text": "$BTC A big chance in a billion! Price: \\4872644.0 (2021/02/11 08:51) Bitcoin   ",
         "_deepnote_index_column": 3
        },
        {
         "tweets": "This network is secured by 9 508 nodes as of today. Soon, the biggest bears will recognise: #BTC in…",
         "cleaned_text": "This network is secured by 9 508 nodes as of today. Soon, the biggest bears will recognise:  in too…",
         "_deepnote_index_column": 4
        },
        {
         "tweets": "💹 Trade #Crypto on #Binance \n\n📌 Enjoy #Cashback 10% of the Trading fee\n📌 Sign up link 👉 https://t.c…",
         "cleaned_text": "💹 Trade  on  📌 Enjoy  10% of the Trading fee📌 Sign up link 👉  ",
         "_deepnote_index_column": 5
        },
        {
         "tweets": "&lt;'fire' &amp; 'man'&gt;\n#Bitcoin #Crypto #BTC https://t.co/CV9IyODy55",
         "cleaned_text": "&lt;'fire' &amp; 'man'&gt;Bitcoin   ",
         "_deepnote_index_column": 6
        },
        {
         "tweets": "#BTC #Bitcoin #Ethereum #ETH #Crypto #cryptotrading \n\n$RSR I know i told you guys the target was $0…",
         "cleaned_text": " Bitcoin     $RSR I know i told you guys the target was $0.060, i know we… ",
         "_deepnote_index_column": 8
        },
        {
         "tweets": ".@Tesla’s #bitcoin investment is revolutionary for #crypto but other firms may not do the same just…",
         "cleaned_text": ".@Tesla’s bitcoin investment is revolutionary for  but other firms may not do the same just yet - @…",
         "_deepnote_index_column": 9
        },
        {
         "tweets": "Annnd #btc #Bitcoin is headed even higher now... https://t.co/EHAduI087d",
         "cleaned_text": "Annnd  Bitcoin is headed even higher now... ",
         "_deepnote_index_column": 10
        },
        {
         "tweets": "#Bitcoin #BTC $BTC $GBTC $RIOT $MARA $ETH $ETHE #AAVE #DeFi $AAVE $COMP $CGLD $GRT #Crypto #cryptoc…",
         "cleaned_text": "Bitcoin  $BTC $GBTC $RIOT $MARA $ETH $ETHE   $AAVE $COMP $CGLD $GRT   $XLM ",
         "_deepnote_index_column": 13
        },
        {
         "tweets": "⬆️⬆️ $BTC BUYING PRESSURE ALERT 📈 Price trading around 44843\n          https://t.co/iMB1mj8Cs1 👈 #B…",
         "cleaned_text": "⬆️⬆️ $BTC BUYING PRESSURE ALERT 📈 Price trading around 44843           👈 Bitcoin  ",
         "_deepnote_index_column": 14
        },
        {
         "tweets": "Buy #Bitcoin with 5% LIFETIME cashback on fees on the largest #cryptocurrency exchange with the lin…",
         "cleaned_text": "Buy Bitcoin with 5% LIFETIME cashback on fees on the largest  exchange with the link below.… ",
         "_deepnote_index_column": 15
        },
        {
         "tweets": "@naval #BTC is unconfiscatable \n\nAll roads lead to #Bitcoin",
         "cleaned_text": "@naval  is unconfiscatable All roads lead to Bitcoin",
         "_deepnote_index_column": 16
        },
        {
         "tweets": "$BTC A big chance in a million! Price: \\4898631.0 (2021/02/11 08:45) #Bitcoin #FX #BTC #crypto",
         "cleaned_text": "$BTC A big chance in a million! Price: \\4898631.0 (2021/02/11 08:45) Bitcoin   ",
         "_deepnote_index_column": 17
        },
        {
         "tweets": "#Bitcoin institutional demand accelerates in 2021 says @Grayscale CEO https://t.co/HsbFlBwAL8 #BTC …",
         "cleaned_text": "Bitcoin institutional demand accelerates in 2021 says @Grayscale CEO   $BTC   $GBTC",
         "_deepnote_index_column": 18
        },
        {
         "tweets": "Signal: $TFUEL\n#TFUEL #ThetaFuel #Binance #Crypto #Signaler #Signal #BTC #Bitcoin https://t.co/0ZBX…",
         "cleaned_text": "Signal: $TFUEL       Bitcoin ",
         "_deepnote_index_column": 19
        },
        {
         "tweets": "$ADA Sky rocket 🔥🚀 #Patience 🔑\n$1 Soon !!! \n#ada #adausdt #btc #bitcoin #adacoin https://t.co/W5XI5…",
         "cleaned_text": "$ADA Sky rocket 🔥🚀  🔑$1 Soon !!!    bitcoin  ",
         "_deepnote_index_column": 20
        },
        {
         "tweets": "Forget all you know about #cryptocurrency \nThese 6 coins are listed in #NASDAQ ETF!!!\nThese are the…",
         "cleaned_text": "Forget all you know about  These 6 coins are listed in  ETF!!!These are the real ones with… ",
         "_deepnote_index_column": 21
        },
        {
         "tweets": "$ADA Sky rocket 🔥🚀 #Patience 🔑\n$1 Soon !!! \n#ada #adausdt #btc #bitcoin #adacoin https://t.co/EMFjc…",
         "cleaned_text": "$ADA Sky rocket 🔥🚀  🔑$1 Soon !!!    bitcoin  ",
         "_deepnote_index_column": 22
        },
        {
         "tweets": "#Bitcoin’s Rally Signals the Rise of Digital Assets. This Bank Is Ahead of the Game. \n\nhttps://t.co…",
         "cleaned_text": "Bitcoin’s Rally Signals the Rise of Digital Assets. This Bank Is Ahead of the Game.  via… ",
         "_deepnote_index_column": 23
        },
        {
         "tweets": "The writing is on the wall, and you are ignoring it. #bitcoin #BTC",
         "cleaned_text": "The writing is on the wall, and you are ignoring it. bitcoin ",
         "_deepnote_index_column": 24
        },
        {
         "tweets": "#Bitcoin #BTC #ADA #DOT Mastercard Will Let Merchants Accept Payments in Crypto This Year https://t…",
         "cleaned_text": "Bitcoin    Mastercard Will Let Merchants Accept Payments in Crypto This Year  via @coindesk",
         "_deepnote_index_column": 25
        },
        {
         "tweets": "After @Tesla: @Twitter considers adding #bitcoin to its balance sheet, says company’s CFO https://t…",
         "cleaned_text": "After @Tesla: @Twitter considers adding bitcoin to its balance sheet, says company’s CFO  ",
         "_deepnote_index_column": 26
        },
        {
         "tweets": "Let's go $yfi... Let's make this happen before the weekend. \n#crypto $btc #btc  #Bitcoin",
         "cleaned_text": "Let's go $yfi... Let's make this happen before the weekend.  $btc   Bitcoin",
         "_deepnote_index_column": 28
        },
        {
         "tweets": "#BTC/USD 4H. #Bitcoin consolidating between support ~$43k and resistance ~$47.5k. Stop loss should …",
         "cleaned_text": "/USD 4H. Bitcoin consolidating between support ~$43k and resistance ~$47.5k. Stop loss should be ~$…",
         "_deepnote_index_column": 30
        },
        {
         "tweets": "The @Grayscale #Bitcoin Trust: What it is and how it works https://t.co/4TbFiB2NVZ $GBTC #digital #…",
         "cleaned_text": "The @Grayscale Bitcoin Trust: What it is and how it works  $GBTC    … ",
         "_deepnote_index_column": 31
        },
        {
         "tweets": "We accept #Bitcoin, #BitcoinCash #Litecoin and #Ethereum in addition to traditional payments. Sorry…",
         "cleaned_text": "We accept Bitcoin, BitcoinCash  and  in addition to traditional payments. Sorry, no  y… ",
         "_deepnote_index_column": 32
        },
        {
         "tweets": "If #XRP can stay at this 0.5 level\nTonight should be crazy #Bitcoin #Ethereum #BTC",
         "cleaned_text": "If  can stay at this 0.5 levelTonight should be crazy Bitcoin  ",
         "_deepnote_index_column": 33
        },
        {
         "tweets": "#BTC #Bitcoin #Ethereum #ETH #Crypto #cryptotrading \n\nWhat $ETH do next will determine where the lo…",
         "cleaned_text": " Bitcoin     What $ETH do next will determine where the local top will be.… ",
         "_deepnote_index_column": 34
        },
        {
         "tweets": "🔵 Upfront and Personal!\n\nEpisode 3: Blockchain and cryptocurrencies\n\n#CyberSecurity #Blockchain #Cr…",
         "cleaned_text": "🔵 Upfront and Personal!Episode 3: Blockchain and cryptocurrencies  … ",
         "_deepnote_index_column": 35
        },
        {
         "tweets": "Ok Boomer. #bitcoin #BTC \nhttps://t.co/QuGRykOBPJ",
         "cleaned_text": "Ok Boomer. bitcoin  ",
         "_deepnote_index_column": 36
        },
        {
         "tweets": "Holy smokes! $MARA #BTC #Bitcoin https://t.co/36UIokbdeA",
         "cleaned_text": "Holy smokes! $MARA  Bitcoin ",
         "_deepnote_index_column": 38
        },
        {
         "tweets": "Free #Mailey Advice:\n\nImagine in 2019 there was a #Bitcoin mining company that mined 20000 #BTC qtr…",
         "cleaned_text": "Free  Advice:Imagine in 2019 there was a Bitcoin mining company that mined 20000  qtrly and held th…",
         "_deepnote_index_column": 40
        },
        {
         "tweets": "Price analysis 2/10: #BTC, #ETH, #ADA, #XRP, #DOT, #BNB, #LTC, #LINK, #DOGE, #BCH https://t.co/EvRd…",
         "cleaned_text": "Price analysis 2/10: , , , , , , , , ,   $BTC… ",
         "_deepnote_index_column": 41
        },
        {
         "tweets": "Rally got a little ahead of itself for #bitcoin with the @elonmusk tweets and #Tesla news.  Likely …",
         "cleaned_text": "Rally got a little ahead of itself for bitcoin with the @elonmusk tweets and  news.  Likely needs t…",
         "_deepnote_index_column": 42
        },
        {
         "tweets": "$TEL everyone... #CGash marketing may begin tomorrow. Buy #Telcoin on #Kucoin while it's still on s…",
         "cleaned_text": "$TEL everyone...  marketing may begin tomorrow. Buy  on  while it's still on sale! 💰🔥$TEL he… ",
         "_deepnote_index_column": 43
        },
        {
         "tweets": "$CVC. That’s the tweet. 🚀 \n\n#Bitcoin #BTC #dogecoin https://t.co/cK75NBGN6c",
         "cleaned_text": "$CVC. That’s the tweet. 🚀 Bitcoin   ",
         "_deepnote_index_column": 46
        },
        {
         "tweets": "Who want to learn about Forex trading and join a great team? #forex #forexsignals #trading #forextr…",
         "cleaned_text": "Who want to learn about Forex trading and join a great team?     … ",
         "_deepnote_index_column": 47
        },
        {
         "tweets": "Institutions are buying #Bitcoin  \n\nOver $100 million worth of $BTC, got moved to cold storage just…",
         "cleaned_text": "Institutions are buying Bitcoin  Over $100 million worth of $BTC, got moved to cold storage just to…",
         "_deepnote_index_column": 48
        },
        {
         "tweets": "Me while I'm HODLing #Bitcoin #BTC https://t.co/63wMgCOtI5",
         "cleaned_text": "Me while I'm HODLing Bitcoin  ",
         "_deepnote_index_column": 49
        },
        {
         "tweets": "#Crypto prices | 6:30 PM | 2/10/21 https://t.co/t9zjlZZpbc #Bitcoin #BTC $BTC #Ethereum #ETH #Tethe…",
         "cleaned_text": " prices | 6:30 PM | 2/10/21  Bitcoin  $BTC    … ",
         "_deepnote_index_column": 50
        },
        {
         "tweets": "CME #Bitcoin, avg volume break into the US session, then selling shut off...\n\n#BTC premiums and per…",
         "cleaned_text": "CME Bitcoin, avg volume break into the US session, then selling shut off... premiums and perp fundi…",
         "_deepnote_index_column": 51
        },
        {
         "tweets": "🔴 QUESTION :\n\nI decided to accumulate #BNB\n\n#crypto #bitcoin #Ethereum #xrp #aave #altcoin #bullrun…",
         "cleaned_text": "🔴 QUESTION :I decided to accumulate  bitcoin      … ",
         "_deepnote_index_column": 53
        },
        {
         "tweets": "Market Id : BTC-AUD\nLast Price :58798.83\n24 Hour High :61550\n24 Hour Low :57009.19\nBest Bid :58655.…",
         "cleaned_text": "Market Id : BTC-AUDLast Price :58798.8324 Hour High :6155024 Hour Low :57009.19Best Bid :58655.47Be…",
         "_deepnote_index_column": 54
        },
        {
         "tweets": "1 Bitcoin ( #BTC )\nDollar: 45,157.22$ \n\n1 Bitcoin Cash ( #BCH )\nDollar: 4,98.32$ \n\n1 Ethereum ( #ET…",
         "cleaned_text": "1 Bitcoin (  )Dollar: 45,157.22$ 1 Bitcoin Cash (  )Dollar: 4,98.32$ 1 Ethereum (  )Dollar: 1,75… ",
         "_deepnote_index_column": 56
        },
        {
         "tweets": "@nikon_invest Friends in early 2017 like „mate, better just burn your money instead of buying #Bitc…",
         "cleaned_text": "@nikon_invest Friends in early 2017 like „mate, better just burn your money instead of buying Bitco…",
         "_deepnote_index_column": 57
        },
        {
         "tweets": "As #bitcoin continues to soar, what should you look out for in a #digitalcurrencyexchange?… https:/…",
         "cleaned_text": "As bitcoin continues to soar, what should you look out for in a ?… ",
         "_deepnote_index_column": 58
        },
        {
         "tweets": "⬆️⬆️ $BTC BUYING PRESSURE ALERT 📈 Price trading around 45164\n          https://t.co/iMB1mj8Cs1 👈 #B…",
         "cleaned_text": "⬆️⬆️ $BTC BUYING PRESSURE ALERT 📈 Price trading around 45164           👈 Bitcoin  ",
         "_deepnote_index_column": 59
        },
        {
         "tweets": "https://t.co/RoeR1YOsp7: https://t.co/k1u8bhujId,  Pay: 501-1501 satoshi every hour #faucetbitcoin …",
         "cleaned_text": "   Pay: 501-1501 satoshi every hour  bitcoin ",
         "_deepnote_index_column": 61
        },
        {
         "tweets": "Let's break them all!!! ⚡️⚡️⚡️\nLet's take you to the $7.00!\n\n@CurveFinance $CRV #BTC #Bitcoin #Cryp…",
         "cleaned_text": "Let's break them all!!! ⚡️⚡️⚡️Let's take you to the $7.00!@CurveFinance $CRV  Bitcoin  ",
         "_deepnote_index_column": 62
        },
        {
         "tweets": "#Bitcoin So now $AMZN $WMT and all the others will be able to accept #BTC as payment. Do you know h…",
         "cleaned_text": "Bitcoin So now $AMZN $WMT and all the others will be able to accept  as payment. Do you know how HU…",
         "_deepnote_index_column": 63
        },
        {
         "tweets": "https://t.co/VwKeMIxiqt\nCream E-Store\n#creamcoin #bitcoin #litecoin #ethereum #blockchain #exchange…",
         "cleaned_text": " E-Store bitcoin      ",
         "_deepnote_index_column": 65
        },
        {
         "tweets": "Eth Twitter Insight Words \n\nLast 7 Days\n#btc #bitcoin #cryptocurrency\nMore Detail\n👉https://t.co/pB0…",
         "cleaned_text": "Eth Twitter Insight Words Last 7 Days bitcoin More Detail👉 ",
         "_deepnote_index_column": 67
        },
        {
         "tweets": "https://t.co/gJjWvcDcH7 💯\nhttps://t.co/Ch3mVOzSJE 💯\n\n🚀🌱👉 https://t.co/GydSZXKIno\n\n#AmazonCoin $AMA …",
         "cleaned_text": " 💯 💯🚀🌱👉  $AMA  … ",
         "_deepnote_index_column": 68
        },
        {
         "tweets": "$MA 💳 #MASTERCARD TO OPEN UP NETWORK TO SELECT #CRYPTOCURRENCIES - RTRS. #Bitcoin #dogecoin 🏵 #Bina…",
         "cleaned_text": "$MA 💳  TO OPEN UP NETWORK TO SELECT  - RTRS. Bitcoin  🏵    🐕 ",
         "_deepnote_index_column": 70
        },
        {
         "tweets": "Any company that wants to shield income from taxes will follow @elonmusk and @Tesla example with #B…",
         "cleaned_text": "Any company that wants to shield income from taxes will follow @elonmusk and @Tesla example with Bi…",
         "_deepnote_index_column": 71
        },
        {
         "tweets": "$MA 💳 #Mastercard Will Let Merchants Accept #Payments in #Crypto This Year. #Bitcoin #BTC #Binance …",
         "cleaned_text": "$MA 💳  Will Let Merchants Accept  in  This Year. Bitcoin    🏵  ",
         "_deepnote_index_column": 74
        },
        {
         "tweets": "🚀OptionBitcoin. com\n⬇️Domain Avail \n➡️https://t.co/lTHhIQvMo6\n\n#bitcoinoptions #Bitcoin #crypto #op…",
         "cleaned_text": "🚀OptionBitcoin. com⬇️Domain Avail ➡️ Bitcoin    … ",
         "_deepnote_index_column": 75
        },
        {
         "tweets": "#Bitcoin to Hit $60-64K Soon, Asserts Analyst Despite Price Dip. #BTC #Binance #BNB https://t.co/Vg…",
         "cleaned_text": "Bitcoin to Hit $60-64K Soon, Asserts Analyst Despite Price Dip.    ",
         "_deepnote_index_column": 76
        },
        {
         "tweets": "MasterCard to integrate digital currency payments “directly on our network” \n\n#crypto #Bitcoin #BTC…",
         "cleaned_text": "MasterCard to integrate digital currency payments “directly on our network”  Bitcoin  ⁦@MastercardU…",
         "_deepnote_index_column": 77
        },
        {
         "tweets": "We are starting a #revolution with @ElrondNetwork Download #Maiar and See What The Hype is All Abou…",
         "cleaned_text": "We are starting a  with @ElrondNetwork Download  and See What The Hype is All About $EGLD … ",
         "_deepnote_index_column": 78
        },
        {
         "tweets": "Is it BULLSEYE again !!! 🎯🎯🎯\n\nAION / BTC (Before &amp; after)\n\n#AIONBTC hit all the targets set by …",
         "cleaned_text": "Is it BULLSEYE again !!! 🎯🎯🎯AION / BTC (Before &amp; after) hit all the targets set by .14 %… ",
         "_deepnote_index_column": 79
        },
        {
         "tweets": "#Bitcoin On-Chain Activity Hits New Records - #Breaking #BTC #BTCUSDTradingView #BTCUSDTTradingView…",
         "cleaned_text": "Bitcoin On-Chain Activity Hits New Records -      - ",
         "_deepnote_index_column": 80
        },
        {
         "tweets": "Forget #Dogecoin. #Bitcoin is still available to us poorer folks! Up to $200 per hour free, no catc…",
         "cleaned_text": "Forget . Bitcoin is still available to us poorer folks! Up to $200 per hour free, no catch, notta z…",
         "_deepnote_index_column": 81
        },
        {
         "tweets": "2,292.2542 of #BTC was transferred today from a #Coinbase wallet to an unknown one. Value was $101,…",
         "cleaned_text": "2,292.2542 of  was transferred today from a  wallet to an unknown one. Value was $101,815,030 USD. …",
         "_deepnote_index_column": 82
        },
        {
         "tweets": "Big news from MasterCard. They are working to support #crypto ! 💥 Guess what’s going to happen to t…",
         "cleaned_text": "Big news from MasterCard. They are working to support  ! 💥 Guess what’s going to happen to the pric…",
         "_deepnote_index_column": 85
        },
        {
         "tweets": "#BTC #Bitcoin And here we GO Again!\n\n@elonmusk @WSBChairman #WSB #WallStreetBets $GME $AMC #Coinbas…",
         "cleaned_text": " Bitcoin And here we GO Again!@elonmusk @WSBChairman   $GME $AMC   $SLV… ",
         "_deepnote_index_column": 86
        },
        {
         "tweets": "📢Get 10% rebate when you buy #cryptocurrency on #Binance with my link. It's #altseason, get 10% bac…",
         "cleaned_text": "📢Get 10% rebate when you buy  on  with my link. It's , get 10% back on Bitcoin  &amp;… ",
         "_deepnote_index_column": 88
        },
        {
         "tweets": "$50 domains starting with the word “free” \n\n#domain #domainnames #domainname #covid #corona #corona…",
         "cleaned_text": "$50 domains starting with the word “free”       … ",
         "_deepnote_index_column": 89
        },
        {
         "tweets": "Great watch Simon, always a great pleasure and valuable experience to listen to you!! 🙏\n\n#Bitcoin O…",
         "cleaned_text": "Great watch Simon, always a great pleasure and valuable experience to listen to you!! 🙏Bitcoin OG … ",
         "_deepnote_index_column": 90
        },
        {
         "tweets": "In retrospect, it was inevitable.\nMastecards accepts CRYPTOS\n#mastercard #CryptoNews #cryptocurrenc…",
         "cleaned_text": "In retrospect, it was inevitable.Mastecards accepts CRYPTOS   … ",
         "_deepnote_index_column": 93
        },
        {
         "tweets": "@kiwisfn @elonmusk Followed and retweeted.  Done ✅ \nKindly send the $100 here \n1G2bo9D62a2hxV6QXvS7…",
         "cleaned_text": "@kiwisfn @elonmusk Followed and retweeted.  Done ✅ Kindly send the $100 here 1G2bo9D62a2hxV6QXvS7wA…",
         "_deepnote_index_column": 94
        },
        {
         "tweets": "Bitcoin BTC Current Price:\n$45,161.73\n1 Hour: 1.21% | 24 Hours: -4.05% | 7 Days: 21.40%\n#btc #bitco…",
         "cleaned_text": "Bitcoin BTC Current Price:$45,161.731 Hour: 1.21% | 24 Hours: -4.05% | 7 Days: 21.40% bitcoin",
         "_deepnote_index_column": 95
        },
        {
         "tweets": "@michael_saylor Advertising tactic called \"linking\" trying to get people to link #Bitcoin with Buff…",
         "cleaned_text": "@michael_saylor Advertising tactic called \"linking\" trying to get people to link Bitcoin with Buffe…",
         "_deepnote_index_column": 96
        },
        {
         "tweets": "just added Episode 25 - Insane 888ETH ($1.5M) Genesis Land Sale! by Axie Chat\nhttps://t.co/9CMTsI27…",
         "cleaned_text": "just added Episode 25 - Insane 888ETH ($1.5M) Genesis Land Sale! by Axie Chat    ",
         "_deepnote_index_column": 98
        },
        {
         "tweets": "$FTM is looking super amazing. Should easily do 400. 🚀 \n\n#Bitcoin #BTC #dogecoin https://t.co/0tPqv…",
         "cleaned_text": "$FTM is looking super amazing. Should easily do 400. 🚀 Bitcoin   ",
         "_deepnote_index_column": 99
        },
        {
         "tweets": "$50 Domains starting with the word “Best” \n\n#domain #domainnames #domainname #covid #corona #corona…",
         "cleaned_text": "$50 Domains starting with the word “Best”       … ",
         "_deepnote_index_column": 100
        },
        {
         "tweets": "Scott Minerd: #Bitcoin Could Hit $600k - #Breaking #BTC #BTCUSDTradingView #BTCUSDTTradingView #Cry…",
         "cleaned_text": "Scott Minerd: Bitcoin Could Hit $600k -      - ",
         "_deepnote_index_column": 101
        },
        {
         "tweets": ".@michael_saylor states that his recent webcast on how corporations might think about holding #Bitc…",
         "cleaned_text": ".@michael_saylor states that his recent webcast on how corporations might think about holding Bitco…",
         "_deepnote_index_column": 102
        },
        {
         "tweets": "@MattStirner @BTC_Archive @MsCryptomom1 #Mailey only slightly facetious on this play.. #BoomerSoone…",
         "cleaned_text": "@MattStirner @BTC_Archive @MsCryptomom1  only slightly facetious on this play.. 's with good cr… ",
         "_deepnote_index_column": 103
        },
        {
         "tweets": "Virtual land can be worth more than the real thing after plot sells for record $1.5M https://t.co/j…",
         "cleaned_text": "Virtual land can be worth more than the real thing after plot sells for record $1.5M   bitcoinnews …",
         "_deepnote_index_column": 105
        },
        {
         "tweets": "dip down to 39kish tomorrow? should stir enough panic\n\n$btc #btc #Bitcoin",
         "cleaned_text": "dip down to 39kish tomorrow? should stir enough panic$btc  Bitcoin",
         "_deepnote_index_column": 106
        },
        {
         "tweets": "$50 “Virtual” and “Essential” domains\n\n#domain #domainnames #domainname #covid #corona #coronavirus…",
         "cleaned_text": "$50 “Virtual” and “Essential” domains      … ",
         "_deepnote_index_column": 107
        },
        {
         "tweets": "Mastercard will support #crypto! They will give merchants the ability to accept #bitcoin payments l…",
         "cleaned_text": "Mastercard will support ! They will give merchants the ability to accept bitcoin payments later thi…",
         "_deepnote_index_column": 108
        },
        {
         "tweets": "Microsoft Cloud Healthcare - listen here! https://t.co/26J2RzfB7H #bitcoin #cryptocurrency #crypto …",
         "cleaned_text": "Microsoft Cloud Healthcare - listen here!  bitcoin    … ",
         "_deepnote_index_column": 109
        },
        {
         "tweets": "@CoinDesk @CarpeNoctom @Mastercard @realDannyNelson $algo with going moon 🚀🚀\n#BTC #Bitcoin",
         "cleaned_text": "@CoinDesk @CarpeNoctom @Mastercard @realDannyNelson $algo with going moon 🚀🚀 Bitcoin",
         "_deepnote_index_column": 111
        },
        {
         "tweets": "#btc breakout expected in 12 hours. Will it make a run to a new all time high or will it break down…",
         "cleaned_text": " breakout expected in 12 hours. Will it make a run to a new all time high or will it break down? Wh…",
         "_deepnote_index_column": 112
        },
        {
         "tweets": "1 BTC Price: Bitstamp 45181.48 USD Coinbase  USD #btc #bitcoin 2021-02-10 18:01 https://t.co/CivuLw…",
         "cleaned_text": "1 BTC Price: Bitstamp 45181.48 USD Coinbase  USD  bitcoin 2021-02-10 18:01 ",
         "_deepnote_index_column": 115
        },
        {
         "tweets": "Top 10 Trading Volume in the last 24 hours\n$btc #btc #bitcoin #cryptocurrency\n\nMore on https://t.co…",
         "cleaned_text": "Top 10 Trading Volume in the last 24 hours$btc  bitcoin More on  🚀 ",
         "_deepnote_index_column": 116
        },
        {
         "tweets": "Bitcoin - BTC\nPrice: $45,170.09\nChange in 1h: +1.13794437%\nMarket cap: $841,308,679,685.33\nRanking:…",
         "cleaned_text": "Bitcoin - BTCPrice: $45,170.09Change in 1h: +1.13794437%Market cap: $841,308,679,685.33Ranking: 1Bi…",
         "_deepnote_index_column": 117
        },
        {
         "tweets": "⏰ 02:00\n₿ Bitcoin = 45.242,9892 $\n#bitcoin #btc #BTCUSD",
         "cleaned_text": "⏰ 02:00₿ Bitcoin = 45.242,9892 $bitcoin  ",
         "_deepnote_index_column": 118
        },
        {
         "tweets": "⏰ 02:00\n₿ Bitcoin = 45.242,9892 $\n#bitcoin #btc #BTCUSD",
         "cleaned_text": "⏰ 02:00₿ Bitcoin = 45.242,9892 $bitcoin  ",
         "_deepnote_index_column": 119
        },
        {
         "tweets": "Market Id : BTC-AUD\nLast Price :58874.12\n24 Hour High :61550\n24 Hour Low :57009.19\nBest Bid :58874.…",
         "cleaned_text": "Market Id : BTC-AUDLast Price :58874.1224 Hour High :6155024 Hour Low :57009.19Best Bid :58874.11Be…",
         "_deepnote_index_column": 120
        },
        {
         "tweets": "Nice spot results on #ontology $ont - 32% profit and #iota $iota - 51% profit after a month waiting…",
         "cleaned_text": "Nice spot results on  $ont - 32% profit and  $iota - 51% profit after a month waiting for the movem…",
         "_deepnote_index_column": 122
        },
        {
         "tweets": "Such a beautiful 24h high N low for $kcs 😌❤️\n\n#BTC #Bitcoin https://t.co/jKnLgZ7KdV",
         "cleaned_text": "Such a beautiful 24h high N low for $kcs 😌❤️ Bitcoin ",
         "_deepnote_index_column": 123
        },
        {
         "tweets": "$50 Covid Domains \n\n#domain #domainnames #domainname #covid #corona #coronavirus #covid19 #vaccinat…",
         "cleaned_text": "$50 Covid Domains         … ",
         "_deepnote_index_column": 124
        },
        {
         "tweets": "https://t.co/zdsqyF1dxf #Ethereum killers and layer-2 tokens rally despite 5% #Bitcoin price drop… …",
         "cleaned_text": "  killers and layer-2 tokens rally despite 5% Bitcoin price drop… ",
         "_deepnote_index_column": 125
        },
        {
         "tweets": "🚀 🚀2,874 #BTC (133,876,000 USD) move from multiple addresses to unknown wallet\n \nDate : 2021-02-10 …",
         "cleaned_text": "🚀 🚀2,874  (133,876,000 USD) move from multiple addresses to unknown wallet Date : 2021-02-10 22:56:…",
         "_deepnote_index_column": 129
        },
        {
         "tweets": "It just started... #BTC #bitcoin #tesla #mastercard mrcatapult @elonmusk $BTC next stop $ETH https:…",
         "cleaned_text": "It just started...  bitcoin   mrcatapult @elonmusk $BTC next stop $ETH ",
         "_deepnote_index_column": 132
        },
        {
         "tweets": "For #bitcoin to go to 50K its an 11% move. \n#Btc could do this in an hour the way its moving. \nGran…",
         "cleaned_text": "For bitcoin to go to 50K its an 11% move.  could do this in an hour the way its moving. Grandpa Bit…",
         "_deepnote_index_column": 133
        },
        {
         "tweets": "@CoinbaseSupport - please will you reply to my DMs + 4 emails?  Thanks. #help #bitcoin #BTC #Support",
         "cleaned_text": "@CoinbaseSupport - please will you reply to my DMs + 4 emails?  Thanks.  bitcoin  ",
         "_deepnote_index_column": 134
        },
        {
         "tweets": "https://t.co/gJjWvcDcH7 💯\nhttps://t.co/Ch3mVOzSJE 💯\n\n🤑🌱👉 https://t.co/GydSZXKIno\n\n#AmazonCoin $AMA …",
         "cleaned_text": " 💯 💯🤑🌱👉  $AMA  … ",
         "_deepnote_index_column": 135
        },
        {
         "tweets": "#ethereum killers and layer-2 tokens rally despite 5% #bitcoin price drop #crypto #btc https://t.co…",
         "cleaned_text": " killers and layer-2 tokens rally despite 5% bitcoin price drop   ",
         "_deepnote_index_column": 136
        },
        {
         "tweets": "will @thetimes , because its #cryptocurrency $btc, be telling all its readers to SELL:\n@Tesla\n @Pay…",
         "cleaned_text": "will @thetimes , because its  $btc, be telling all its readers to SELL:@Tesla @PayPal @Visa… ",
         "_deepnote_index_column": 137
        },
        {
         "tweets": "@NewBoldNewYork @Manh8tan #FreeBitcoin  #Bitcoin #BTC #Bitcoinmining #ElonMusk #btcturk\n#Crypto #Cr…",
         "cleaned_text": "@NewBoldNewYork @Manh8tan   Bitcoin  Bitcoinmining    By creat… ",
         "_deepnote_index_column": 138
        },
        {
         "tweets": "Bitcoin still trading at AU$ 61,139.16 this morning. #BTC #Bitcoin \nhttps://t.co/1XNq01CaMn\n\nSwipe …",
         "cleaned_text": "Bitcoin still trading at AU$ 61,139.16 this morning.  Bitcoin  researchers and… ",
         "_deepnote_index_column": 139
        },
        {
         "tweets": "@jefftoodank @pokimanelol #FreeBitcoin  #Bitcoin #BTC #Bitcoinmining #ElonMusk #btcturk\n#Crypto #Cr…",
         "cleaned_text": "@jefftoodank @pokimanelol   Bitcoin  Bitcoinmining    By creat… ",
         "_deepnote_index_column": 140
        },
        {
         "tweets": "2 hours. $SRM 🚀 \n\n#Bitcoin #BTC #dogeto1dollar https://t.co/d0SJGBNSRW https://t.co/AdOVinwoTz",
         "cleaned_text": "2 hours. $SRM 🚀 Bitcoin    ",
         "_deepnote_index_column": 141
        },
        {
         "tweets": "#btc    #bitcoin    #Ethereum  #ETH #dogecoin #Cardano #ada #Solana #sol #VeChain #VET #VeThor #VTH…",
         "cleaned_text": "    bitcoin                Cardano and Solana @ ATH !! 🥳🥳",
         "_deepnote_index_column": 142
        },
        {
         "tweets": "In First For Commercial Bank, Blue Ridge ATMs Are Now Selling Bitcoin https://t.co/uEHThCzuiM #cryp…",
         "cleaned_text": "In First For Commercial Bank, Blue Ridge ATMs Are Now Selling Bitcoin      bitcoin",
         "_deepnote_index_column": 144
        },
        {
         "tweets": "#Bitcoin #BTC current price (GBP): £32,587\nLike my updates? you can tip me at 3L9dzTLQRcxNpN89V6gfN…",
         "cleaned_text": "Bitcoin  current price (GBP): £32,587Like my updates? you can tip me at 3L9dzTLQRcxNpN89V6gfNrbaz95…",
         "_deepnote_index_column": 145
        },
        {
         "tweets": "#Mastercard Will Let Merchants Accept Payments in Crypto This Year - CoinDesk #btc #bitcoin  https:…",
         "cleaned_text": " Will Let Merchants Accept Payments in Crypto This Year - CoinDesk  bitcoin  ",
         "_deepnote_index_column": 146
        },
        {
         "tweets": "@zerohedge -\nIt's okay - Tesla's new business model is #crypto promotion.\n\nhttps://t.co/MUuN6DyJkX …",
         "cleaned_text": "@zerohedge -It's okay - Tesla's new business model is  promotion.  $btc bitcoin $gold $silver",
         "_deepnote_index_column": 147
        },
        {
         "tweets": "Check out this #NFT for sale on Mintable! Pick up 'Satoshi Nakamoto Cathedral' before its swooped u…",
         "cleaned_text": "Check out this  for sale on Mintable! Pick up 'Satoshi Nakamoto Cathedral' before its swooped up!… ",
         "_deepnote_index_column": 148
        },
        {
         "tweets": "@thecryptocaddy @BinanceUS #FreeBitcoin  #Bitcoin #BTC #Bitcoinmining #ElonMusk #btcturk\n#Crypto #C…",
         "cleaned_text": "@thecryptocaddy @BinanceUS   Bitcoin  Bitcoinmining    By crea… ",
         "_deepnote_index_column": 150
        },
        {
         "tweets": "@Manh8tan #FreeBitcoin  #Bitcoin #BTC #Bitcoinmining #ElonMusk #btcturk\n#Crypto #CryptoTab By creat…",
         "cleaned_text": "@Manh8tan   Bitcoin  Bitcoinmining    By creating your own fre… ",
         "_deepnote_index_column": 151
        },
        {
         "tweets": "@cryptocognitive #FreeBitcoin  #Bitcoin #BTC #Bitcoinmining #ElonMusk #btcturk\n#Crypto #CryptoTab B…",
         "cleaned_text": "@cryptocognitive   Bitcoin  Bitcoinmining    By creating your… ",
         "_deepnote_index_column": 152
        },
        {
         "tweets": "@Marconaut_ #FreeBitcoin  #Bitcoin #BTC #Bitcoinmining #ElonMusk #btcturk\n#Crypto #CryptoTab By cre…",
         "cleaned_text": "@Marconaut_   Bitcoin  Bitcoinmining    By creating your own f… ",
         "_deepnote_index_column": 153
        },
        {
         "tweets": "@TEmigrator @PsychoOnWallst #FreeBitcoin  #Bitcoin #BTC #Bitcoinmining #ElonMusk #btcturk\n#Crypto #…",
         "cleaned_text": "@TEmigrator @PsychoOnWallst   Bitcoin  Bitcoinmining    By cre… ",
         "_deepnote_index_column": 154
        },
        {
         "tweets": "@David_Nage #FreeBitcoin  #Bitcoin #BTC #Bitcoinmining #ElonMusk #btcturk\n#Crypto #CryptoTab By cre…",
         "cleaned_text": "@David_Nage   Bitcoin  Bitcoinmining    By creating your own f… ",
         "_deepnote_index_column": 155
        },
        {
         "tweets": "Check out this #NFT for sale on Mintable! Pick up 'Bitcoin Riva' before its swooped up! https://t.c…",
         "cleaned_text": "Check out this  for sale on Mintable! Pick up 'Bitcoin Riva' before its swooped up!  ",
         "_deepnote_index_column": 156
        },
        {
         "tweets": "What will be the next company to invest in bitcoins? \n\n#Bitcoin\n#BTC",
         "cleaned_text": "What will be the next company to invest in bitcoins? Bitcoin",
         "_deepnote_index_column": 157
        },
        {
         "tweets": "⚡ Peak $BTC volume trading across the major exchanges! Price trading around 45119\n  https://t.co/iM…",
         "cleaned_text": "⚡ Peak $BTC volume trading across the major exchanges! Price trading around 45119   👈 Bitcoin  ",
         "_deepnote_index_column": 158
        },
        {
         "tweets": "#Tether’s #MarketCap has crossed $30 billion as large investors are buying #Bitcoin - #BTC #Cryptoc…",
         "cleaned_text": "’s  has crossed $30 billion as large investors are buying Bitcoin -  … ",
         "_deepnote_index_column": 159
        },
        {
         "tweets": "$pols $room $idle $cvr $chs $juld $doge $btc $eth $bnb $dot $ada $link $snx $xrp $rsr\n#Binance  #BT…",
         "cleaned_text": "$pols $room $idle $cvr $chs $juld $doge $btc $eth $bnb $dot $ada $link $snx $xrp $rsr   Bitcoin How…",
         "_deepnote_index_column": 160
        },
        {
         "tweets": "#Dogecoin Papa Elon just sent #Doge worth of 150k $ to Africa. \n\n#Bitcoin is the gold, $doge the cu…",
         "cleaned_text": " Papa Elon just sent  worth of 150k $ to Africa. Bitcoin is the gold, $doge the currency.Crazy Mu… ",
         "_deepnote_index_column": 161
        },
        {
         "tweets": "I think today showed that alot of investors are waiting with a full bag of stablecoins to buy the d…",
         "cleaned_text": "I think today showed that alot of investors are waiting with a full bag of stablecoins to buy the d…",
         "_deepnote_index_column": 162
        },
        {
         "tweets": "Who Let the Dogs Out? #Bitcoin #BTC",
         "cleaned_text": "Who Let the Dogs Out? Bitcoin ",
         "_deepnote_index_column": 164
        },
        {
         "tweets": "In case anyones keen to get on the #btc moon train (its not too late before it shoots up again) ...…",
         "cleaned_text": "In case anyones keen to get on the  moon train (its not too late before it shoots up again) ... sig…",
         "_deepnote_index_column": 166
        },
        {
         "tweets": "Can I bring #bitcoin on #SharkTank ? #BTC 😂",
         "cleaned_text": "Can I bring bitcoin on  ?  😂",
         "_deepnote_index_column": 168
        },
        {
         "tweets": "Pretty cool @kurtwuckertjr 👍👍\n\n#BSV #BTC #BCH #Bitcoin https://t.co/rI2RDUzbTU",
         "cleaned_text": "Pretty cool @kurtwuckertjr 👍👍   Bitcoin ",
         "_deepnote_index_column": 169
        },
        {
         "tweets": "#Bitcoin and #blockchaintechnology should become synonymous with a trade... it’s not complicated, i…",
         "cleaned_text": "Bitcoin and  should become synonymous with a trade... it’s not complicated, it’s either right… ",
         "_deepnote_index_column": 171
        },
        {
         "tweets": "$MA 💳 #Mastercard Will Let Merchants Accept #Payments in #Crypto This Year. #Bitcoin #BTC  https://…",
         "cleaned_text": "$MA 💳  Will Let Merchants Accept  in  This Year. Bitcoin   ",
         "_deepnote_index_column": 172
        },
        {
         "tweets": "$algo is best project and good team with 2021 star🚀🚀 going ATH 2021\n#BTC #Bitcoin https://t.co/OARX…",
         "cleaned_text": "$algo is best project and good team with 2021 star🚀🚀 going ATH 2021 Bitcoin ",
         "_deepnote_index_column": 173
        },
        {
         "tweets": "Mastercard will give merchants the ability to accept #btc payments this year. 🪙\n\n#Bitcoin",
         "cleaned_text": "Mastercard will give merchants the ability to accept  payments this year. 🪙Bitcoin",
         "_deepnote_index_column": 175
        },
        {
         "tweets": "Once @theDemocrats find out @getongab takes #Bitcoin as payment I'm pretty sure #BTC will face a cr…",
         "cleaned_text": "Once @theDemocrats find out @getongab takes Bitcoin as payment I'm pretty sure  will face a crack d…",
         "_deepnote_index_column": 177
        },
        {
         "tweets": "I swear there is a Squirrel 🐿️ in that bush   https://t.co/v8ZP1MrQww #BTC  #BitCorn #Bitcoin #addM…",
         "cleaned_text": "I swear there is a Squirrel 🐿️ in that bush       Bitcoin … ",
         "_deepnote_index_column": 178
        },
        {
         "tweets": "@EconguyRosie Rosie not so Rosie on #Crypto 🤣 David Doomsberg is more fitting 🤣\n\nJokes Jokes 🙏 Much…",
         "cleaned_text": "@EconguyRosie Rosie not so Rosie on  🤣 David Doomsberg is more fitting 🤣Jokes Jokes 🙏 Much respect …",
         "_deepnote_index_column": 179
        },
        {
         "tweets": "BadgerDAO Partners With https://t.co/A7Q5RA9lbK To Build Sustainable Bitcoin Vaults\nhttps://t.co/Km…",
         "cleaned_text": "BadgerDAO Partners With  To Build Sustainable Bitcoin Vaults ",
         "_deepnote_index_column": 181
        },
        {
         "tweets": "#USDJPY TP2 Hit! 127 PIPS Profit🔥✨🔱\n\nThe link of Crypto and Forex Signals Channel is present in the…",
         "cleaned_text": " TP2 Hit! 127 PIPS Profit🔥✨🔱The link of Crypto and Forex Signals Channel is present in the bio. Go …",
         "_deepnote_index_column": 182
        },
        {
         "tweets": "I just started following @freebitco but have been spinning for free #BTC for years. Click the link …",
         "cleaned_text": "I just started following @freebitco but have been spinning for free  for years. Click the link (add…",
         "_deepnote_index_column": 183
        },
        {
         "tweets": "Mind your phones! Full story: https://t.co/jDdi4xafxH #BTC #Crypto #DigitalCurrency #Bitcoin #Vcoin…",
         "cleaned_text": "Mind your phones! Full story:     Bitcoin   … ",
         "_deepnote_index_column": 184
        },
        {
         "tweets": "$algo hey @Grayscale look algo and stake good price. Algo is 2021 star hodl\nAlgo investor year 2021…",
         "cleaned_text": "$algo hey @Grayscale look algo and stake good price. Algo is 2021 star hodlAlgo investor year 2021 …",
         "_deepnote_index_column": 185
        },
        {
         "tweets": "Market Id : BTC-AUD\nLast Price :58838.51\n24 Hour High :61550\n24 Hour Low :57009.19\nBest Bid :58838.…",
         "cleaned_text": "Market Id : BTC-AUDLast Price :58838.5124 Hour High :6155024 Hour Low :57009.19Best Bid :58838.51Be…",
         "_deepnote_index_column": 186
        },
        {
         "tweets": "Check me out! \n\n#ZRX #0x #cryptoart #cryptotwitter #cryptocurrency #altcoin #ALTSEASON #crypto #cry…",
         "cleaned_text": "Check me out!         … ",
         "_deepnote_index_column": 187
        },
        {
         "tweets": "Will other companies join Tesla on picking up BTC?\n\n- by Michael Saylor CEO of MSRT\n\n#Bitcoin #BTC …",
         "cleaned_text": "Will other companies join Tesla on picking up BTC?- by Michael Saylor CEO of MSRTBitcoin  ",
         "_deepnote_index_column": 188
        },
        {
         "tweets": "@b_yellowblitz @soygirlnat @sakeblues @Reuters #Bitcoin is divisible up to 8 decimal points. The sm…",
         "cleaned_text": "@b_yellowblitz @soygirlnat @sakeblues @Reuters Bitcoin is divisible up to 8 decimal points. The sma…",
         "_deepnote_index_column": 189
        },
        {
         "tweets": "Bitcoin up to U$ 45k range. 4% change in 24h.  #bitcoin #btc",
         "cleaned_text": "Bitcoin up to U$ 45k range. 4% change in 24h.  bitcoin ",
         "_deepnote_index_column": 191
        },
        {
         "tweets": "Mastercard, Visa, Tesla, Paypal!\nIt starts to look awesome!\n\n#Bitcoin #BTC #CryptoNews #cryptocurre…",
         "cleaned_text": "Mastercard, Visa, Tesla, Paypal!It starts to look awesome!Bitcoin    ",
         "_deepnote_index_column": 192
        },
        {
         "tweets": "6 days and your money is more than double if you got into it. Decent profits. $ADA 🚀 \n\n#Bitcoin #BT…",
         "cleaned_text": "6 days and your money is more than double if you got into it. Decent profits. $ADA 🚀 Bitcoin  … ",
         "_deepnote_index_column": 193
        },
        {
         "tweets": "If Apple Inc ever makes a move for #Bitcoin as being rumoured, I assure you, on such a day, #BTC wi…",
         "cleaned_text": "If Apple Inc ever makes a move for Bitcoin as being rumoured, I assure you, on such a day,  will mo…",
         "_deepnote_index_column": 194
        },
        {
         "tweets": "we need some #bitcoin  #donation to #help and #feed #animals (mostly #cats #birds #dogs) please sen…",
         "cleaned_text": "we need some bitcoin   to  and   (mostly   ) please send some   to:… ",
         "_deepnote_index_column": 195
        },
        {
         "tweets": "@Fxhedgers Power play: Twitter announces #bitcoin purchase simultaneously integrating #btc tipping …",
         "cleaned_text": "@Fxhedgers Power play: Twitter announces bitcoin purchase simultaneously integrating  tipping into …",
         "_deepnote_index_column": 196
        },
        {
         "tweets": "Boom!!⚡️🔥💥https://t.co/Boac4E3m27\n#BTC #Bitcoin #Ethereum #ETH https://t.co/JUyn5iJLF6",
         "cleaned_text": "Boom!!⚡️🔥💥 Bitcoin   ",
         "_deepnote_index_column": 197
        },
        {
         "tweets": "$TRB from 37$ to 55%. Sweet little profits in a day. 🚀 \n\n#Bitcoin #BTC #DogecoinRise https://t.co/t…",
         "cleaned_text": "$TRB from 37$ to 55%. Sweet little profits in a day. 🚀 Bitcoin    ",
         "_deepnote_index_column": 199
        },
        {
         "tweets": "*BREAKING: Mastercard will let merchants accept payments in #Bitcoin and crypto this year\n\n$MA #Bit…",
         "cleaned_text": "*BREAKING: Mastercard will let merchants accept payments in Bitcoin and crypto this year$MA Bitcoin…",
         "_deepnote_index_column": 200
        },
        {
         "tweets": "$HTR could be your next $DOT $ADA $SNX or $BNB 🧐✅\n\n#Bitcoin #BTC #BNB $ETH $LTC $BCH $VET $XRP $ADA…",
         "cleaned_text": "$HTR could be your next $DOT $ADA $SNX or $BNB 🧐✅Bitcoin   $ETH $LTC $BCH $VET $XRP $ADA $THETA $TS…",
         "_deepnote_index_column": 201
        },
        {
         "tweets": "New trades working out \n#btc #Bitcoin #cryptocurrency  #dollar #ม็อบ10กุมภา #الامتحانات_خطر_ياريس  …",
         "cleaned_text": "New trades working out  Bitcoin    #ม็อบ10กุมภา #الامتحانات_خطر_ياريس   ",
         "_deepnote_index_column": 202
        },
        {
         "tweets": "The Chinese Giant $Neo is coming  🔜 #NEO3 🚀🚀💚\n\n#btc #bitcoin #Binance #coinbase $doge $btc $xrp $et…",
         "cleaned_text": "The Chinese Giant $Neo is coming  🔜  🚀🚀💚 bitcoin   $doge $btc $xrp $eth $ada $dot $wsb… ",
         "_deepnote_index_column": 206
        },
        {
         "tweets": "Inverse Leveraged ETFs here against Biden &amp; ESG #sectors? #bold #hedge #fintwit #finance #Stock…",
         "cleaned_text": "Inverse Leveraged ETFs here against Biden &amp; ESG ?     … ",
         "_deepnote_index_column": 207
        },
        {
         "tweets": "#Bitcoin fighting with major uptrending resistance. \nThe RSI did not yet have a proper reset. In th…",
         "cleaned_text": "Bitcoin fighting with major uptrending resistance. The RSI did not yet have a proper reset. In the …",
         "_deepnote_index_column": 208
        },
        {
         "tweets": "$BTC\n\nslowly starting to add back on my long.\n\n#BTC  #Bitcoin  $BTCUSD #crypto $crypto https://t.co…",
         "cleaned_text": "$BTCslowly starting to add back on my long.  Bitcoin  $BTCUSD  $crypto ",
         "_deepnote_index_column": 209
        },
        {
         "tweets": "Will #Apple follow #Tesla and buy #Bitcoin ?? #bttcoin #BTC #Crypto #cryptocurrency $btc",
         "cleaned_text": "Will  follow  and buy Bitcoin ??     $btc",
         "_deepnote_index_column": 210
        },
        {
         "tweets": "$BTC Going up signal on a 30 minute chart! Price: \\4898128.0 (2021/02/11 07:15) #Bitcoin #FX #BTC #…",
         "cleaned_text": "$BTC Going up signal on a 30 minute chart! Price: \\4898128.0 (2021/02/11 07:15) Bitcoin   ",
         "_deepnote_index_column": 211
        },
        {
         "tweets": "Don't forget, JUST HODL ! 🚨🚨🚀\n#cryptocurrency #HODL #hold #bitcoin #btc #Ethereum #eth\n#DOGE #Carda…",
         "cleaned_text": "Don't forget, JUST HODL ! 🚨🚨🚀   bitcoin      … ",
         "_deepnote_index_column": 213
        },
        {
         "tweets": "Want to Learn and Earn FREE 💰 #CRYPTOCURRENCY stay tunded to this edition of CNA !! #CryptoNews\n#cr…",
         "cleaned_text": "Want to Learn and Earn FREE 💰  stay tunded to this edition of CNA !! … ",
         "_deepnote_index_column": 214
        },
        {
         "tweets": "#bidcoin social #reward program gives you #FREE bid token to #play right away! NO need to recharge!…",
         "cleaned_text": " social  program gives you  bid token to  right away! NO need to recharge!! 😍 click now… ",
         "_deepnote_index_column": 215
        },
        {
         "tweets": "Love this community! #Bitcoin #BTC #ForThePeople #WSB $BB $AMC $NOK $GME #BANG https://t.co/NOiqZO1…",
         "cleaned_text": "Love this community! Bitcoin    $BB $AMC $NOK $GME  ",
         "_deepnote_index_column": 216
        },
        {
         "tweets": "#RSRBTC hit the third target, 127 sats.🚀🚀🚀\n\n19 % profit in the bag already.💰💰💰\n\n#rsr #rsrbtc #rsrus…",
         "cleaned_text": " hit the third target, 127 sats.🚀🚀🚀19 % profit in the bag already.💰💰💰   $rsr ￼… ",
         "_deepnote_index_column": 217
        },
        {
         "tweets": "What’s your Crypto Risk Appetite?\n\n#Cryptocurrencies #Bitcoin #ETH #XRP #ADA #DOT #LINK #BNB #BTC #…",
         "cleaned_text": "What’s your Crypto Risk Appetite? Bitcoin         ",
         "_deepnote_index_column": 218
        },
        {
         "tweets": "Follow me @cryptodemi    #Bitcoin #Cardano #BTC https://t.co/iI2qhcBi4P",
         "cleaned_text": "Follow me @cryptodemi    Bitcoin   ",
         "_deepnote_index_column": 219
        },
        {
         "tweets": "$STX is going to 1$ by the end of this week. Get onboard!! #blockstack #Bitcoin #BTC $BTC",
         "cleaned_text": "$STX is going to 1$ by the end of this week. Get onboard!!  Bitcoin  $BTC",
         "_deepnote_index_column": 220
        },
        {
         "tweets": "Mercado Crypto Vale + que Google, Bitcoin rompe $48,000 ... https://t.co/ToGkLGVjc2 #bitcoin #BTC",
         "cleaned_text": "Mercado Crypto Vale + que Google, Bitcoin rompe $48,000 ...  bitcoin ",
         "_deepnote_index_column": 221
        },
        {
         "tweets": "Correlation Between S&amp;P 500 And #Bitcoin \n\n#Truth #Crypto #Btc #SPX #Investing https://t.co/lro…",
         "cleaned_text": "Correlation Between S&amp;P 500 And Bitcoin      ",
         "_deepnote_index_column": 222
        },
        {
         "tweets": "https://t.co/mns1rudicu\n\nThe long-time software executive sees #bitcoin as a form of \"digital gold\"…",
         "cleaned_text": " long-time software executive sees bitcoin as a form of \"digital gold\" and it's the… ",
         "_deepnote_index_column": 223
        },
        {
         "tweets": "Today $1 buys 2,226 satoshi's\n\n0.00002226 #BTC\n0.00002226 Sats\n2,226 Sats\n\nA fraction of a #Bitcoin…",
         "cleaned_text": "Today $1 buys 2,226 satoshi's0.00002226 0.00002226 Sats2,226 SatsA fraction of a Bitcoin Run the Nu…",
         "_deepnote_index_column": 225
        },
        {
         "tweets": "and mid-high time frame divergence almost on all oscillators. I will be very careful by trading it\n…",
         "cleaned_text": "and mid-high time frame divergence almost on all oscillators. I will be very careful by trading it …",
         "_deepnote_index_column": 226
        },
        {
         "tweets": "Bitcoin BTC Current Price:\n$44,959.90\n1 Hour: -0.49% | 24 Hours: -4.46% | 7 Days: 21.37%\n#btc #bitc…",
         "cleaned_text": "Bitcoin BTC Current Price:$44,959.901 Hour: -0.49% | 24 Hours: -4.46% | 7 Days: 21.37% bitcoin",
         "_deepnote_index_column": 227
        },
        {
         "tweets": "@ShdCash \nComing Soon🚀🔥\n#cryptocurrency\n#btc  \n#bitcoin  \n#eth\n#crypto\n#blockchain\n#kriptopara\n#tra…",
         "cleaned_text": "@ShdCash Coming Soon🚀🔥  bitcoin  … ",
         "_deepnote_index_column": 229
        },
        {
         "tweets": "Start your #Bitcoin investing today and Get $10 of #BTC when you sign up and make your 1st investme…",
         "cleaned_text": "Start your Bitcoin investing today and Get $10 of  when you sign up and make your 1st investment. b…",
         "_deepnote_index_column": 230
        },
        {
         "tweets": "CME’s Ether futures drove more than $30M volume on first day https://t.co/LtlLjbqRg5 #btc #bitcoinn…",
         "cleaned_text": "CME’s Ether futures drove more than $30M volume on first day   bitcoinnews bitcoin",
         "_deepnote_index_column": 231
        },
        {
         "tweets": "@CryptoWizardd $KOBE  🚀\n\n#YieldFarming\nmax supply 54m\n\nTrade here https://t.co/57VTDuAUXY\n\n#DeFi #c…",
         "cleaned_text": "@CryptoWizardd $KOBE  🚀max supply 54mTrade here  … ",
         "_deepnote_index_column": 233
        },
        {
         "tweets": "How do you store your #Bitcoin ? #BTC #Cryptocurency",
         "cleaned_text": "How do you store your Bitcoin ?  ",
         "_deepnote_index_column": 234
        },
        {
         "tweets": "also an extra structure supporting this to be happened\n\n#BTC \n\n $eth #ethusd #ethusdt #ethbtc #bitc…",
         "cleaned_text": "also an extra structure supporting this to be happened  $eth    bitcoin … ",
         "_deepnote_index_column": 235
        },
        {
         "tweets": "https://t.co/0llzD7vaC9\n\n#Huobi Global Will Donate 1 Million #AKRO \n🎉💝🚀\nIn honor of the Lunar New Y…",
         "cleaned_text": " Global Will Donate 1 Million  🎉💝🚀In honor of the Lunar New Year on the platf… ",
         "_deepnote_index_column": 236
        },
        {
         "tweets": "Join my Stream LIVE on YouTube! How to mine #BitCoin with #GamerHashCom! @IllyStern LIVE on #ILLYWH…",
         "cleaned_text": "Join my Stream LIVE on YouTube! How to mine  with ! @IllyStern LIVE on  on… ",
         "_deepnote_index_column": 237
        },
        {
         "tweets": "Is it BULLSEYE again ??? 🎯🎯🎯\n\nGRT / USDT (Before &amp; after)\n\n#GRTUSDT hit all the targets set by …",
         "cleaned_text": "Is it BULLSEYE again ??? 🎯🎯🎯GRT / USDT (Before &amp; after) hit all the targets set by .🚀164… ",
         "_deepnote_index_column": 238
        },
        {
         "tweets": "$STX is going to 10$. Buckle up. The next most valuable thing after Bitcoin. #Ethereum #Bitcoin #BT…",
         "cleaned_text": "$STX is going to 10$. Buckle up. The next most valuable thing after Bitcoin.  Bitcoin  $BTC",
         "_deepnote_index_column": 240
        },
        {
         "tweets": "very good #AVAX  so you're just seeing the tip of an iceberg. 😎\n\n#Binance #BTC #BSC #paribu #btctur…",
         "cleaned_text": "very good   so you're just seeing the tip of an iceberg. 😎      … ",
         "_deepnote_index_column": 241
        },
        {
         "tweets": "-\nHave a look at this new 10$ Giveaway 🍀\n\nJust 12 hour left to join ⏰\n\n#Ad #cryptocurrency #Giveawa…",
         "cleaned_text": "-Have a look at this new 10$ Giveaway 🍀Just 12 hour left to join ⏰   … ",
         "_deepnote_index_column": 242
        },
        {
         "tweets": "Buy $BTC ‼️‼️ #btc #Bitcoin #BTC",
         "cleaned_text": "Buy $BTC ‼️‼️  Bitcoin ",
         "_deepnote_index_column": 243
        },
        {
         "tweets": "@MartiniGuyYT $KOBE  🚀\n\n#YieldFarming\nmax supply 54m\n\nTrade here https://t.co/57VTDuAUXY\n\n#DeFi #cr…",
         "cleaned_text": "@MartiniGuyYT $KOBE  🚀max supply 54mTrade here  … ",
         "_deepnote_index_column": 244
        },
        {
         "tweets": "My favourite earned me good profit again.\n\nI sold half of my #STX at 0.589$ level. A fair %15 gain …",
         "cleaned_text": "My favourite earned me good profit again.I sold half of my  at 0.589$ level. A fair %15 gain in a d…",
         "_deepnote_index_column": 245
        },
        {
         "tweets": "ALERT!!🚨SHOCKING BITCOIN PRICE MOVE!!!  🚨  ⚠️\n\nIn Todays Video:\n-  #BITCOIN VOLATILE!!!\n-   SMALL A…",
         "cleaned_text": "ALERT!!🚨SHOCKING BITCOIN PRICE MOVE!!!  🚨  ⚠️In Todays Video:-   VOLATILE!!!-   SMALL ALTCOINS WITH…",
         "_deepnote_index_column": 246
        },
        {
         "tweets": "1 BTC Price: Bitstamp 45042.11 USD Coinbase  USD #btc #bitcoin 2021-02-10 17:01 https://t.co/UTUR9Y…",
         "cleaned_text": "1 BTC Price: Bitstamp 45042.11 USD Coinbase  USD  bitcoin 2021-02-10 17:01 ",
         "_deepnote_index_column": 247
        },
        {
         "tweets": "@Coinwise_QvQ @Adouble212 $KOBE  🚀\n\n#YieldFarming\nmax supply 54m\n\nTrade here https://t.co/57VTDuAUX…",
         "cleaned_text": "@Coinwise_QvQ @Adouble212 $KOBE  🚀max supply 54mTrade here  ",
         "_deepnote_index_column": 248
        },
        {
         "tweets": "@THEAnnette 1/2 Been holding #BTC for years #cryptotwitter?\n\nImagine all those years you held tight…",
         "cleaned_text": "@THEAnnette 1/2 Been holding  for years ?Imagine all those years you held tight to that… ",
         "_deepnote_index_column": 249
        },
        {
         "tweets": "@f2pool_official i see what your doin and so can everyone else #CryptoNews #blockchain #BTC #InCryp…",
         "cleaned_text": "@f2pool_official i see what your doin and so can everyone else     Bitcoin  ",
         "_deepnote_index_column": 250
        },
        {
         "tweets": "#Hoskinson sparks rumours of #Apple and #Oracle #Partnership which would fit nicely into the #Apple…",
         "cleaned_text": " sparks rumours of  and   which would fit nicely into the   a… ",
         "_deepnote_index_column": 251
        },
        {
         "tweets": "Mastercard Will Let Merchants Accept Payments in Crypto This Year\n\nhttps://t.co/X63TFojkd4\n \n#btc #…",
         "cleaned_text": "Mastercard Will Let Merchants Accept Payments in Crypto This Year  bitcoin  ",
         "_deepnote_index_column": 252
        },
        {
         "tweets": "Bitcoin - BTC\nPrice: $44,899.88\nChange in 1h: -0.60451676%\nMarket cap: $836,273,188,500.08\nRanking:…",
         "cleaned_text": "Bitcoin - BTCPrice: $44,899.88Change in 1h: -0.60451676%Market cap: $836,273,188,500.08Ranking: 1Bi…",
         "_deepnote_index_column": 253
        },
        {
         "tweets": "⏰ 01:00\n₿ Bitcoin = 44.998,6093 $\n#bitcoin #btc #BTCUSD",
         "cleaned_text": "⏰ 01:00₿ Bitcoin = 44.998,6093 $bitcoin  ",
         "_deepnote_index_column": 254
        },
        {
         "tweets": "Bitcoin: $44,988.42\n -4.78% (-$2258.19)\nHigh: $47,300\nLow: $43,766\nVolume: 715\n\n$BTC #BTC #bitcoin",
         "cleaned_text": "Bitcoin: $44,988.42 -4.78% (-$2258.19)High: $47,300Low: $43,766Volume: 715$BTC  bitcoin",
         "_deepnote_index_column": 255
        },
        {
         "tweets": "⏰ 01:00\n₿ Bitcoin = 44.998,6093 $\n#bitcoin #btc #BTCUSD",
         "cleaned_text": "⏰ 01:00₿ Bitcoin = 44.998,6093 $bitcoin  ",
         "_deepnote_index_column": 256
        },
        {
         "tweets": "Market Id : BTC-AUD\nLast Price :58500\n24 Hour High :61550\n24 Hour Low :57009.19\nBest Bid :58420.01\n…",
         "cleaned_text": "Market Id : BTC-AUDLast Price :5850024 Hour High :6155024 Hour Low :57009.19Best Bid :58420.01Best …",
         "_deepnote_index_column": 257
        },
        {
         "tweets": "Bitcoin Black v Bitcoin. Get FREE coins ($36 value)! https://t.co/8lIr2Q63kf \n\n#btc #Bitcoin #crypt…",
         "cleaned_text": "Bitcoin Black v Bitcoin. Get FREE coins ($36 value)!   Bitcoin    ",
         "_deepnote_index_column": 259
        },
        {
         "tweets": "faucet free #bitcoin \nevery 10 minutes\n\nyou can buy faucet box #BTC or #Ethereum  and earn $100 eve…",
         "cleaned_text": "faucet free bitcoin every 10 minutesyou can buy faucet box  or   and earn $100 every hour… ",
         "_deepnote_index_column": 262
        },
        {
         "tweets": "https://t.co/gJjWvcDcH7 💯\nhttps://t.co/Ch3mVOzSJE 💯\n\n🤑🚀🌱👉 https://t.co/GydSZXKIno\n\n#AmazonCoin $AMA…",
         "cleaned_text": " 💯 💯🤑🚀🌱👉  $AMA  … ",
         "_deepnote_index_column": 263
        },
        {
         "tweets": "Blue Ridge Bank Shares Halted by NYSE After Bitcoin ATM Announcement | Nasdaq #BlueRidgeBank #btc #…",
         "cleaned_text": "Blue Ridge Bank Shares Halted by NYSE After Bitcoin ATM Announcement | Nasdaq   bitcoin  ",
         "_deepnote_index_column": 264
        },
        {
         "tweets": "#World's Leading #Cloud  #Mining ! \nNew user get 3 TH/S (#BTC ) #Hash Rate For #Free! #earnmoney #B…",
         "cleaned_text": "'s Leading    ! New user get 3 TH/S ( )  Rate For !  Bitcoin … ",
         "_deepnote_index_column": 265
        },
        {
         "tweets": "@Geertjancap In simple terms, you mean to say that the next halving will shoot the price of #bitcoi…",
         "cleaned_text": "@Geertjancap In simple terms, you mean to say that the next halving will shoot the price of bitcoin…",
         "_deepnote_index_column": 266
        },
        {
         "tweets": "Consolidation is healthy if you can't handle a 10/20% correction you shouldn't be in the crypyoscpa…",
         "cleaned_text": "Consolidation is healthy if you can't handle a 10/20% correction you shouldn't be in the crypyoscpa…",
         "_deepnote_index_column": 267
        },
        {
         "tweets": "#World's Leading #Cloud  #Mining ! \nNew user get 3 TH/S (#BTC ) #Hash Rate For #Free! #earnmoney #B…",
         "cleaned_text": "'s Leading    ! New user get 3 TH/S ( )  Rate For !  Bitcoin … ",
         "_deepnote_index_column": 268
        },
        {
         "tweets": "In First For Commercial #Bank, Blue Ridge ATMs Are Now Selling #Bitcoin  #btc https://t.co/PuAhtdrv…",
         "cleaned_text": "In First For Commercial , Blue Ridge ATMs Are Now Selling Bitcoin   ",
         "_deepnote_index_column": 269
        },
        {
         "tweets": "@Bloqport Buying more #Bitcoin and #DeFi alts ASAP 👇 \n\n#BTC #Binance #Chainlink \n\nhttps://t.co/wgdQ…",
         "cleaned_text": "@Bloqport Buying more Bitcoin and  alts ASAP 👇    ",
         "_deepnote_index_column": 270
        },
        {
         "tweets": "JOIN HANDY PICK !!\n\nEarn daily #crypto !\nJoin daily contests to earn more !\n\nUse my code : 6TLSR5… …",
         "cleaned_text": "JOIN HANDY PICK !!Earn daily  !Join daily contests to earn more !Use my code : 6TLSR5… ",
         "_deepnote_index_column": 271
        },
        {
         "tweets": "i'm takin it back, wyckoff is still on the table waiting for the confirmation or cancellation signa…",
         "cleaned_text": "i'm takin it back, wyckoff is still on the table waiting for the confirmation or cancellation signa…",
         "_deepnote_index_column": 273
        },
        {
         "tweets": "JOIN #TIMESTOPE !!\n\n- #Earn free crypto from your phone every day !\n- Fast growing new token !\n\nDON…",
         "cleaned_text": "JOIN  !!-  free crypto from your phone every day !- Fast growing new token !DON'T MISS OUTMy… ",
         "_deepnote_index_column": 275
        },
        {
         "tweets": "JOIN REFLEX CLOUD MINING !!\n\n- #Earn free crypto from your phone every 3 hours !\n- Fast growing new…",
         "cleaned_text": "JOIN REFLEX CLOUD MINING !!-  free crypto from your phone every 3 hours !- Fast growing new token !…",
         "_deepnote_index_column": 276
        },
        {
         "tweets": "JOIN #GOODDOLLAR !!\n\n- Collect your daily crypto !\n- #Earn 50G$ when you use my link !\n\nDONT MISS O…",
         "cleaned_text": "JOIN  !!- Collect your daily crypto !-  50G$ when you use my link !DONT MISS OUT !… ",
         "_deepnote_index_column": 277
        },
        {
         "tweets": "SIGN UP FOR #FREEMINING !!\n\n- Claim daily #bitcoin !\n- Daily freespins !\n- Compete in contests !… h…",
         "cleaned_text": "SIGN UP FOR  !!- Claim daily bitcoin !- Daily freespins !- Compete in contests !… ",
         "_deepnote_index_column": 278
        },
        {
         "tweets": "SIGN UP FOR #AUTOFAUCET !!\n\n- NO WITHDRAWAL MINIMUM !\n- Claim daily #Crypto !\n- Tasks &amp; mining …",
         "cleaned_text": "SIGN UP FOR  !!- NO WITHDRAWAL MINIMUM !- Claim daily  !- Tasks &amp; mining !… ",
         "_deepnote_index_column": 279
        },
        {
         "tweets": "Download #WALLEM !!\n\n- Earn $10 worth of #Pteria tokens !\n- Earn more in a #PokemonGO style game !\n…",
         "cleaned_text": "Download  !!- Earn $10 worth of  tokens !- Earn more in a  style game !Referral Code:… ",
         "_deepnote_index_column": 280
        },
        {
         "tweets": "JOIN #UPLAND !!\n\n- 5K+ Free $UPX tokens !\n- Claim in-game items to #earn more !\n\nhttps://t.co/LAMdK…",
         "cleaned_text": "JOIN  !!- 5K+ Free $UPX tokens !- Claim in-game items to  more ! ",
         "_deepnote_index_column": 281
        },
        {
         "tweets": "SIGN UP FOR #InitiativeQ !\n\n#CLAIM YOUR 10K+ TOKENS NOW !\n\nHere is my invite-only link: https://t.c…",
         "cleaned_text": "SIGN UP FOR  ! YOUR 10K+ TOKENS NOW !Here is my invite-only link:  ",
         "_deepnote_index_column": 282
        },
        {
         "tweets": "$BTC Going up signal on a 15 minute chart! Price: \\4869007.0 (2021/02/11 06:45) #Bitcoin #FX #BTC #…",
         "cleaned_text": "$BTC Going up signal on a 15 minute chart! Price: \\4869007.0 (2021/02/11 06:45) Bitcoin   ",
         "_deepnote_index_column": 284
        },
        {
         "tweets": "INSTALL #MOBILIO !!\n\n#Earn #rewards by not using your phone while driving !\n\nClaim 50 free points !…",
         "cleaned_text": "INSTALL  !!  by not using your phone while driving !Claim 50 free points !Use code: 3i33t… ",
         "_deepnote_index_column": 285
        },
        {
         "tweets": "SIGN UP FOR #COINTIPLY !!\n\n- Claim hourly #bitcoin !\n- Play #games to #earn more !\n- Try the multip…",
         "cleaned_text": "SIGN UP FOR  !!- Claim hourly bitcoin !- Play  to  more !- Try the multiplier to win BIG… ",
         "_deepnote_index_column": 286
        },
        {
         "tweets": "JOIN #Coinbase FOR FREE !!\n \n#Earn $10 worth of #Bitcoin for the first $100 you spend on any #crypt…",
         "cleaned_text": "JOIN  FOR FREE !!  $10 worth of Bitcoin for the first $100 you spend on any  !!… ",
         "_deepnote_index_column": 287
        },
        {
         "tweets": "JOIN #BINANCE FOR FREE !!\n\n- Receive 20% #Commission !\n- Biggest #EXCHANGE in the world !\n\nhttps://…",
         "cleaned_text": "JOIN  FOR FREE !!- Receive 20%  !- Biggest  in the world ! ",
         "_deepnote_index_column": 288
        },
        {
         "tweets": "JOIN https://t.co/nai1SwIMHW !!\n\n- Write articles to earn !\n- Earn $10+ #BCH daily !\n- No minimum w…",
         "cleaned_text": "JOIN  !!- Write articles to earn !- Earn $10+  daily !- No minimum withdraw !Follo… ",
         "_deepnote_index_column": 289
        },
        {
         "tweets": "JOIN https://t.co/PrnA9Xxg59 !!\n\n- New social media platform !\n- Earn $5+ #BCH daily !\n- No minimum…",
         "cleaned_text": "JOIN  !!- New social media platform !- Earn $5+  daily !- No minimum withdraw !Fol… ",
         "_deepnote_index_column": 290
        },
        {
         "tweets": "ROSE / BTC\n\nHere are the new bullish targets for #ROSEBTC.\n\nAll the best for the followers.🙏\n\n#rose…",
         "cleaned_text": "ROSE / BTCHere are the new bullish targets for .All the best for the followers.🙏 … ",
         "_deepnote_index_column": 291
        },
        {
         "tweets": "Go Lambo, Go Ford, Go Rover. Shop all makes and models with cryptocurrency at https://t.co/wsuweext…",
         "cleaned_text": "Go Lambo, Go Ford, Go Rover. Shop all makes and models with cryptocurrency at  ",
         "_deepnote_index_column": 293
        },
        {
         "tweets": "$102m of Bitcoin was just moved from Coinbase to cold storage 🐳🐳🐳\n\n- Institutions are buying #Bitco…",
         "cleaned_text": "$102m of Bitcoin was just moved from Coinbase to cold storage 🐳🐳🐳- Institutions are buying Bitcoin …",
         "_deepnote_index_column": 295
        },
        {
         "tweets": "#DeFi = game changer \n\n$ETH #ETH #Ethereum\n#altcoins #AltSeason \n#Bitcoin  #BTC  $BTC $LINK $AAVE $…",
         "cleaned_text": " = game changer $ETH    Bitcoin    $BTC $LINK $AAVE $UNI  🦄… ",
         "_deepnote_index_column": 296
        },
        {
         "tweets": "SIGN UP FOR #PUBLISH0X !!\n\n- #EARN DAILY #ETH !\n- Write articles to earn more #CRYPTO !\n\nhttps://t.…",
         "cleaned_text": "SIGN UP FOR  !!-  DAILY  !- Write articles to earn more  ! ",
         "_deepnote_index_column": 298
        },
        {
         "tweets": "INSTALL #PRESEARCH BROWSER EXTENSION !!\n\n#earn easy #money while browsing !!\n\nhttps://t.co/FfvGa1Uq…",
         "cleaned_text": "INSTALL  BROWSER EXTENSION !! easy  while browsing !! … ",
         "_deepnote_index_column": 299
        },
        {
         "tweets": "INSTALL #CRYPTOTAB !!\n\n- MAKE #PASSIVEINCOME !\n- Claim daily #CRYPTO !\n- #BITCOIN miner built-in !……",
         "cleaned_text": "INSTALL  !!- MAKE  !- Claim daily  !-  miner built-in !… ",
         "_deepnote_index_column": 300
        },
        {
         "tweets": "You can take some rest my precious!\nYou deserve it! ⚡️#Bitcoin ⚡️\n\n#BTC #Cryptocurrencies #Crypto h…",
         "cleaned_text": "You can take some rest my precious!You deserve it! ⚡️Bitcoin ⚡️   ",
         "_deepnote_index_column": 301
        },
        {
         "tweets": "@coinbase still after months hasnt allowed me to purchase #btc with my account yet I still have fun…",
         "cleaned_text": "@coinbase still after months hasnt allowed me to purchase  with my account yet I still have funds i…",
         "_deepnote_index_column": 302
        },
        {
         "tweets": "Swissborg Community is an APP to win #crypto. You just need to forecast the price of #Bitcoin in th…",
         "cleaned_text": "Swissborg Community is an APP to win . You just need to forecast the price of Bitcoin in the next 2…",
         "_deepnote_index_column": 303
        },
        {
         "tweets": "Government Digital Transformation - listen here! https://t.co/oSRfPBMZeq #bitcoin #cryptocurrency #…",
         "cleaned_text": "Government Digital Transformation - listen here!  bitcoin  … ",
         "_deepnote_index_column": 304
        },
        {
         "tweets": "DOWNLOAD #BeeNetwork !!\n\n- New #Bitcoin 2.0 !\n- 3MIL+ members !\n- Halving at next milestone --&gt; …",
         "cleaned_text": "DOWNLOAD  !!- New Bitcoin 2.0 !- 3MIL+ members !- Halving at next milestone --&gt; 10M members !CLA…",
         "_deepnote_index_column": 305
        },
        {
         "tweets": "DOWNLOAD #PiNetwork !!\n\n- New #Bitcoin 2.0 !\n- Over 12 million members worldwide !\n- Currently in p…",
         "cleaned_text": "DOWNLOAD  !!- New Bitcoin 2.0 !- Over 12 million members worldwide !- Currently in phase 2/3 !- DEC…",
         "_deepnote_index_column": 306
        },
        {
         "tweets": "⬆️⬆️ $BTC BUYING PRESSURE ALERT 📈 Price trading around 44831\n          https://t.co/iMB1mj8Cs1 👈 #B…",
         "cleaned_text": "⬆️⬆️ $BTC BUYING PRESSURE ALERT 📈 Price trading around 44831           👈 Bitcoin  ",
         "_deepnote_index_column": 307
        },
        {
         "tweets": "⬇️ Seller alert: 22 $BTC sold into the bid @ 44514\n  https://t.co/iMB1mj8Cs1 👈 #Bitcoin #crypto #BTC",
         "cleaned_text": "⬇️ Seller alert: 22 $BTC sold into the bid @ 44514   👈 Bitcoin  ",
         "_deepnote_index_column": 310
        },
        {
         "tweets": "LIVE at 4:50PM #Miami time- The 1 #Bitcoin show- The #Tesla $BTC All-time high! #Dogecoin noise, #B…",
         "cleaned_text": "LIVE at 4:50PM  time- The 1 Bitcoin show- The  $BTC All-time high!  noise,  virus silline… ",
         "_deepnote_index_column": 311
        },
        {
         "tweets": "this is how @stratisplatform helps and facilitates talent!  what a great team and community! \n#stra…",
         "cleaned_text": "this is how @stratisplatform helps and facilitates talent!  what a great team and community!   … ",
         "_deepnote_index_column": 312
        },
        {
         "tweets": "Shocking! ⚡️ \n#btc #bitcoin #energy  https://t.co/gYR5I9T5bw",
         "cleaned_text": "Shocking! ⚡️  bitcoin   ",
         "_deepnote_index_column": 313
        }
       ],
       "rows_bottom": [
        {
         "tweets": "Top current trending $btc news with the most link shares across social posts is “US Senator Says #B…",
         "cleaned_text": "Top current trending $btc news with the most link shares across social posts is “US Senator Says Bi…",
         "_deepnote_index_column": 106395
        },
        {
         "tweets": "CytoDyn strikes agreement with Chiral Pharma to supply up to 200K vials of leronlimab to critically…",
         "cleaned_text": "CytoDyn strikes agreement with Chiral Pharma to supply up to 200K vials of leronlimab to critically…",
         "_deepnote_index_column": 106396
        },
        {
         "tweets": "WATCH THE $Bulba GRAPH AT HOME! \nCommunity token supported and backed up! https://t.co/HccCOf3izx \n…",
         "cleaned_text": "WATCH THE $Bulba GRAPH AT HOME! Community token supported and backed up!   $hoge $doge $froge $soge…",
         "_deepnote_index_column": 106397
        },
        {
         "tweets": "$ALGO looking good. Target shown. \n#Bitcoin #BTC  #altcoin #Altcoins  #cryptocurrency https://t.co/…",
         "cleaned_text": "$ALGO looking good. Target shown. Bitcoin       ",
         "_deepnote_index_column": 106398
        },
        {
         "tweets": "For #cryptocoin Lovers \n#BTC #Bitcoin #ADA #ETH #Ethereum #DOGE #dogecoin #XVG #XRP #Altcoins #cryp…",
         "cleaned_text": "For  Lovers  Bitcoin          ",
         "_deepnote_index_column": 106399
        },
        {
         "tweets": "📢LOOK AT THESE DIPS: THESE COINS ARE ON SALE!!! IMPORTANT BTC NEWS AND M... https://t.co/dVZKlhPOsW…",
         "cleaned_text": "📢LOOK AT THESE DIPS: THESE COINS ARE ON SALE!!! IMPORTANT BTC NEWS AND M...   Bitcoin        ",
         "_deepnote_index_column": 106400
        },
        {
         "tweets": "Doge Dog\nMens/Womens shirts available\nGet  Your Shirt Here&gt;&gt; https://t.co/VIKnGRERFt\n#redditr…",
         "cleaned_text": "Doge DogMens/Womens shirts availableGet  Your Shirt Here&gt;&gt;          bitcoin       ",
         "_deepnote_index_column": 106401
        },
        {
         "tweets": "What phone would you recommend for a crypto miner/trader? \n\nSamsung or iPhone 🤔\n\n#crypto #mining #t…",
         "cleaned_text": "What phone would you recommend for a crypto miner/trader? Samsung or iPhone 🤔       bitcoin  ",
         "_deepnote_index_column": 106402
        },
        {
         "tweets": "The current price of bitcoin is $60,759.00. It has decreased by -1.354% in the last 24 hours #bitco…",
         "cleaned_text": "The current price of bitcoin is $60,759.00. It has decreased by -1.354% in the last 24 hours bitcoi…",
         "_deepnote_index_column": 106403
        },
        {
         "tweets": "The $BTC price is at $60723.98 right now.\n🟢 Compared to the last tweet, the price has increased by …",
         "cleaned_text": "The $BTC price is at $60723.98 right now.🟢 Compared to the last tweet, the price has increased by $…",
         "_deepnote_index_column": 106404
        },
        {
         "tweets": "465 #BTC (28.231.165 USD) will be transfered from unknown wallet to unknown address (never used bef…",
         "cleaned_text": "465  (28.231.165 USD) will be transfered from unknown wallet to unknown address (never used before) ",
         "_deepnote_index_column": 106405
        },
        {
         "tweets": "🔄 Prices update in $USD (1 hour):\n\n$BTC - 60784.7 $  (-0.06 %)\n$ETH - 2384.68 $  (-0.32 %)\n$DOT - 4…",
         "cleaned_text": "🔄 Prices update in $USD (1 hour):$BTC - 60784.7 $  (-0.06 %)$ETH - 2384.68 $  (-0.32 %)$DOT - 43.77…",
         "_deepnote_index_column": 106406
        },
        {
         "tweets": "Anyone recommend any good BTC pairs? #cryptocurrencies #CryptoNews #cryptocurrency #Crypto #dogecoi…",
         "cleaned_text": "Anyone recommend any good BTC pairs?       Bitcoin  ",
         "_deepnote_index_column": 106407
        },
        {
         "tweets": "New Post: Investors’ on-chain activity hints at Bitcoin price cycle top above $166,000\nLink: https:…",
         "cleaned_text": "New Post: Investors’ on-chain activity hints at Bitcoin price cycle top above $166,000Link:    ",
         "_deepnote_index_column": 106408
        },
        {
         "tweets": "Week 15 of 2021 (passive income) #affiliatemarketing #forex #tradeforex #passiveincome #dailycash #…",
         "cleaned_text": "Week 15 of 2021 (passive income)         bitcoin   @  ",
         "_deepnote_index_column": 106409
        },
        {
         "tweets": "New Post: Coinbase frenzy, DOGE dazzles, Bitcoin breaks records, Jim Cramer sells: Hodler’s Digest,…",
         "cleaned_text": "New Post: Coinbase frenzy, DOGE dazzles, Bitcoin breaks records, Jim Cramer sells: Hodler’s Digest,…",
         "_deepnote_index_column": 106410
        },
        {
         "tweets": "@Coin98Analytics @PancakeSwap @bakery_swap @iSafePal @dego_finance @MathWallet @1inchNetwork @JulSw…",
         "cleaned_text": "@Coin98Analytics @PancakeSwap @bakery_swap @iSafePal @dego_finance @MathWallet @1inchNetwork @JulSw…",
         "_deepnote_index_column": 106411
        },
        {
         "tweets": "Install CryptoTab browser and get real Bitcoins for using it. Your earnings will keep growing as lo…",
         "cleaned_text": "Install CryptoTab browser and get real Bitcoins for using it. Your earnings will keep growing as lo…",
         "_deepnote_index_column": 106412
        },
        {
         "tweets": "1 BTC Price: Bitstamp 60753.74 USD Coinbase  USD #btc #bitcoin 2021-04-17 19:01 https://t.co/W0QmVd…",
         "cleaned_text": "1 BTC Price: Bitstamp 60753.74 USD Coinbase  USD  bitcoin 2021-04-17 19:01 ",
         "_deepnote_index_column": 106413
        },
        {
         "tweets": "🔄 Prices update in $USD (1 hour):\n\n$BTC - 60749.1 $  (-0.05 %)\n$ETH - 2380.48 $  (-0.51 %)\n$DOT - 4…",
         "cleaned_text": "🔄 Prices update in $USD (1 hour):$BTC - 60749.1 $  (-0.05 %)$ETH - 2380.48 $  (-0.51 %)$DOT - 43.65…",
         "_deepnote_index_column": 106414
        },
        {
         "tweets": "What the forks? Bitcoin Cash and Ethereum Classic see triple-digit rallies\n\n,https://t.co/2nrqF5THq…",
         "cleaned_text": "What the forks? Bitcoin Cash and Ethereum Classic see triple-digit rallies, bitcoin       ",
         "_deepnote_index_column": 106415
        },
        {
         "tweets": "How and Where to Buy ACoconut (AC) #ACoconut $ACoconut #AC $AC #bitcoin #btc #crypto #cryptocurrenc…",
         "cleaned_text": "How and Where to Buy ACoconut (AC)  $ACoconut  $AC bitcoin           ",
         "_deepnote_index_column": 106416
        },
        {
         "tweets": "Typed \"top 10\" on Google, saw top 10 cryptocurrency topping the search list (L) &amp; got my eyes o…",
         "cleaned_text": "Typed \"top 10\" on Google, saw top 10 cryptocurrency topping the search list (L) &amp; got my eyes o…",
         "_deepnote_index_column": 106417
        },
        {
         "tweets": "The Current #Bitcoin Price in USD is: $60701.11🇺🇸\n\nThe Current #Bitcoin Price in CAD is: $75927.98🇨…",
         "cleaned_text": "The Current Bitcoin Price in USD is: $60701.11🇺🇸The Current Bitcoin Price in CAD is: $75927.98🇨🇦 ",
         "_deepnote_index_column": 106418
        },
        {
         "tweets": "Bitcoin - BTC\nPrice: $61,281.73\nChange in 1h: -0.1778782%\nMarket cap: $1,145,054,447,408.50\nRanking…",
         "cleaned_text": "Bitcoin - BTCPrice: $61,281.73Change in 1h: -0.1778782%Market cap: $1,145,054,447,408.50Ranking: 1B…",
         "_deepnote_index_column": 106419
        },
        {
         "tweets": "Market Id : BTC-AUD\nLast Price :79425.77\n24 Hour High :81350.12\n24 Hour Low :78482.78\nBest Bid :791…",
         "cleaned_text": "Market Id : BTC-AUDLast Price :79425.7724 Hour High :81350.1224 Hour Low :78482.78Best Bid :79197.4…",
         "_deepnote_index_column": 106420
        },
        {
         "tweets": "$XTZ looking good for big rise. Target zone shown.\n#Bitcoin #BTC  #altcoin #Altcoins  #cryptocurren…",
         "cleaned_text": "$XTZ looking good for big rise. Target zone shown.Bitcoin       ",
         "_deepnote_index_column": 106421
        },
        {
         "tweets": "@brian_armstrong You $KIN not be serious! :)\nGrab yourself the next 10x bagger\n-SEC clarity, case s…",
         "cleaned_text": "@brian_armstrong You $KIN not be serious! :)Grab yourself the next 10x bagger-SEC clarity, case set…",
         "_deepnote_index_column": 106422
        },
        {
         "tweets": "while there are coins where a pump pump &amp; dump seem to be punished and the coin becomes firmer …",
         "cleaned_text": "while there are coins where a pump pump &amp; dump seem to be punished and the coin becomes firmer …",
         "_deepnote_index_column": 106423
        },
        {
         "tweets": "My guess is that we will experience a very strong upward cycle in the next 2-3 weeks. Buckle up! #b…",
         "cleaned_text": "My guess is that we will experience a very strong upward cycle in the next 2-3 weeks. Buckle up!   …",
         "_deepnote_index_column": 106424
        },
        {
         "tweets": "Invest in crypto #cryptocurrency #altcoin #Bitcoin #BTC #Ethereum #BCH #ETH #xrp #DogeDay420 #doget…",
         "cleaned_text": "Invest in crypto   Bitcoin        ",
         "_deepnote_index_column": 106425
        },
        {
         "tweets": "@coinbase You $KIN not be serious! :)\nGrab yourself the next 10x bagger\n-SEC clarity, case settled\n…",
         "cleaned_text": "@coinbase You $KIN not be serious! :)Grab yourself the next 10x bagger-SEC clarity, case settled-su…",
         "_deepnote_index_column": 106426
        },
        {
         "tweets": "You know what's crazy, #Bitcoin will hit $100k this year. You know what's even crazier, people read…",
         "cleaned_text": "You know what's crazy, Bitcoin will hit $100k this year. You know what's even crazier, people readi…",
         "_deepnote_index_column": 106427
        },
        {
         "tweets": "@StephenWoody10 @saltykev615 I agree with you. \n\nI think #Ravencoin is #Bitcoin  3.0 by my own rese…",
         "cleaned_text": "@StephenWoody10 @saltykev615 I agree with you. I think  is Bitcoin  3.0 by my own research. Good lu…",
         "_deepnote_index_column": 106428
        },
        {
         "tweets": "[NEW] Your coin isn’t pumping because it’s a great project. It’s pumping because we’re in a bull ma…",
         "cleaned_text": "[NEW] Your coin isn’t pumping because it’s a great project. It’s pumping because we’re in a bull ma…",
         "_deepnote_index_column": 106429
        },
        {
         "tweets": "@dhh @OfficialPagani @koenigsegg Hey @pierre_rochard, @saifedean, @nic__carter...?\n\nI found some mo…",
         "cleaned_text": "@dhh @OfficialPagani @koenigsegg Hey @pierre_rochard, @saifedean, @nic__carter...?I found some more…",
         "_deepnote_index_column": 106430
        },
        {
         "tweets": "@GiveawayInspect @MoonRatFinance Hope to be the lucky one!\n\n@uchildz @gasgan999 @gelangserut \n\n#Giv…",
         "cleaned_text": "@GiveawayInspect @MoonRatFinance Hope to be the lucky one!@uchildz @gasgan999 @gelangserut  Bitcoin…",
         "_deepnote_index_column": 106431
        },
        {
         "tweets": "@airdropinspect #Airdrop  #BSC #BinanceSmartChain  #BNB #BTC  #Bitcoin #crypto \n\nGood project.\n\n@Kh…",
         "cleaned_text": "@airdropinspect         Bitcoin  Good project.@Khana @khuldeep @khurshedalam2",
         "_deepnote_index_column": 106432
        },
        {
         "tweets": "$BTCUSD\nCurrent Bitcoin Price: $61,111\nDay High: $62,531\nDay Low: $60,447\nYear Low: $6,834\nYear Hig…",
         "cleaned_text": "$BTCUSDCurrent Bitcoin Price: $61,111Day High: $62,531Day Low: $60,447Year Low: $6,834Year High: $6…",
         "_deepnote_index_column": 106433
        },
        {
         "tweets": "The $BTC price is at $60580.48 right now.\n🔴 Compared to the last tweet, the price has dropped by $5…",
         "cleaned_text": "The $BTC price is at $60580.48 right now.🔴 Compared to the last tweet, the price has dropped by $55…",
         "_deepnote_index_column": 106434
        },
        {
         "tweets": "$CELR looking good for another run, target zone shown.  #Bitcoin #BTC  #altcoin #Altcoins  #cryptoc…",
         "cleaned_text": "$CELR looking good for another run, target zone shown.  Bitcoin       ",
         "_deepnote_index_column": 106435
        },
        {
         "tweets": "Dear #cryptocurrency lovers, I just uploaded my first video as a #crypto #YouTuber and enthusiast f…",
         "cleaned_text": "Dear  lovers, I just uploaded my first video as a   and enthusiast for the education of the  and ne…",
         "_deepnote_index_column": 106436
        },
        {
         "tweets": "I’m  happy to share with you  a UNIQUE spring  offer\n\n#BTC #xrparmy #bitcoin #blockchain #investmen…",
         "cleaned_text": "I’m  happy to share with you  a UNIQUE spring  offer  bitcoin              ",
         "_deepnote_index_column": 106437
        },
        {
         "tweets": "\" Who would want one's children growing up buying things like bitcoin? I hope to God my family does…",
         "cleaned_text": "\" Who would want one's children growing up buying things like bitcoin? I hope to God my family does…",
         "_deepnote_index_column": 106438
        },
        {
         "tweets": "Who is agree?\nInvest in good #Cryptos and calm down 😉✨\n#finance \n#NFT #NFTs \n#cryptocurrencies #BTC…",
         "cleaned_text": "Who is agree?Invest in good  and calm down 😉✨     Bitcoin    ",
         "_deepnote_index_column": 106439
        },
        {
         "tweets": "Vertex Market P2P trading platform with low fees ⚠️\n\n@Vertexplatform ⬅️\n\nhttps://t.co/X1pfVIxtbr\n\n#…",
         "cleaned_text": "Vertex Market P2P trading platform with low fees ⚠️@Vertexplatform ⬅️  bitcoin                      ",
         "_deepnote_index_column": 106440
        },
        {
         "tweets": "#BTC \n#Bitcoin \nreversed from 60K but failed to reach the area:\n 63.2k-64k forming a second lower t…",
         "cleaned_text": " Bitcoin reversed from 60K but failed to reach the area: 63.2k-64k forming a second lower top at 62…",
         "_deepnote_index_column": 106441
        },
        {
         "tweets": "WHAT IS CRYPTOCURRENCY?\n\nHere's a lesson for all the beginners \n#bitcoin #btc #crypto #eth\n\nThread 👇",
         "cleaned_text": "WHAT IS CRYPTOCURRENCY?Here's a lesson for all the beginners bitcoin   Thread 👇",
         "_deepnote_index_column": 106442
        },
        {
         "tweets": "$BTCUSD\nCurrent Bitcoin Price: $61,102\nDay High: $62,531\nDay Low: $60,447\nYear Low: $6,834\nYear Hig…",
         "cleaned_text": "$BTCUSDCurrent Bitcoin Price: $61,102Day High: $62,531Day Low: $60,447Year Low: $6,834Year High: $6…",
         "_deepnote_index_column": 106443
        },
        {
         "tweets": "Turkey did not ban crypto currencies. It only banned crypto payments. Government accepts crypto cur…",
         "cleaned_text": "Turkey did not ban crypto currencies. It only banned crypto payments. Government accepts crypto cur…",
         "_deepnote_index_column": 106444
        },
        {
         "tweets": "$ALPHA / $BTC  \n\n🎯 2900 ✅ 3200, 3450\n\n#Ethereum #Bitcoin     #Polkadot #ETH $ETH #BTC     $BTC #BNB…",
         "cleaned_text": "$ALPHA / $BTC  🎯 2900 ✅ 3200, 3450 Bitcoin       $ETH      $BTC           ",
         "_deepnote_index_column": 106445
        },
        {
         "tweets": "⬆️⬆️ $BTC BUYING PRESSURE ALERT 📈 Price trading around 60559\n          🎵 https://t.co/iMB1mj8Cs1 🗣️…",
         "cleaned_text": "⬆️⬆️ $BTC BUYING PRESSURE ALERT 📈 Price trading around 60559          🎵  🗣️ Bitcoin  ",
         "_deepnote_index_column": 106446
        },
        {
         "tweets": "there is a big misunderstanding, help us #Binance   #Bitcoin #crypto #CryptoNews #cryptocurrencies …",
         "cleaned_text": "there is a big misunderstanding, help us    Bitcoin     ",
         "_deepnote_index_column": 106447
        },
        {
         "tweets": "$COTI had a good run, has now retraced and bounced off the 0.618 #fibonacci level, I envisage it wi…",
         "cleaned_text": "$COTI had a good run, has now retraced and bounced off the 0.618  level, I envisage it will make it…",
         "_deepnote_index_column": 106448
        },
        {
         "tweets": "🤝 Follow me on @betfury. Let's hunt for Bitcoins together! Get an exciting experience on #1 I-Gamin…",
         "cleaned_text": "🤝 Follow me on @betfury. Let's hunt for Bitcoins together! Get an exciting experience on  I-Gaming …",
         "_deepnote_index_column": 106449
        },
        {
         "tweets": "How To Use A Moving Averages for Swing #Trading \nhttps://t.co/y82XX1XWMP\n\n#DeFi #BTC #Bitcoin #Stoc…",
         "cleaned_text": "How To Use A Moving Averages for Swing    Bitcoin  ",
         "_deepnote_index_column": 106450
        },
        {
         "tweets": "@elonmusk Who let the $DOGE out?!\nMuch wow, super gains, you $KIN not be serious! :)\nGrab the next …",
         "cleaned_text": "@elonmusk Who let the $DOGE out?!Much wow, super gains, you $KIN not be serious! :)Grab the next 10…",
         "_deepnote_index_column": 106451
        },
        {
         "tweets": "The price of #Bitcoin suddenly dropped below $60,000 days after the #Coinbase public listing.\nThe p…",
         "cleaned_text": "The price of Bitcoin suddenly dropped below $60,000 days after the  public listing.The price of Bit…",
         "_deepnote_index_column": 106452
        },
        {
         "tweets": "$BTCUSD\nCurrent Bitcoin Price: $61,318\nDay High: $62,531\nDay Low: $60,447\nYear Low: $6,834\nYear Hig…",
         "cleaned_text": "$BTCUSDCurrent Bitcoin Price: $61,318Day High: $62,531Day Low: $60,447Year Low: $6,834Year High: $6…",
         "_deepnote_index_column": 106453
        },
        {
         "tweets": "The $BTC price is at $60636.09 right now.\n🔴 Compared to the last tweet, the price has dropped by $1…",
         "cleaned_text": "The $BTC price is at $60636.09 right now.🔴 Compared to the last tweet, the price has dropped by $10…",
         "_deepnote_index_column": 106454
        },
        {
         "tweets": "Bitcoin Cash handled 48% more transactions than BTC in the last 24 hours 👀 #bitcoincash  #bch #bitc…",
         "cleaned_text": "Bitcoin Cash handled 48% more transactions than BTC in the last 24 hours 👀 bitcoincash   bitcoin    ",
         "_deepnote_index_column": 106455
        },
        {
         "tweets": "Charts before #GirlsNightOut 🍷🍸🍽️🥘🍰\n\n#BTC vs $ETH Daily Charts --\n\nStill looking good ...  😉🙃\n\n#Bit…",
         "cleaned_text": "Charts before  🍷🍸🍽️🥘🍰 vs $ETH Daily Charts --Still looking good ...  😉🙃Bitcoin $BTC $BTC   ",
         "_deepnote_index_column": 106456
        },
        {
         "tweets": "@StephenWoody10 Try to find its core value in the whitepaper, please. \n\nhttps://t.co/kzNKFlLuj0\n\nI …",
         "cleaned_text": "@StephenWoody10 Try to find its core value in the whitepaper, please.  hope you find its core value…",
         "_deepnote_index_column": 106457
        },
        {
         "tweets": "Join me on Twetch and earn yourself some real Bitcoin.\n\nGotta be crazy not too!\n\n#Bitcoin #crypto #…",
         "cleaned_text": "Join me on Twetch and earn yourself some real Bitcoin.Gotta be crazy not too!Bitcoin       ",
         "_deepnote_index_column": 106458
        },
        {
         "tweets": "How and Where to Buy Modex (MODEX) #Modex $Modex #MODEX $MODEX #bitcoin #btc #crypto #cryptocurrenc…",
         "cleaned_text": "How and Where to Buy Modex (MODEX)  $Modex  $MODEX bitcoin           ",
         "_deepnote_index_column": 106459
        },
        {
         "tweets": "$TSLA winnings of initial #BTC investment so far🙌\n\n$1103110286 (73.54 %)\n(Estimating an average buy…",
         "cleaned_text": "$TSLA winnings of initial  investment so far🙌$1103110286 (73.54 %)(Estimating an average buy price …",
         "_deepnote_index_column": 106460
        },
        {
         "tweets": "#Bitcoin price in US Dollar #BTC $usd #BTCUSD $XBT #xbtusd \nBTC Price Now : 60,764.68$ USD \nAvg Las…",
         "cleaned_text": "Bitcoin price in US Dollar  $usd  $XBT  BTC Price Now : 60,764.68$ USD Avg Last Hour : 60,772.32$ A…",
         "_deepnote_index_column": 106461
        },
        {
         "tweets": "Open account with Binance \n#litecoin #bitcoin #cryptocurrency #ethereum #crypto #blockchain #ripple…",
         "cleaned_text": "Open account with Binance  bitcoin         bitcoincash           bitcoins        ",
         "_deepnote_index_column": 106462
        },
        {
         "tweets": "Market Id : BTC-AUD\nLast Price :79410.62\n24 Hour High :81350.12\n24 Hour Low :78482.78\nBest Bid :793…",
         "cleaned_text": "Market Id : BTC-AUDLast Price :79410.6224 Hour High :81350.1224 Hour Low :78482.78Best Bid :79310Be…",
         "_deepnote_index_column": 106463
        },
        {
         "tweets": "Shark Tank’s Barbara Corcoran Advocates Getting Rich by Investing in Real Estate, Not Cryptocurrenc…",
         "cleaned_text": "Shark Tank’s Barbara Corcoran Advocates Getting Rich by Investing in Real Estate, Not Cryptocurrenc…",
         "_deepnote_index_column": 106464
        },
        {
         "tweets": "$WIN buy at 0.00155\n\nTargets\n1st 0.0018\n2nd 0.0023\n3rd 0.0027\n\nWho is with me?\n\n#Crypto #BTC #Bitco…",
         "cleaned_text": "$WIN buy at 0.00155Targets1st 0.00182nd 0.00233rd 0.0027Who is with me?  Bitcoin $egld $btc $oxt  $…",
         "_deepnote_index_column": 106465
        },
        {
         "tweets": "As expected $BTC is having a hard time crossing my red horizontal line at $60826.66.\n\n#BTC #Bitcoin…",
         "cleaned_text": "As expected $BTC is having a hard time crossing my red horizontal line at $60826.66. Bitcoin ",
         "_deepnote_index_column": 106466
        },
        {
         "tweets": "When thinking about your future - don’t forget to think about this too!!\n\n#Bitcoin #Binance #Forex …",
         "cleaned_text": "When thinking about your future - don’t forget to think about this too!!Bitcoin              ー19   …",
         "_deepnote_index_column": 106467
        },
        {
         "tweets": "@Oogway_12 Hey Quasimodo, what's up? The thread is compiled, don't hesitate to share it. Have a goo…",
         "cleaned_text": "@Oogway_12 Hey Quasimodo, what's up? The thread is compiled, don't hesitate to share it. Have a goo…",
         "_deepnote_index_column": 106468
        },
        {
         "tweets": "Creamcoin Marketing – monthly services, CRM accepted\nhttps://t.co/sCZjQNYQDQ\n\n#creamcoin #bitcoin #…",
         "cleaned_text": "Creamcoin Marketing – monthly services, CRM accepted bitcoin       ",
         "_deepnote_index_column": 106469
        },
        {
         "tweets": "$CHR buy at 0.40-0.41\n\nTargets\n1st 0.46\n2nd 0.55\n3rd 0.70\n\nWho is with me?\n\n#Crypto #BTC #Bitcoin $…",
         "cleaned_text": "$CHR buy at 0.40-0.41Targets1st 0.462nd 0.553rd 0.70Who is with me?  Bitcoin $egld $btc $oxt  $mati…",
         "_deepnote_index_column": 106470
        },
        {
         "tweets": "Bitcoin Cash is going after a 10 times larger market.💪💪💪 #bch #bitcoincash #btc #bitcoin #crypto #c…",
         "cleaned_text": "Bitcoin Cash is going after a 10 times larger market.💪💪💪  bitcoincash  bitcoin   ",
         "_deepnote_index_column": 106471
        },
        {
         "tweets": "@AwyeeDeaterBob @TuurDemeester What makes you think I will sell it for fiat? I won't. #Bitcoin is k…",
         "cleaned_text": "@AwyeeDeaterBob @TuurDemeester What makes you think I will sell it for fiat? I won't. Bitcoin is ki…",
         "_deepnote_index_column": 106472
        },
        {
         "tweets": "#CHZ almost completed its bowl!! The target is on the graph. Looking for it 👀\n\n#chilizcoin #chilliz…",
         "cleaned_text": " almost completed its bowl!! The target is on the graph. Looking for it 👀   Bitcoin               ",
         "_deepnote_index_column": 106473
        },
        {
         "tweets": "🔄 Prices update in $EUR (1 hour):\n\n$BTC - 51149.5  € (-0.05 %)\n$ETH - 2013.19  € (+0.12 %)\n$DOT - 3…",
         "cleaned_text": "🔄 Prices update in $EUR (1 hour):$BTC - 51149.5  € (-0.05 %)$ETH - 2013.19  € (+0.12 %)$DOT - 36.87…",
         "_deepnote_index_column": 106474
        },
        {
         "tweets": "It never fails😂 #btc #bitcoin #crypto #ieo #xrp #ethereum #cryptocurrency #blockchain https://t.co/…",
         "cleaned_text": "It never fails😂  bitcoin       ",
         "_deepnote_index_column": 106475
        },
        {
         "tweets": "Oh, Sh*t... #btc #bitcoin #crypto #ieo #xrp #ethereum #cryptocurrency #blockchain https://t.co/FjtA…",
         "cleaned_text": "Oh, Sh*t...  bitcoin       ",
         "_deepnote_index_column": 106476
        },
        {
         "tweets": "#XAUUSD #gold Analysis\n\nGo and checkout the link in the bio to get amazing signals.\n\n#bitcoin #gold…",
         "cleaned_text": "  AnalysisGo and checkout the link in the bio to get amazing signals.bitcoin        94282 ",
         "_deepnote_index_column": 106477
        },
        {
         "tweets": "The $BTC price is at $60739.32 right now.\n🟢 Compared to the last tweet, the price has increased by …",
         "cleaned_text": "The $BTC price is at $60739.32 right now.🟢 Compared to the last tweet, the price has increased by $…",
         "_deepnote_index_column": 106478
        },
        {
         "tweets": "Tomorrow 😎\nThe hottest #NFT in town\nA 24 hour Hot Sale\nOnly on the MadinArt platform \n\n#Cardano #ar…",
         "cleaned_text": "Tomorrow 😎The hottest  in townA 24 hour Hot SaleOnly on the MadinArt platform        bitcoin  @artu…",
         "_deepnote_index_column": 106479
        },
        {
         "tweets": "Turkey did not ban crypto currencies. It only banned crypto payments. Government accepts crypto cur…",
         "cleaned_text": "Turkey did not ban crypto currencies. It only banned crypto payments. Government accepts crypto cur…",
         "_deepnote_index_column": 106480
        },
        {
         "tweets": "🔄 Prices update in $USDT (1 hour):\n\n$BTC - 60764.86 $      (-0.01 %)\n$ETH - 2390.6 $        (+0.06 …",
         "cleaned_text": "🔄 Prices update in $USDT (1 hour):$BTC - 60764.86 $      (-0.01 %)$ETH - 2390.6 $        (+0.06 %)$…",
         "_deepnote_index_column": 106481
        },
        {
         "tweets": "The Bitcoin Symbol - https://t.co/HDFJQEoz3h⁠\n⁠\n#bitcoin #btc #bitcoins #coinbase #kraken #ethereum…",
         "cleaned_text": "The Bitcoin Symbol -   bitcoins                     #…  ",
         "_deepnote_index_column": 106482
        },
        {
         "tweets": "1 Bitcoin ( #BTC )\nDollar: 60,853.98$ \n\n1 Bitcoin Cash ( #BCH )\nDollar: 1,063.95$ \n\n1 Ethereum ( #E…",
         "cleaned_text": "1 Bitcoin (  )Dollar: 60,853.98$ 1 Bitcoin Cash (  )Dollar: 1,063.95$ 1 Ethereum (  )Dollar: 2,396.…",
         "_deepnote_index_column": 106483
        },
        {
         "tweets": "#SAFEMOON @safemoon #sfm\n\nEverything good starts with one step #SAFEMOON \n\n#Binance #BinanceSmartCh…",
         "cleaned_text": " @safemoon Everything good starts with one step     Bitcoin   @elonmusk @binance @cz_binance ",
         "_deepnote_index_column": 106484
        },
        {
         "tweets": "5 STEPS to Crypto Wealth in 2021!\n\n* Earn Bitcoin Today\n* Reward points\n* Free Lottery Tickets\n\n--&…",
         "cleaned_text": "5 STEPS to Crypto Wealth in 2021!* Earn Bitcoin Today* Reward points* Free Lottery Tickets--&gt;  &…",
         "_deepnote_index_column": 106485
        },
        {
         "tweets": "The Bitcoin Symbol - https://t.co/HDFJQEoz3h\n\n#bitcoin #btc #bitcoins #coinbase #kraken #ethereum #…",
         "cleaned_text": "The Bitcoin Symbol -   bitcoins                         ",
         "_deepnote_index_column": 106486
        },
        {
         "tweets": "Turkey did not ban crypto currencies.  HODL and crypto trading. #bitcoin #crypto #CryptocurrencyNew…",
         "cleaned_text": "Turkey did not ban crypto currencies.  HODL and crypto trading. bitcoin     ",
         "_deepnote_index_column": 106487
        },
        {
         "tweets": "Turkey did not ban crypto currencies. It only banned crypto payments. Government accepts crypto cur…",
         "cleaned_text": "Turkey did not ban crypto currencies. It only banned crypto payments. Government accepts crypto cur…",
         "_deepnote_index_column": 106488
        },
        {
         "tweets": "Turkey did not ban crypto currencies. It only banned crypto payments. Government accepts crypto cur…",
         "cleaned_text": "Turkey did not ban crypto currencies. It only banned crypto payments. Government accepts crypto cur…",
         "_deepnote_index_column": 106489
        },
        {
         "tweets": "You can Buy Crypto Now with Apple Pay on Burency Exchange! 🤩\n\n📌 BUY Now - https://t.co/vhaps1MQmn\n\n…",
         "cleaned_text": "You can Buy Crypto Now with Apple Pay on Burency Exchange! 🤩📌 BUY Now -     Bitcoin    ",
         "_deepnote_index_column": 106490
        },
        {
         "tweets": "#bidcoin social #reward program gives you #FREE bid token to #play right away! NO need to recharge!…",
         "cleaned_text": " social  program gives you  bid token to  right away! NO need to recharge!! 😍 click now  for your  …",
         "_deepnote_index_column": 106491
        },
        {
         "tweets": "one #bitcoin can buy you a brand new Audi A6. #BTC #crypto #coinbase #moneytwitter https://t.co/ZkB…",
         "cleaned_text": "one bitcoin can buy you a brand new Audi A6.     ",
         "_deepnote_index_column": 106492
        },
        {
         "tweets": "Algorand (ALGO) Blockchain Explorer - Rand Labs\n\n#altcoins #coins #etf #blockchain #bitcoin #crypto…",
         "cleaned_text": "Algorand (ALGO) Blockchain Explorer - Rand Labs    bitcoin                      ",
         "_deepnote_index_column": 106493
        },
        {
         "tweets": "BTC support levels for BINANCE:BTCUSDT by Babenski #BTC #BITCOIN #BTCUSDT $BTC https://t.co/fasiyxw…",
         "cleaned_text": "BTC support levels for BINANCE:BTCUSDT by Babenski    $BTC  ",
         "_deepnote_index_column": 106494
        },
        {
         "tweets": "@EylemCulculoglu YES.WE CAN BELIVE IT \n#bitcoin #crypto #CryptocurrencyNews #cryptocurrencies #btc …",
         "cleaned_text": "@EylemCulculoglu YES.WE CAN BELIVE IT bitcoin     ",
         "_deepnote_index_column": 106495
        },
        {
         "tweets": "#Burency A big surprise in the making!!... Stay Tuned 🚀🚀\n\n#BUY #ETH #Bitcoin #BTC #etherium https:/…",
         "cleaned_text": " A big surprise in the making!!... Stay Tuned 🚀🚀  Bitcoin   ",
         "_deepnote_index_column": 106496
        },
        {
         "tweets": "Turkey did not ban crypto currencies. It only banned crypto payments. Government accepts crypto cur…",
         "cleaned_text": "Turkey did not ban crypto currencies. It only banned crypto payments. Government accepts crypto cur…",
         "_deepnote_index_column": 106497
        },
        {
         "tweets": "#Bitcoin next stop, around 53K. This resistance has been refused twice. People don't believe in a n…",
         "cleaned_text": "Bitcoin next stop, around 53K. This resistance has been refused twice. People don't believe in a ne…",
         "_deepnote_index_column": 106498
        },
        {
         "tweets": "Turkey did not ban crypto currencies. It only banned crypto payments. Government accepts crypto cur…",
         "cleaned_text": "Turkey did not ban crypto currencies. It only banned crypto payments. Government accepts crypto cur…",
         "_deepnote_index_column": 106499
        },
        {
         "tweets": "Turkey did not ban crypto currencies. It only banned crypto payments. Government accepts crypto cur…",
         "cleaned_text": "Turkey did not ban crypto currencies. It only banned crypto payments. Government accepts crypto cur…",
         "_deepnote_index_column": 106500
        },
        {
         "tweets": "What Is Algorand? Algorand Staking With ALGO Coins | Gemini\n\n#altcoins #coins #etf #blockchain #bit…",
         "cleaned_text": "What Is Algorand? Algorand Staking With ALGO Coins | Gemini    bitcoin                    ",
         "_deepnote_index_column": 106501
        },
        {
         "tweets": "One of the long-term priorities of #xRhodium is to provide stakeholders in the precious metal marke…",
         "cleaned_text": "One of the long-term priorities of  is to provide stakeholders in the precious metal markets with a…",
         "_deepnote_index_column": 106502
        },
        {
         "tweets": "🤝 Follow me on @betfury. Let's hunt for Bitcoins together! Get an exciting experience on #1 I-Gamin…",
         "cleaned_text": "🤝 Follow me on @betfury. Let's hunt for Bitcoins together! Get an exciting experience on  I-Gaming …",
         "_deepnote_index_column": 106503
        },
        {
         "tweets": "Turkey did not ban crypto currencies. It only banned crypto payments. Government accepts crypto cur…",
         "cleaned_text": "Turkey did not ban crypto currencies. It only banned crypto payments. Government accepts crypto cur…",
         "_deepnote_index_column": 106504
        },
        {
         "tweets": "Universal Basic Income using BlockFi - @BlockFi \n\nIf UBI = 16k $USD\n1x 50k #Bitcoin at 6% APY = $30…",
         "cleaned_text": "Universal Basic Income using BlockFi - @BlockFi If UBI = 16k $USD1x 50k Bitcoin at 6% APY = $300032…",
         "_deepnote_index_column": 106505
        },
        {
         "tweets": "Bitcoin BTC Current Price:\n$61,254.44\n1 Hour: -0.15% | 24 Hours: -1.46% | 7 Days: 4.23%\n#btc #bitco…",
         "cleaned_text": "Bitcoin BTC Current Price:$61,254.441 Hour: -0.15% | 24 Hours: -1.46% | 7 Days: 4.23% bitcoin",
         "_deepnote_index_column": 106506
        },
        {
         "tweets": "Turkey did not ban crypto currencies. It only banned crypto payments. Government accepts crypto cur…",
         "cleaned_text": "Turkey did not ban crypto currencies. It only banned crypto payments. Government accepts crypto cur…",
         "_deepnote_index_column": 106507
        },
        {
         "tweets": "Turkey did not ban crypto currencies. It only banned crypto payments. Government accepts crypto cur…",
         "cleaned_text": "Turkey did not ban crypto currencies. It only banned crypto payments. Government accepts crypto cur…",
         "_deepnote_index_column": 106508
        },
        {
         "tweets": "Turkey did not ban crypto currencies. It only banned crypto payments. Government accepts crypto cur…",
         "cleaned_text": "Turkey did not ban crypto currencies. It only banned crypto payments. Government accepts crypto cur…",
         "_deepnote_index_column": 106509
        },
        {
         "tweets": "Turkey did not ban crypto currencies. It only banned crypto payments. Government accepts crypto cur…",
         "cleaned_text": "Turkey did not ban crypto currencies. It only banned crypto payments. Government accepts crypto cur…",
         "_deepnote_index_column": 106510
        },
        {
         "tweets": "Turkey did not ban crypto currencies. It only banned crypto payments. Government accepts crypto cur…",
         "cleaned_text": "Turkey did not ban crypto currencies. It only banned crypto payments. Government accepts crypto cur…",
         "_deepnote_index_column": 106511
        },
        {
         "tweets": "Turkey did not ban crypto currencies. It only banned crypto payments. Government accepts crypto cur…",
         "cleaned_text": "Turkey did not ban crypto currencies. It only banned crypto payments. Government accepts crypto cur…",
         "_deepnote_index_column": 106512
        },
        {
         "tweets": "Turkey did not ban crypto currencies. It only banned crypto payments. Government accepts crypto cur…",
         "cleaned_text": "Turkey did not ban crypto currencies. It only banned crypto payments. Government accepts crypto cur…",
         "_deepnote_index_column": 106513
        },
        {
         "tweets": "Turkey did not ban crypto currencies. It only banned crypto payments. Government accepts crypto cur…",
         "cleaned_text": "Turkey did not ban crypto currencies. It only banned crypto payments. Government accepts crypto cur…",
         "_deepnote_index_column": 106514
        },
        {
         "tweets": "\"“#Investor activity” is predicated on on-chain volume. This is because when #BTC moves between wal…",
         "cleaned_text": "\"“ activity” is predicated on on-chain volume. This is because when  moves between wallets between …",
         "_deepnote_index_column": 106515
        },
        {
         "tweets": "Turkey did not ban crypto currencies. It only banned crypto payments. Government accepts crypto cur…",
         "cleaned_text": "Turkey did not ban crypto currencies. It only banned crypto payments. Government accepts crypto cur…",
         "_deepnote_index_column": 106516
        },
        {
         "tweets": "Invite A Friend &amp; Earn Upto 30% Commission. 📦 \n\n#BUY #Bitcoin #BinanceSmartChain #BCH #BTC",
         "cleaned_text": "Invite A Friend &amp; Earn Upto 30% Commission. 📦  Bitcoin   ",
         "_deepnote_index_column": 106517
        },
        {
         "tweets": "@airdropinspect Good Project 👍👍👍\n@ryanadr_\n@grkemeken4\n@Hasel36\n\n#Airdrop #Airdrop #BSC #BinanceSma…",
         "cleaned_text": "@airdropinspect Good Project 👍👍👍@ryanadr_@grkemeken4@Hasel36      Bitcoin ",
         "_deepnote_index_column": 106518
        },
        {
         "tweets": "Holo Cryptocurrency Bullish Momentum With A 19% Rise In The Last 24 Hours | Via News\n\n#altcoins #co…",
         "cleaned_text": "Holo Cryptocurrency Bullish Momentum With A 19% Rise In The Last 24 Hours | Via News    bitcoin    …",
         "_deepnote_index_column": 106519
        },
        {
         "tweets": "With Coinbase IPO, here are top 5 currencies to buy on the crypto platform - UKTN (UK Tech News)\n\n#…",
         "cleaned_text": "With Coinbase IPO, here are top 5 currencies to buy on the crypto platform - UKTN (UK Tech News)   …",
         "_deepnote_index_column": 106520
        },
        {
         "tweets": "Be #crypto wise!\nGet your #buubcoin now.\n#btc ❄️ #Bitcoin #ftv 🏦 #psv #trade #ggd #bitcion #SGP 💵#p…",
         "cleaned_text": "Be  wise!Get your  now. ❄️ Bitcoin  🏦      💵 📜 ",
         "_deepnote_index_column": 106521
        },
        {
         "tweets": "Yessss ! 😂\n\n#Doge #Trx ￼ #Ankr #Btc ￼ #Xvg #theta #Eth #Xrp #bitcoin ￼#Algo #TWT #bnb  $SC #tfuel \n…",
         "cleaned_text": "Yessss ! 😂  ￼   ￼     bitcoin ￼    $SC  💸💰🎉🥳 ",
         "_deepnote_index_column": 106522
        },
        {
         "tweets": "Congratulations to #Forex Zone member 'Trader Hijrah' for winning the April 16 daily #contest!\n\n100…",
         "cleaned_text": "Congratulations to  Zone member 'Trader Hijrah' for winning the April 16 daily !1000 $BURST was won…",
         "_deepnote_index_column": 106523
        },
        {
         "tweets": "The current price of bitcoin is $60,737.00. It has decreased by -1.872% in the last 24 hours #bitco…",
         "cleaned_text": "The current price of bitcoin is $60,737.00. It has decreased by -1.872% in the last 24 hours bitcoi…",
         "_deepnote_index_column": 106524
        },
        {
         "tweets": "The $BTC price is at $60640.01 right now.\n🔴 Compared to the last tweet, the price has dropped by $1…",
         "cleaned_text": "The $BTC price is at $60640.01 right now.🔴 Compared to the last tweet, the price has dropped by $10…",
         "_deepnote_index_column": 106525
        },
        {
         "tweets": "#SAN SAN/USD will do 20x, but just do nothing, that's ok.\n\n#SAN #crypto #alts #altcoins #btc #bitco…",
         "cleaned_text": " SAN/USD will do 20x, but just do nothing, that's ok.     bitcoin              ",
         "_deepnote_index_column": 106526
        },
        {
         "tweets": "#Bitcoin is going to consolidate for the next few weeks, as the #Dogecoin rally brings the mainstre…",
         "cleaned_text": "Bitcoin is going to consolidate for the next few weeks, as the  rally brings the mainstream media a…",
         "_deepnote_index_column": 106527
        },
        {
         "tweets": "How This Cardano Platform Benefit From Chainlink Oracles\n\n#altcoins #coins #etf #blockchain #bitcoi…",
         "cleaned_text": "How This Cardano Platform Benefit From Chainlink Oracles    bitcoin                    ",
         "_deepnote_index_column": 106528
        },
        {
         "tweets": "🔄 Prices update in $USD (1 hour):\n\n$BTC - 60822.4 $ (-0.07 %)\n$ETH - 2392.35 $ (+0.06 %)\n$DOT - 44.…",
         "cleaned_text": "🔄 Prices update in $USD (1 hour):$BTC - 60822.4 $ (-0.07 %)$ETH - 2392.35 $ (+0.06 %)$DOT - 44.04 $…",
         "_deepnote_index_column": 106529
        },
        {
         "tweets": "1 BTC Price: Bitstamp 60845.45 USD Coinbase  USD #btc #bitcoin 2021-04-17 18:01 https://t.co/nN2JYR…",
         "cleaned_text": "1 BTC Price: Bitstamp 60845.45 USD Coinbase  USD  bitcoin 2021-04-17 18:01 ",
         "_deepnote_index_column": 106530
        },
        {
         "tweets": "#Crypto prices | 6:00 PM | 4/17/21 https://t.co/t9zjm0h02K #Bitcoin #BTC $BTC #Ethereum #ETH #Tethe…",
         "cleaned_text": " prices | 6:00 PM | 4/17/21  Bitcoin  $BTC             BitcoinCash          BitcoinSV   ",
         "_deepnote_index_column": 106531
        },
        {
         "tweets": "🔄 Prices update in $USD (1 hour):\n\n$BTC - 60777.2 $ (-0.15 %)\n$ETH - 2392.76 $ (+0.08 %)\n$DOT - 44.…",
         "cleaned_text": "🔄 Prices update in $USD (1 hour):$BTC - 60777.2 $ (-0.15 %)$ETH - 2392.76 $ (+0.08 %)$DOT - 44.06 $…",
         "_deepnote_index_column": 106532
        },
        {
         "tweets": "T/F: #NFTs are like autographed digital trading cards? Find out everything you need to know about #…",
         "cleaned_text": "T/F:  are like autographed digital trading cards? Find out everything you need to know about  in EP…",
         "_deepnote_index_column": 106533
        },
        {
         "tweets": "How and Where to Buy ARMOR (ARMOR) #ARMOR $ARMOR #ARMOR $ARMOR #bitcoin #btc #crypto #cryptocurrenc…",
         "cleaned_text": "How and Where to Buy ARMOR (ARMOR)  $ARMOR  $ARMOR bitcoin           ",
         "_deepnote_index_column": 106534
        },
        {
         "tweets": "⬆️⬆️ $BTC BUYING PRESSURE ALERT 📈 Price trading around 60796\n          🎵 https://t.co/iMB1mj8Cs1 🗣️…",
         "cleaned_text": "⬆️⬆️ $BTC BUYING PRESSURE ALERT 📈 Price trading around 60796          🎵  🗣️ Bitcoin  ",
         "_deepnote_index_column": 106535
        },
        {
         "tweets": "The Current #Bitcoin Price in USD is: $60749.30🇺🇸\n\nThe Current #Bitcoin Price in CAD is: $75988.27🇨…",
         "cleaned_text": "The Current Bitcoin Price in USD is: $60749.30🇺🇸The Current Bitcoin Price in CAD is: $75988.27🇨🇦 ",
         "_deepnote_index_column": 106536
        },
        {
         "tweets": "Bitcoin - BTC\nPrice: $61,334.53\nChange in 1h: -0.1218791%\nMarket cap: $1,146,038,289,487.03\nRanking…",
         "cleaned_text": "Bitcoin - BTCPrice: $61,334.53Change in 1h: -0.1218791%Market cap: $1,146,038,289,487.03Ranking: 1B…",
         "_deepnote_index_column": 106537
        },
        {
         "tweets": "\"Hybrid Smart Contracts\" Will Change DeFi and the World, Says Chainlink CEO | Crypto Briefing\n\n#alt…",
         "cleaned_text": "\"Hybrid Smart Contracts\" Will Change DeFi and the World, Says Chainlink CEO | Crypto Briefing    bi…",
         "_deepnote_index_column": 106538
        },
        {
         "tweets": "Market Id : BTC-AUD\nLast Price :79304.77\n24 Hour High :81350.12\n24 Hour Low :78482.78\nBest Bid :791…",
         "cleaned_text": "Market Id : BTC-AUDLast Price :79304.7724 Hour High :81350.1224 Hour Low :78482.78Best Bid :79175.1…",
         "_deepnote_index_column": 106539
        },
        {
         "tweets": "Bitcoin: $60,709.44\n -1.66% (-$1025.56)\nHigh: $62,500\nLow: $59,614.54\nVolume: 542\n\n$BTC #BTC #bitco…",
         "cleaned_text": "Bitcoin: $60,709.44 -1.66% (-$1025.56)High: $62,500Low: $59,614.54Volume: 542$BTC  bitcoin",
         "_deepnote_index_column": 106540
        },
        {
         "tweets": "#SafeMoon is a superior coin that ACTUALLY has the potential to 100x and more. Dyor but this one is…",
         "cleaned_text": " is a superior coin that ACTUALLY has the potential to 100x and more. Dyor but this one is gearing …",
         "_deepnote_index_column": 106541
        },
        {
         "tweets": "I’m not the only one that believes #ETN is undervalued! \n\n@CryptoBull2020 spells it out pretty clea…",
         "cleaned_text": "I’m not the only one that believes  is undervalued! @CryptoBull2020 spells it out pretty clearly!🚀⚡…",
         "_deepnote_index_column": 106542
        },
        {
         "tweets": "$BTC A big chance in a billion! Price: \\7214760.0 (2021/04/18 06:52) #Bitcoin #FX #BTC #crypto",
         "cleaned_text": "$BTC A big chance in a billion! Price: \\7214760.0 (2021/04/18 06:52) Bitcoin   ",
         "_deepnote_index_column": 106543
        },
        {
         "tweets": "Alright @crypto wankers, look away from the chart for a sec, pause @Bloomberg and take a couple of …",
         "cleaned_text": "Alright @crypto wankers, look away from the chart for a sec, pause @Bloomberg and take a couple of …",
         "_deepnote_index_column": 106544
        },
        {
         "tweets": "@TheCryptoDog Who let the $DOGE out?!\nMuch wow, super gains, you $KIN not be serious! :)\nGrab the n…",
         "cleaned_text": "@TheCryptoDog Who let the $DOGE out?!Much wow, super gains, you $KIN not be serious! :)Grab the nex…",
         "_deepnote_index_column": 106545
        },
        {
         "tweets": "Analyst Willy Woo\n#Bitcoin investors will fly.\n🚀🚀🚀🚀🚀\nAccording to the NVT price indicator, which th…",
         "cleaned_text": "Analyst Willy WooBitcoin investors will fly.🚀🚀🚀🚀🚀According to the NVT price indicator, which the an…",
         "_deepnote_index_column": 106546
        },
        {
         "tweets": "I will long(10x) #btc (but not now)\n\nMid-term touched on the rising trend and started to rise again…",
         "cleaned_text": "I will long(10x)  (but not now)Mid-term touched on the rising trend and started to rise again Bitco…",
         "_deepnote_index_column": 106547
        },
        {
         "tweets": "@ReySantoscrypto You $KIN not be serious! :)\nStill another 10x potentially\n-SEC case settled = not …",
         "cleaned_text": "@ReySantoscrypto You $KIN not be serious! :)Still another 10x potentially-SEC case settled = not a …",
         "_deepnote_index_column": 106548
        },
        {
         "tweets": "This\n\n#BelieVET #VeFam #VeChain #VET #VTHO #VeThor $VET $VTHO #Bitcoin #BTC #Crypto #Cryptocurrency…",
         "cleaned_text": "This      $VET $VTHO Bitcoin     ",
         "_deepnote_index_column": 106549
        },
        {
         "tweets": "@CitaProtocol Good project \n@NgationoAji @BangunArya6 @maulana85817161 \n\n#Airdrop #Airdrops #Airdro…",
         "cleaned_text": "@CitaProtocol Good project @NgationoAji @BangunArya6 @maulana85817161        Bitcoin ",
         "_deepnote_index_column": 106550
        },
        {
         "tweets": "#1INCH targeting 10700-11000\n\n#Crypto #Cryptocurrency #BTC #Bitcoin $BTC https://t.co/GlprR5Ai6d",
         "cleaned_text": " targeting 10700-11000   Bitcoin $BTC ",
         "_deepnote_index_column": 106551
        },
        {
         "tweets": "Ethereum ETF Approved While ETH Gives Bullish Signals #Bitcoin #Btc #Cryptocurrency #Finance #Forex…",
         "cleaned_text": "Ethereum ETF Approved While ETH Gives Bullish Signals Bitcoin      Read:  ",
         "_deepnote_index_column": 106552
        },
        {
         "tweets": "How to buy Safe Moon\n\nHow to acquire Safe Moon\n\nHow to acquire Safe Moon\n\n🚀📈🚀. #safemoon #safemoont…",
         "cleaned_text": "How to buy Safe MoonHow to acquire Safe MoonHow to acquire Safe Moon🚀📈🚀.          bitcoin     ",
         "_deepnote_index_column": 106553
        },
        {
         "tweets": "To the mars!! 🚀🚀🚀\n#shibainu #shiba #shibalove #shibaswap #hodl #buy #buynow #shibainumemes #meme #m…",
         "cleaned_text": "To the mars!! 🚀🚀🚀                bitcoin bitcoincash      @Shibtoken @elonmusk ",
         "_deepnote_index_column": 106554
        },
        {
         "tweets": "Only getting better 💪🏻 #UPDATE #dogecoin #doge #Bitcoin #BTC https://t.co/X2s5pZeAwn",
         "cleaned_text": "Only getting better 💪🏻    Bitcoin  ",
         "_deepnote_index_column": 106555
        },
        {
         "tweets": "Win 0.3BTC at the FREE #NFL Survivor Pool Contest:  https://t.co/u9Lo3y94AJ #Bitcoin #BTC #Sport #b…",
         "cleaned_text": "Win 0.3BTC at the FREE  Survivor Pool Contest:   Bitcoin     ",
         "_deepnote_index_column": 106556
        },
        {
         "tweets": "[NEW] I’d rather lose it all than to miss out big time + https://t.co/TPCkYgC7s9 #bitcoin #btc #cry…",
         "cleaned_text": "[NEW] I’d rather lose it all than to miss out big time +  bitcoin    ",
         "_deepnote_index_column": 106557
        },
        {
         "tweets": "Check out this #NFT for sale on Mintable! Pick up 'Movement 3.1' before its swooped up! https://t.c…",
         "cleaned_text": "Check out this  for sale on Mintable! Pick up 'Movement 3.1' before its swooped up!    bitcoin     …",
         "_deepnote_index_column": 106558
        },
        {
         "tweets": "$BTC A big chance in a million! Price: \\7229377.0 (2021/04/18 06:45) #Bitcoin #FX #BTC #crypto",
         "cleaned_text": "$BTC A big chance in a million! Price: \\7229377.0 (2021/04/18 06:45) Bitcoin   ",
         "_deepnote_index_column": 106559
        },
        {
         "tweets": "Dear, #DREP team in TELEGRAM, I think u need to upgrade your communication skill... \n\nSincerely,\nFr…",
         "cleaned_text": "Dear,  team in TELEGRAM, I think u need to upgrade your communication skill... Sincerely,From peopl…",
         "_deepnote_index_column": 106560
        },
        {
         "tweets": "The $BTC price is at $60745.35 right now.\n🔴 Compared to the last tweet, the price has dropped by $1…",
         "cleaned_text": "The $BTC price is at $60745.35 right now.🔴 Compared to the last tweet, the price has dropped by $13…",
         "_deepnote_index_column": 106561
        },
        {
         "tweets": "Check out this #NFT for sale on Mintable! Pick up 'Movement 4.0' before its swooped up! https://t.c…",
         "cleaned_text": "Check out this  for sale on Mintable! Pick up 'Movement 4.0' before its swooped up!    bitcoin     …",
         "_deepnote_index_column": 106562
        },
        {
         "tweets": "I’m happy to  share with you a UNIQUE  spring offer!\n\n#BTC #xrparmy #bitcoin #blockchain #investmen…",
         "cleaned_text": "I’m happy to  share with you a UNIQUE  spring offer!  bitcoin             ",
         "_deepnote_index_column": 106563
        },
        {
         "tweets": "#GTO came to break point! If it breaks the triangle i will take my seat as always :) Keep your eyes…",
         "cleaned_text": " came to break point! If it breaks the triangle i will take my seat as always :) Keep your eyes on …",
         "_deepnote_index_column": 106564
        },
        {
         "tweets": "FEG Feed The Gorillas To The Moon\nMens/Womens - multiple colors\nGet  Your Shirt Here&gt;&gt; https:…",
         "cleaned_text": "FEG Feed The Gorillas To The MoonMens/Womens - multiple colorsGet  Your Shirt Here&gt;&gt;         …",
         "_deepnote_index_column": 106565
        },
        {
         "tweets": "@helenristov @QTRResearch Once these large institutions and governing body's adopt #BTC it will be …",
         "cleaned_text": "@helenristov @QTRResearch Once these large institutions and governing body's adopt  it will be come…",
         "_deepnote_index_column": 106566
        },
        {
         "tweets": "To all the #Bitcoin holders. What is a good alternative to #BTC? What is almost as good in your eye…",
         "cleaned_text": "To all the Bitcoin holders. What is a good alternative to ? What is almost as good in your eyes? ",
         "_deepnote_index_column": 106567
        },
        {
         "tweets": "Litecoin breakout #Altseason2021 #Crypto #Bitcoin #Litecoin #Ethereum #LINK #BTC #LTC  #LINK #ETH #…",
         "cleaned_text": "Litecoin breakout   Bitcoin                        ",
         "_deepnote_index_column": 106568
        },
        {
         "tweets": "🚨 Bitcoin Daily Update 🚨\n\n24HR Change: -1.5% 📉\nCurrent Price: $60890.8\nBitcoin was: $7114.55 a year…",
         "cleaned_text": "🚨 Bitcoin Daily Update 🚨24HR Change: -1.5% 📉Current Price: $60890.8Bitcoin was: $7114.55 a year ago…",
         "_deepnote_index_column": 106569
        },
        {
         "tweets": "Edward Snowden Plans to Auction an NFT, Proceeds Will Go to Freedom of the Press Foundation\n\n,https…",
         "cleaned_text": "Edward Snowden Plans to Auction an NFT, Proceeds Will Go to Freedom of the Press Foundation, bitcoi…",
         "_deepnote_index_column": 106570
        },
        {
         "tweets": "@aalpago @itsALLrisky @elonmusk 🚨BUY DOGE COIN ON THIS DIP! ASCENDING TRIANGLE HAPPENING NOW! THIS …",
         "cleaned_text": "@aalpago @itsALLrisky @elonmusk 🚨BUY DOGE COIN ON THIS DIP! ASCENDING TRIANGLE HAPPENING NOW! THIS …",
         "_deepnote_index_column": 106571
        },
        {
         "tweets": "#Bitcoin there are 2 scenario!! We will see soon. You must be carefull. What are your guess? Which …",
         "cleaned_text": "Bitcoin there are 2 scenario!! We will see soon. You must be carefull. What are your guess? Which s…",
         "_deepnote_index_column": 106572
        },
        {
         "tweets": "Are the chart and price don't look similar?\n\n50x possibility is not far away from $Hive \n\nDon't bla…",
         "cleaned_text": "Are the chart and price don't look similar?50x possibility is not far away from $Hive Don't blame m…",
         "_deepnote_index_column": 106573
        },
        {
         "tweets": "🔥Once again the lynx warned you of a good opportunity\n\n🏃‍♀️Run following and activate notifications…",
         "cleaned_text": "🔥Once again the lynx warned you of a good opportunity🏃‍♀️Run following and activate notifications!.…",
         "_deepnote_index_column": 106574
        },
        {
         "tweets": "🤝 Follow me on @betfury. Let's hunt for Bitcoins together! Get an exciting experience on #1 I-Gamin…",
         "cleaned_text": "🤝 Follow me on @betfury. Let's hunt for Bitcoins together! Get an exciting experience on  I-Gaming …",
         "_deepnote_index_column": 106575
        },
        {
         "tweets": "#XRP is the new #Bitcoin. But faster, more secure, sustainable and negligible transaction fees. It …",
         "cleaned_text": " is the new Bitcoin. But faster, more secure, sustainable and negligible transaction fees. It will …",
         "_deepnote_index_column": 106576
        },
        {
         "tweets": "Last days of the Token sale before the Listing!\nRound 3 is Open\nGet your SCOneX Tokens now ! 📈\nBonu…",
         "cleaned_text": "Last days of the Token sale before the Listing!Round 3 is OpenGet your SCOneX Tokens now ! 📈Bonus 1…",
         "_deepnote_index_column": 106577
        },
        {
         "tweets": "$BTC #Bitcoin And there we have our $59800-59400s area. For uptrend we want to get above $61200s th…",
         "cleaned_text": "$BTC Bitcoin And there we have our $59800-59400s area. For uptrend we want to get above $61200s the…",
         "_deepnote_index_column": 106578
        },
        {
         "tweets": "The $BTC price is at $60880.62 right now.\n🟢 Compared to the last tweet, the price has increased by …",
         "cleaned_text": "The $BTC price is at $60880.62 right now.🟢 Compared to the last tweet, the price has increased by $…",
         "_deepnote_index_column": 106579
        },
        {
         "tweets": "In the futute, inheritance to children would no longer be land and properties but private key and m…",
         "cleaned_text": "In the futute, inheritance to children would no longer be land and properties but private key and m…",
         "_deepnote_index_column": 106580
        },
        {
         "tweets": "@DonDurrett Of course he was misquoted. But this is how it works. There will be enough useful idiot…",
         "cleaned_text": "@DonDurrett Of course he was misquoted. But this is how it works. There will be enough useful idiot…",
         "_deepnote_index_column": 106581
        },
        {
         "tweets": "@CitaProtocol Good project sir\n@BangunArya6 @NgatiyonoAji\n@friston131 @ARIFSU12345\n\n#Airdrop #Airdr…",
         "cleaned_text": "@CitaProtocol Good project sir@BangunArya6 @NgatiyonoAji@friston131 @ARIFSU12345       Bitcoin ",
         "_deepnote_index_column": 106582
        },
        {
         "tweets": "@Stefan_Barden1 ElonGate💥\nif u have 🍒 buy,hodl, at breakout 1 week =🍅🍅\n\n#charity #elongate #ElonGat…",
         "cleaned_text": "@Stefan_Barden1 ElonGate💥if u have 🍒 buy,hodl, at breakout 1 week =🍅🍅          🌎🌍🌏 Bitcoin         …",
         "_deepnote_index_column": 106583
        },
        {
         "tweets": "⬆️⬆️ $BTC BUYING PRESSURE ALERT 📈 Price trading around 61010\n          🎵 https://t.co/iMB1mj8Cs1 🗣️…",
         "cleaned_text": "⬆️⬆️ $BTC BUYING PRESSURE ALERT 📈 Price trading around 61010          🎵  🗣️ Bitcoin  ",
         "_deepnote_index_column": 106584
        },
        {
         "tweets": "Doge is already on fire🔥, but you can still double your Dogecoin within minutes!\nSign-up on https:/…",
         "cleaned_text": "Doge is already on fire🔥, but you can still double your Dogecoin within minutes!Sign-up on  Win mul…",
         "_deepnote_index_column": 106585
        },
        {
         "tweets": "People that say about bitcoin ‘I don’t understand it so won’t invest’ really shock me. Why would yo…",
         "cleaned_text": "People that say about bitcoin ‘I don’t understand it so won’t invest’ really shock me. Why would yo…",
         "_deepnote_index_column": 106586
        },
        {
         "tweets": "$TSLA winnings of initial #BTC investment so far🙌\n\n$1110847714 (74.06 %)\n(Estimating an average buy…",
         "cleaned_text": "$TSLA winnings of initial  investment so far🙌$1110847714 (74.06 %)(Estimating an average buy price …",
         "_deepnote_index_column": 106587
        },
        {
         "tweets": "#Bitcoin price in US Dollar #BTC $usd #BTCUSD $XBT #xbtusd \nBTC Price Now : 60,809.17$ USD \nAvg Las…",
         "cleaned_text": "Bitcoin price in US Dollar  $usd  $XBT  BTC Price Now : 60,809.17$ USD Avg Last Hour : 60,786.19$ A…",
         "_deepnote_index_column": 106588
        },
        {
         "tweets": "HOGE To The Moon\nMens/Womens - multiple colors\nGet  Your Shirt Here&gt;&gt; https://t.co/VIKnGRERFt…",
         "cleaned_text": "HOGE To The MoonMens/Womens - multiple colorsGet  Your Shirt Here&gt;&gt;          bitcoin       ",
         "_deepnote_index_column": 106589
        },
        {
         "tweets": "How and Where to Buy Humanscape (HUM) #Humanscape $Humanscape #HUM $HUM #bitcoin #btc #crypto #cryp…",
         "cleaned_text": "How and Where to Buy Humanscape (HUM)  $Humanscape  $HUM bitcoin           ",
         "_deepnote_index_column": 106590
        },
        {
         "tweets": "Market Id : BTC-AUD\nLast Price :79436.67\n24 Hour High :81350.12\n24 Hour Low :78482.78\nBest Bid :793…",
         "cleaned_text": "Market Id : BTC-AUDLast Price :79436.6724 Hour High :81350.1224 Hour Low :78482.78Best Bid :79381.4…",
         "_deepnote_index_column": 106591
        },
        {
         "tweets": "@FossGregfoss #Bitcoin is already worth more than half as the U.S. banking system market capitaliza…",
         "cleaned_text": "@FossGregfoss Bitcoin is already worth more than half as the U.S. banking system market capitalizat…",
         "_deepnote_index_column": 106592
        },
        {
         "tweets": "Top Gainers on https://t.co/JOmBpeJJ0a 💰\n#kicktoken $kick #kick \n\nhttps://t.co/G7CB5X0Pd3\n#Bitcoin …",
         "cleaned_text": "Top Gainers on  💰 $kick    $xrp  $eth $hot $link $doge $chz $trx $xlm $bnb $nft $ltc $defi $xvg $co…",
         "_deepnote_index_column": 106593
        },
        {
         "tweets": "Wink is going to break out in the upcoming days.\nGet your bags up boys, we are set for moon!!!🚀\n#TR…",
         "cleaned_text": "Wink is going to break out in the upcoming days.Get your bags up boys, we are set for moon!!!🚀   Bi…",
         "_deepnote_index_column": 106594
        },
        {
         "tweets": "@GiveawayInspect @MoonRatFinance Nice giveaway\nThanks for the opportunity \n\n@IbnuUje @Fier_18 @Mama…",
         "cleaned_text": "@GiveawayInspect @MoonRatFinance Nice giveawayThanks for the opportunity @IbnuUje @Fier_18 @Mamas22…",
         "_deepnote_index_column": 106595
        },
        {
         "tweets": "Join Binance for all your crypto trading needs.\n\n#BTC\n#Bitcoin\n#cryptocurrency\n#Binance\n#CryptoNews…",
         "cleaned_text": "Join Binance for all your crypto trading needs.Bitcoin ",
         "_deepnote_index_column": 106596
        },
        {
         "tweets": "Thanks to the dim bulbs who are artificially holding down the price of #Bitcoin for that dip today.…",
         "cleaned_text": "Thanks to the dim bulbs who are artificially holding down the price of Bitcoin for that dip today. …",
         "_deepnote_index_column": 106597
        },
        {
         "tweets": "@tyler so is #Bitcoin:\n\ninsane energy waste\n\nrelax: no need for fiat\n\nlook to the #Altcoins \n\ntech …",
         "cleaned_text": "@tyler so is Bitcoin:insane energy wasterelax: no need for fiatlook to the  tech progress marches o…",
         "_deepnote_index_column": 106598
        },
        {
         "tweets": "#Bitcoin retest is underway, and it's getting ready to choose a direction. Which direction do you b…",
         "cleaned_text": "Bitcoin retest is underway, and it's getting ready to choose a direction. Which direction do you be…",
         "_deepnote_index_column": 106599
        },
        {
         "tweets": "$BTCUSD\nCurrent Bitcoin Price: $61,374\nDay High: $62,531\nDay Low: $60,447\nYear Low: $6,834\nYear Hig…",
         "cleaned_text": "$BTCUSDCurrent Bitcoin Price: $61,374Day High: $62,531Day Low: $60,447Year Low: $6,834Year High: $6…",
         "_deepnote_index_column": 106600
        },
        {
         "tweets": "😉😎👍 #BTC monthly [Magenta] TIME and Price Forecast\n\nhttps://t.co/gV4U8uHcDf                        …",
         "cleaned_text": "😉😎👍  monthly [Magenta] TIME and Price Forecast                                       $btc $ltc $eth…",
         "_deepnote_index_column": 106601
        },
        {
         "tweets": "CHECK OUT THE TRADE IDEAS TEST DRIVE TRIAL\n\nSeveral times a year they offer the opportunity to samp…",
         "cleaned_text": "CHECK OUT THE TRADE IDEAS TEST DRIVE TRIALSeveral times a year they offer the opportunity to sample…",
         "_deepnote_index_column": 106602
        },
        {
         "tweets": "$btc #bitcoin psy attention \n\n#bitcoin #btc #btcusd https://t.co/cdOqKO2k1S",
         "cleaned_text": "$btc bitcoin psy attention bitcoin   ",
         "_deepnote_index_column": 106603
        },
        {
         "tweets": "BİTCOİN\n\n-UP UP UP forever???\n\n-hee🙄\n\n#bitcoin #btc #tether #Ethereum #etherium #xrp #DOGEUSDT #Dog…",
         "cleaned_text": "BİTCOİN-UP UP UP forever???-hee🙄bitcoin         ",
         "_deepnote_index_column": 106604
        },
        {
         "tweets": ".\nA layered system\nDig deeper to understand\nIt is still early\n.\n#Bitcoin\n#BTC #savings #freedom #en…",
         "cleaned_text": ".A layered systemDig deeper to understandIt is still early.Bitcoin          ",
         "_deepnote_index_column": 106605
        },
        {
         "tweets": "🔄 Prices update in $EUR (1 hour):\n\n$BTC - 51177.0  € (+0.24 %)\n$ETH - 2010.68  € (+0.41 %)\n$DOT - 3…",
         "cleaned_text": "🔄 Prices update in $EUR (1 hour):$BTC - 51177.0  € (+0.24 %)$ETH - 2010.68  € (+0.41 %)$DOT - 36.62…",
         "_deepnote_index_column": 106606
        },
        {
         "tweets": "They say he has a whole bitcoin! #btc #bitcoin #crypto #ieo #xrp #ethereum #cryptocurrency #blockch…",
         "cleaned_text": "They say he has a whole bitcoin!  bitcoin       ",
         "_deepnote_index_column": 106607
        },
        {
         "tweets": "The $BTC price is at $60781.92 right now.\n🟢 Compared to the last tweet, the price has increased by …",
         "cleaned_text": "The $BTC price is at $60781.92 right now.🟢 Compared to the last tweet, the price has increased by $…",
         "_deepnote_index_column": 106608
        },
        {
         "tweets": "🔄 Prices update in $USDT (1 hour):\n\n$BTC - 60768.66 $      (+0.2 %)\n$ETH - 2389.27 $       (+0.37 %…",
         "cleaned_text": "🔄 Prices update in $USDT (1 hour):$BTC - 60768.66 $      (+0.2 %)$ETH - 2389.27 $       (+0.37 %)$D…",
         "_deepnote_index_column": 106609
        },
        {
         "tweets": "Earn Bitcoin browsing with CryptoTab.\n\n*Earn Bitcoin Today\n*Affiliate Boost System\n*Bitcoin is Boom…",
         "cleaned_text": "Earn Bitcoin browsing with CryptoTab.*Earn Bitcoin Today*Affiliate Boost System*Bitcoin is Booming-…",
         "_deepnote_index_column": 106610
        },
        {
         "tweets": "I have strong beliefs about $FLM coin. I saw an emotinal sign.\nMaybe huge pump is coming.\n@Flamingo…",
         "cleaned_text": "I have strong beliefs about $FLM coin. I saw an emotinal sign.Maybe huge pump is coming.@FlamingoFi…",
         "_deepnote_index_column": 106611
        },
        {
         "tweets": "😉😎👍 #BTC weekly [Orange] TIME and Price Forecast\n\nhttps://t.co/gV4U8uHcDf                          …",
         "cleaned_text": "😉😎👍  weekly [Orange] TIME and Price Forecast                                       $btc $ltc $eth b…",
         "_deepnote_index_column": 106612
        },
        {
         "tweets": "@TickerTalk_ Why Is @ArgoBlockchain Being Heavily Shorted? \n\nThanks for acknowledging me for bringi…",
         "cleaned_text": "@TickerTalk_ Why Is @ArgoBlockchain Being Heavily Shorted? Thanks for acknowledging me for bringing…",
         "_deepnote_index_column": 106613
        },
        {
         "tweets": "#BTC   you're not going to be the #Bitcoin that gets to 1M $ first.\n\nBet it.",
         "cleaned_text": "   you're not going to be the Bitcoin that gets to 1M $ first.Bet it.",
         "_deepnote_index_column": 106614
        },
        {
         "tweets": "@BitcoinMagazine #Bitcoin is already worth more than half as the U.S. banking system market capital…",
         "cleaned_text": "@BitcoinMagazine Bitcoin is already worth more than half as the U.S. banking system market capitali…",
         "_deepnote_index_column": 106615
        },
        {
         "tweets": "3️⃣ reasons to #love #bidcoin: fun way to get #crypto / #save up to 70% / safe as but easier than a…",
         "cleaned_text": "3️⃣ reasons to  : fun way to get  /  up to 70% / safe as but easier than any ! 💪🏼  your  without  b…",
         "_deepnote_index_column": 106616
        },
        {
         "tweets": "My Crypto Strategy on ICONOMI just outperformed BTC.\nCheck it out here:\nhttps://t.co/4nCAgk2E2U\n#bi…",
         "cleaned_text": "My Crypto Strategy on ICONOMI just outperformed BTC.Check it out here:  bitcoinnews  ",
         "_deepnote_index_column": 106617
        },
        {
         "tweets": "Thank you all for your participation, here are the 5 winners:\n\n@DreeZ___\n@Off_Erwan\n@cyrilblondel\n@…",
         "cleaned_text": "Thank you all for your participation, here are the 5 winners:@DreeZ___@Off_Erwan@cyrilblondel@Johnn…",
         "_deepnote_index_column": 106618
        },
        {
         "tweets": "I mined 127.84 $DOGE / $42.49 today.\n\nPlay classic 8-bit arcade games, win mining power! Purchase m…",
         "cleaned_text": "I mined 127.84 $DOGE / $42.49 today.Play classic 8-bit arcade games, win mining power! Purchase min…",
         "_deepnote_index_column": 106619
        },
        {
         "tweets": "Bitcoin BTC Current Price:\n$61,362.67\n1 Hour: 0.30% | 24 Hours: -0.84% | 7 Days: 2.94%\n#btc #bitcoin",
         "cleaned_text": "Bitcoin BTC Current Price:$61,362.671 Hour: 0.30% | 24 Hours: -0.84% | 7 Days: 2.94% bitcoin",
         "_deepnote_index_column": 106620
        },
        {
         "tweets": "@100trillionUSD does S2FX account for inflation to 2025? $288k is what, maybe a years netflix by th…",
         "cleaned_text": "@100trillionUSD does S2FX account for inflation to 2025? $288k is what, maybe a years netflix by th…",
         "_deepnote_index_column": 106621
        },
        {
         "tweets": "#btc #DGB is new #Bitcoin !?\nWe can see DGB like bitcoin soon.\nAll Crypto one side and #dgb is one …",
         "cleaned_text": "  is new Bitcoin !?We can see DGB like bitcoin soon.All Crypto one side and  is one side.Nice job h…",
         "_deepnote_index_column": 106622
        },
        {
         "tweets": "@TheSteezBurger Happiness is... A Warm NFT Collection\n@opensea #opensea #cryptoart #nonfungible #di…",
         "cleaned_text": "@TheSteezBurger Happiness is... A Warm NFT Collection@opensea                   Bitcoin 🔗  ",
         "_deepnote_index_column": 106623
        },
        {
         "tweets": "#Bitcoin is by far the biggest ponzi in modern day history. Even Webster's New Dictionary has a new…",
         "cleaned_text": "Bitcoin is by far the biggest ponzi in modern day history. Even Webster's New Dictionary has a new …",
         "_deepnote_index_column": 106624
        },
        {
         "tweets": "I Almost Pulled Out!\nGet  Your Shirt Here&gt;&gt; https://t.co/VIKnGRERFt\n#redditrading #doge #elon…",
         "cleaned_text": "I Almost Pulled Out!Get  Your Shirt Here&gt;&gt;          bitcoin    ",
         "_deepnote_index_column": 106625
        },
        {
         "tweets": "@MMCrypto Yeah but the important question is $50k or $100k first from here?! #Bitcoin #btc #cryptoc…",
         "cleaned_text": "@MMCrypto Yeah but the important question is $50k or $100k first from here?! Bitcoin    ",
         "_deepnote_index_column": 106626
        },
        {
         "tweets": "The current price of bitcoin is $60,885.00. It has decreased by -1.893% in the last 24 hours #bitco…",
         "cleaned_text": "The current price of bitcoin is $60,885.00. It has decreased by -1.893% in the last 24 hours bitcoi…",
         "_deepnote_index_column": 106627
        },
        {
         "tweets": "The $BTC price is at $60773.01 right now.\n🔴 Compared to the last tweet, the price has dropped by $2…",
         "cleaned_text": "The $BTC price is at $60773.01 right now.🔴 Compared to the last tweet, the price has dropped by $26…",
         "_deepnote_index_column": 106628
        },
        {
         "tweets": "🚨📰#Dynasty #Bitcoin #Breaking #News📰🚨\n\nOne Word: #DOGE \n\nhttps://t.co/GIxvl44lEX\n\n#BTC #Crypto #BNB…",
         "cleaned_text": "🚨📰 Bitcoin  📰🚨One Word:      $CAKE     $REN $MANA $ADA $BAT $FIL $XTZ $KNC    ",
         "_deepnote_index_column": 106629
        },
        {
         "tweets": "🔄 Prices update in $USD (1 hour):\n\n$BTC - 60865.9 $  (+0.13 %)\n$ETH - 2390.95 $  (+0.52 %)\n$DOT - 4…",
         "cleaned_text": "🔄 Prices update in $USD (1 hour):$BTC - 60865.9 $  (+0.13 %)$ETH - 2390.95 $  (+0.52 %)$DOT - 43.65…",
         "_deepnote_index_column": 106630
        },
        {
         "tweets": "#bitcoin #btc #Dogecoinarmy #Dogecoins \n\nIt seems bitcoiners are selling their coins to get into $d…",
         "cleaned_text": "bitcoin    It seems bitcoiners are selling their coins to get into $doge...💪😍👍",
         "_deepnote_index_column": 106631
        },
        {
         "tweets": "🚀 $BTC BIG BIDS ALERT 🐳 Avg. Bid Volume: 35 Avg Price: 60866.16\n          🗣️ https://t.co/iMB1mj8Cs…",
         "cleaned_text": "🚀 $BTC BIG BIDS ALERT 🐳 Avg. Bid Volume: 35 Avg Price: 60866.16          🗣️  🎵 Bitcoin  ",
         "_deepnote_index_column": 106632
        },
        {
         "tweets": "1 BTC Price: Bitstamp 60843.44 USD Coinbase  USD #btc #bitcoin 2021-04-17 17:01 https://t.co/cE7mbP…",
         "cleaned_text": "1 BTC Price: Bitstamp 60843.44 USD Coinbase  USD  bitcoin 2021-04-17 17:01 ",
         "_deepnote_index_column": 106633
        },
        {
         "tweets": "#bitcoin   #cryptocurrency   #news   #btc   #ethereum   #eth   #cryptocurrency   #litecoin   #altco…",
         "cleaned_text": "bitcoin                            $XVG $DOGE @vergecurrency  @DomainsVvs @VergeCanada @Haejin_Cryp…",
         "_deepnote_index_column": 106634
        },
        {
         "tweets": "🔄 Prices update in $USD (1 hour):\n\n$BTC - 60870.2 $  (+0.15 %)\n$ETH - 2390.87 $  (+0.38 %)\n$DOT - 4…",
         "cleaned_text": "🔄 Prices update in $USD (1 hour):$BTC - 60870.2 $  (+0.15 %)$ETH - 2390.87 $  (+0.38 %)$DOT - 43.72…",
         "_deepnote_index_column": 106635
        },
        {
         "tweets": "Record $600M BNB burn suggests Binance made $750M in profit in Q1\n\n,https://t.co/pV0fIwhSfv,\n\n #bit…",
         "cleaned_text": "Record $600M BNB burn suggests Binance made $750M in profit in Q1, bitcoin       ",
         "_deepnote_index_column": 106636
        },
        {
         "tweets": "#Coinbase #crypto #trading - \n14:00:26 PST\n1. #BTC / #Bitcoin - Buy %: 61 - Sell %: 39 - AVG Hold: …",
         "cleaned_text": "   - 14:00:26 PST1.  / Bitcoin - Buy %: 61 - Sell %: 39 - AVG Hold: 64 Days2.  - Buy %: 68 - Sell %…",
         "_deepnote_index_column": 106637
        },
        {
         "tweets": "Correlation Matrix of Crypto Prices (Previous 24 Hours) #Crypto #Cryprocurreny #Bitcoin #BTC #Altco…",
         "cleaned_text": "Correlation Matrix of Crypto Prices (Previous 24 Hours)   Bitcoin        ",
         "_deepnote_index_column": 106638
        },
        {
         "tweets": "How and Where to Buy Bifrost (BFC) (BFC) #Bifrost (BFC) $Bifrost (BFC) #BFC $BFC #bitcoin #btc #cry…",
         "cleaned_text": "How and Where to Buy Bifrost (BFC) (BFC)  (BFC) $Bifrost (BFC)  $BFC bitcoin           ",
         "_deepnote_index_column": 106639
        },
        {
         "tweets": "Bitcoin - BTC\nPrice: $61,390.93\nChange in 1h: +0.6864491%\nMarket cap: $1,147,092,177,950.84\nRanking…",
         "cleaned_text": "Bitcoin - BTCPrice: $61,390.93Change in 1h: +0.6864491%Market cap: $1,147,092,177,950.84Ranking: 1B…",
         "_deepnote_index_column": 106640
        },
        {
         "tweets": "Market Id : BTC-AUD\nLast Price :79499.95\n24 Hour High :81350.12\n24 Hour Low :78482.78\nBest Bid :792…",
         "cleaned_text": "Market Id : BTC-AUDLast Price :79499.9524 Hour High :81350.1224 Hour Low :78482.78Best Bid :79289.3…",
         "_deepnote_index_column": 106641
        },
        {
         "tweets": "Bitcoin: $60,793.91\n -1.83% (-$1134.68)\nHigh: $62,500\nLow: $59,614.54\nVolume: 544\n\n$BTC #BTC #bitco…",
         "cleaned_text": "Bitcoin: $60,793.91 -1.83% (-$1134.68)High: $62,500Low: $59,614.54Volume: 544$BTC  bitcoin",
         "_deepnote_index_column": 106642
        },
        {
         "tweets": "#Bitcoin(#BTC) $60,885, -1.89% down\n#Dogecoin(#DOGE) $0.3053, 0.000005014BTC, -14.29% down\nhttps://…",
         "cleaned_text": "Bitcoin() $60,885, -1.89% down() $0.3053, 0.000005014BTC, -14.29% down",
         "_deepnote_index_column": 106643
        },
        {
         "tweets": "New Airdrop: #FIFO #Finance ( $FIFO)\nReward: 50 #FIFO ($50)\nRate *****/5\nFocus: Distribution start …",
         "cleaned_text": "New Airdrop:   ( $FIFO)Reward: 50  ($50)Rate *****/5Focus: Distribution start after 3 weeks of list…",
         "_deepnote_index_column": 106644
        }
       ]
      },
      "text/plain": "                                                   tweets  \\\n0       Blue Ridge Bank shares halted by NYSE after #b...   \n1       😎 Today, that's this #Thursday, we will do a \"...   \n3       $BTC A big chance in a billion! Price: \\487264...   \n4       This network is secured by 9 508 nodes as of t...   \n5       💹 Trade #Crypto on #Binance \\n\\n📌 Enjoy #Cashb...   \n...                                                   ...   \n106640  Bitcoin - BTC\\nPrice: $61,390.93\\nChange in 1h...   \n106641  Market Id : BTC-AUD\\nLast Price :79499.95\\n24 ...   \n106642  Bitcoin: $60,793.91\\n -1.83% (-$1134.68)\\nHigh...   \n106643  #Bitcoin(#BTC) $60,885, -1.89% down\\n#Dogecoin...   \n106644  New Airdrop: #FIFO #Finance ( $FIFO)\\nReward: ...   \n\n                                             cleaned_text  \n0       Blue Ridge Bank shares halted by NYSE after bi...  \n1       😎 Today, that's this , we will do a \"🎬 Take 2\"...  \n3       $BTC A big chance in a billion! Price: \\487264...  \n4       This network is secured by 9 508 nodes as of t...  \n5       💹 Trade  on  📌 Enjoy  10% of the Trading fee📌 ...  \n...                                                   ...  \n106640  Bitcoin - BTCPrice: $61,390.93Change in 1h: +0...  \n106641  Market Id : BTC-AUDLast Price :79499.9524 Hour...  \n106642  Bitcoin: $60,793.91 -1.83% (-$1134.68)High: $6...  \n106643  Bitcoin() $60,885, -1.89% down() $0.3053, 0.00...  \n106644  New Airdrop:   ( $FIFO)Reward: 50  ($50)Rate *...  \n\n[89897 rows x 2 columns]",
      "text/html": "<div>\n<style scoped>\n    .dataframe tbody tr th:only-of-type {\n        vertical-align: middle;\n    }\n\n    .dataframe tbody tr th {\n        vertical-align: top;\n    }\n\n    .dataframe thead th {\n        text-align: right;\n    }\n</style>\n<table border=\"1\" class=\"dataframe\">\n  <thead>\n    <tr style=\"text-align: right;\">\n      <th></th>\n      <th>tweets</th>\n      <th>cleaned_text</th>\n    </tr>\n  </thead>\n  <tbody>\n    <tr>\n      <th>0</th>\n      <td>Blue Ridge Bank shares halted by NYSE after #b...</td>\n      <td>Blue Ridge Bank shares halted by NYSE after bi...</td>\n    </tr>\n    <tr>\n      <th>1</th>\n      <td>😎 Today, that's this #Thursday, we will do a \"...</td>\n      <td>😎 Today, that's this , we will do a \"🎬 Take 2\"...</td>\n    </tr>\n    <tr>\n      <th>3</th>\n      <td>$BTC A big chance in a billion! Price: \\487264...</td>\n      <td>$BTC A big chance in a billion! Price: \\487264...</td>\n    </tr>\n    <tr>\n      <th>4</th>\n      <td>This network is secured by 9 508 nodes as of t...</td>\n      <td>This network is secured by 9 508 nodes as of t...</td>\n    </tr>\n    <tr>\n      <th>5</th>\n      <td>💹 Trade #Crypto on #Binance \\n\\n📌 Enjoy #Cashb...</td>\n      <td>💹 Trade  on  📌 Enjoy  10% of the Trading fee📌 ...</td>\n    </tr>\n    <tr>\n      <th>...</th>\n      <td>...</td>\n      <td>...</td>\n    </tr>\n    <tr>\n      <th>106640</th>\n      <td>Bitcoin - BTC\\nPrice: $61,390.93\\nChange in 1h...</td>\n      <td>Bitcoin - BTCPrice: $61,390.93Change in 1h: +0...</td>\n    </tr>\n    <tr>\n      <th>106641</th>\n      <td>Market Id : BTC-AUD\\nLast Price :79499.95\\n24 ...</td>\n      <td>Market Id : BTC-AUDLast Price :79499.9524 Hour...</td>\n    </tr>\n    <tr>\n      <th>106642</th>\n      <td>Bitcoin: $60,793.91\\n -1.83% (-$1134.68)\\nHigh...</td>\n      <td>Bitcoin: $60,793.91 -1.83% (-$1134.68)High: $6...</td>\n    </tr>\n    <tr>\n      <th>106643</th>\n      <td>#Bitcoin(#BTC) $60,885, -1.89% down\\n#Dogecoin...</td>\n      <td>Bitcoin() $60,885, -1.89% down() $0.3053, 0.00...</td>\n    </tr>\n    <tr>\n      <th>106644</th>\n      <td>New Airdrop: #FIFO #Finance ( $FIFO)\\nReward: ...</td>\n      <td>New Airdrop:   ( $FIFO)Reward: 50  ($50)Rate *...</td>\n    </tr>\n  </tbody>\n</table>\n<p>89897 rows × 2 columns</p>\n</div>"
     },
     "metadata": {}
    }
   ]
  },
  {
   "cell_type": "code",
   "metadata": {
    "tags": [],
    "cell_id": "00006-bb5b8635-9835-4b8e-bcb8-e701702a3a2d",
    "deepnote_to_be_reexecuted": false,
    "source_hash": "bc64b3ed",
    "execution_start": 1622302010355,
    "execution_millis": 72731,
    "deepnote_cell_type": "code"
   },
   "source": "# TEXTBLOB library\n\n# create a function to get subjectivity\ndef getSubjectivity(twt):\n    return TextBlob(twt).sentiment.subjectivity\n\n# create a function to get the polarity\ndef getPolarity(twt):\n    return TextBlob(twt).sentiment.polarity\n\n# create two new columns called \"Subjectivity\" & \"Polarity\"\ndf['subjectivity'] = df['cleaned_text'].apply(getSubjectivity)\ndf['polarity'] = df['cleaned_text'].apply(getPolarity)",
   "execution_count": 8,
   "outputs": []
  },
  {
   "cell_type": "code",
   "metadata": {
    "tags": [],
    "cell_id": "00007-36184d77-8921-4eb7-8a37-eea75d15985c",
    "deepnote_to_be_reexecuted": false,
    "source_hash": "64c3fb99",
    "execution_start": 1622302083087,
    "execution_millis": 0,
    "deepnote_cell_type": "code"
   },
   "source": "# create a function that return results\ndef getSentiment(score):\n    if score < 0:\n        return \"negative\"\n    elif score == 0:\n        return \"neutral\"\n    else:\n        return \"positive\"",
   "execution_count": 9,
   "outputs": []
  },
  {
   "cell_type": "code",
   "metadata": {
    "tags": [],
    "cell_id": "00007-857fc4ac-c1ba-47bf-aaf3-8a219a3585c8",
    "deepnote_to_be_reexecuted": false,
    "source_hash": "acc7d13c",
    "execution_start": 1622302083087,
    "execution_millis": 73,
    "deepnote_cell_type": "code"
   },
   "source": "# create a column to store the text sentiment\ndf['sentiment'] = df['polarity'].apply(getSentiment)\n\ndf.head()",
   "execution_count": 10,
   "outputs": [
    {
     "output_type": "execute_result",
     "execution_count": 10,
     "data": {
      "application/vnd.deepnote.dataframe.v2+json": {
       "row_count": 5,
       "column_count": 5,
       "columns": [
        {
         "name": "tweets",
         "dtype": "object",
         "stats": {
          "unique_count": 5,
          "nan_count": 0,
          "categories": [
           {
            "name": "Blue Ridge Bank shares halted by NYSE after #bitcoin ATM announcement https://t.co/xaaZmaJKiV @MyBlueRidgeBank… https://t.co/sgBxMkP1SI",
            "count": 1
           },
           {
            "name": "😎 Today, that's this #Thursday, we will do a \"🎬 Take 2\" with our friend @LeoWandersleb, #Btc #wallet #security expe… https://t.co/go6aDgRml5",
            "count": 1
           },
           {
            "name": "3 others",
            "count": 3
           }
          ]
         }
        },
        {
         "name": "cleaned_text",
         "dtype": "object",
         "stats": {
          "unique_count": 5,
          "nan_count": 0,
          "categories": [
           {
            "name": "Blue Ridge Bank shares halted by NYSE after bitcoin ATM announcement  @MyBlueRidgeBank… ",
            "count": 1
           },
           {
            "name": "😎 Today, that's this , we will do a \"🎬 Take 2\" with our friend @LeoWandersleb,    expe… ",
            "count": 1
           },
           {
            "name": "3 others",
            "count": 3
           }
          ]
         }
        },
        {
         "name": "subjectivity",
         "dtype": "float64",
         "stats": {
          "unique_count": 3,
          "nan_count": 0,
          "min": "0.0",
          "max": "0.5",
          "histogram": [
           {
            "bin_start": 0,
            "bin_end": 0.05,
            "count": 1
           },
           {
            "bin_start": 0.05,
            "bin_end": 0.1,
            "count": 0
           },
           {
            "bin_start": 0.1,
            "bin_end": 0.15000000000000002,
            "count": 3
           },
           {
            "bin_start": 0.15000000000000002,
            "bin_end": 0.2,
            "count": 0
           },
           {
            "bin_start": 0.2,
            "bin_end": 0.25,
            "count": 0
           },
           {
            "bin_start": 0.25,
            "bin_end": 0.30000000000000004,
            "count": 0
           },
           {
            "bin_start": 0.30000000000000004,
            "bin_end": 0.35000000000000003,
            "count": 0
           },
           {
            "bin_start": 0.35000000000000003,
            "bin_end": 0.4,
            "count": 0
           },
           {
            "bin_start": 0.4,
            "bin_end": 0.45,
            "count": 0
           },
           {
            "bin_start": 0.45,
            "bin_end": 0.5,
            "count": 1
           }
          ]
         }
        },
        {
         "name": "polarity",
         "dtype": "float64",
         "stats": {
          "unique_count": 2,
          "nan_count": 0,
          "min": "0.0",
          "max": "0.4",
          "histogram": [
           {
            "bin_start": 0,
            "bin_end": 0.04,
            "count": 4
           },
           {
            "bin_start": 0.04,
            "bin_end": 0.08,
            "count": 0
           },
           {
            "bin_start": 0.08,
            "bin_end": 0.12,
            "count": 0
           },
           {
            "bin_start": 0.12,
            "bin_end": 0.16,
            "count": 0
           },
           {
            "bin_start": 0.16,
            "bin_end": 0.2,
            "count": 0
           },
           {
            "bin_start": 0.2,
            "bin_end": 0.24,
            "count": 0
           },
           {
            "bin_start": 0.24,
            "bin_end": 0.28,
            "count": 0
           },
           {
            "bin_start": 0.28,
            "bin_end": 0.32,
            "count": 0
           },
           {
            "bin_start": 0.32,
            "bin_end": 0.36,
            "count": 0
           },
           {
            "bin_start": 0.36,
            "bin_end": 0.4,
            "count": 1
           }
          ]
         }
        },
        {
         "name": "sentiment",
         "dtype": "object",
         "stats": {
          "unique_count": 2,
          "nan_count": 0,
          "categories": [
           {
            "name": "neutral",
            "count": 4
           },
           {
            "name": "positive",
            "count": 1
           }
          ]
         }
        },
        {
         "name": "_deepnote_index_column",
         "dtype": "int64"
        }
       ],
       "rows_top": [
        {
         "tweets": "Blue Ridge Bank shares halted by NYSE after #bitcoin ATM announcement https://t.co/xaaZmaJKiV @MyBl…",
         "cleaned_text": "Blue Ridge Bank shares halted by NYSE after bitcoin ATM announcement  @MyBlueRidgeBank… ",
         "subjectivity": 0.1,
         "polarity": 0,
         "sentiment": "neutral",
         "_deepnote_index_column": 0
        },
        {
         "tweets": "😎 Today, that's this #Thursday, we will do a \"🎬 Take 2\" with our friend @LeoWandersleb, #Btc #walle…",
         "cleaned_text": "😎 Today, that's this , we will do a \"🎬 Take 2\" with our friend @LeoWandersleb,    expe… ",
         "subjectivity": 0,
         "polarity": 0,
         "sentiment": "neutral",
         "_deepnote_index_column": 1
        },
        {
         "tweets": "$BTC A big chance in a billion! Price: \\4872644.0 (2021/02/11 08:51) #Bitcoin #FX #BTC #crypto",
         "cleaned_text": "$BTC A big chance in a billion! Price: \\4872644.0 (2021/02/11 08:51) Bitcoin   ",
         "subjectivity": 0.1,
         "polarity": 0,
         "sentiment": "neutral",
         "_deepnote_index_column": 3
        },
        {
         "tweets": "This network is secured by 9 508 nodes as of today. Soon, the biggest bears will recognise: #BTC in…",
         "cleaned_text": "This network is secured by 9 508 nodes as of today. Soon, the biggest bears will recognise:  in too…",
         "subjectivity": 0.1,
         "polarity": 0,
         "sentiment": "neutral",
         "_deepnote_index_column": 4
        },
        {
         "tweets": "💹 Trade #Crypto on #Binance \n\n📌 Enjoy #Cashback 10% of the Trading fee\n📌 Sign up link 👉 https://t.c…",
         "cleaned_text": "💹 Trade  on  📌 Enjoy  10% of the Trading fee📌 Sign up link 👉  ",
         "subjectivity": 0.5,
         "polarity": 0.4,
         "sentiment": "positive",
         "_deepnote_index_column": 5
        }
       ],
       "rows_bottom": null
      },
      "text/plain": "                                              tweets  \\\n0  Blue Ridge Bank shares halted by NYSE after #b...   \n1  😎 Today, that's this #Thursday, we will do a \"...   \n3  $BTC A big chance in a billion! Price: \\487264...   \n4  This network is secured by 9 508 nodes as of t...   \n5  💹 Trade #Crypto on #Binance \\n\\n📌 Enjoy #Cashb...   \n\n                                        cleaned_text  subjectivity  polarity  \\\n0  Blue Ridge Bank shares halted by NYSE after bi...           0.1       0.0   \n1  😎 Today, that's this , we will do a \"🎬 Take 2\"...           0.0       0.0   \n3  $BTC A big chance in a billion! Price: \\487264...           0.1       0.0   \n4  This network is secured by 9 508 nodes as of t...           0.1       0.0   \n5  💹 Trade  on  📌 Enjoy  10% of the Trading fee📌 ...           0.5       0.4   \n\n  sentiment  \n0   neutral  \n1   neutral  \n3   neutral  \n4   neutral  \n5  positive  ",
      "text/html": "<div>\n<style scoped>\n    .dataframe tbody tr th:only-of-type {\n        vertical-align: middle;\n    }\n\n    .dataframe tbody tr th {\n        vertical-align: top;\n    }\n\n    .dataframe thead th {\n        text-align: right;\n    }\n</style>\n<table border=\"1\" class=\"dataframe\">\n  <thead>\n    <tr style=\"text-align: right;\">\n      <th></th>\n      <th>tweets</th>\n      <th>cleaned_text</th>\n      <th>subjectivity</th>\n      <th>polarity</th>\n      <th>sentiment</th>\n    </tr>\n  </thead>\n  <tbody>\n    <tr>\n      <th>0</th>\n      <td>Blue Ridge Bank shares halted by NYSE after #b...</td>\n      <td>Blue Ridge Bank shares halted by NYSE after bi...</td>\n      <td>0.1</td>\n      <td>0.0</td>\n      <td>neutral</td>\n    </tr>\n    <tr>\n      <th>1</th>\n      <td>😎 Today, that's this #Thursday, we will do a \"...</td>\n      <td>😎 Today, that's this , we will do a \"🎬 Take 2\"...</td>\n      <td>0.0</td>\n      <td>0.0</td>\n      <td>neutral</td>\n    </tr>\n    <tr>\n      <th>3</th>\n      <td>$BTC A big chance in a billion! Price: \\487264...</td>\n      <td>$BTC A big chance in a billion! Price: \\487264...</td>\n      <td>0.1</td>\n      <td>0.0</td>\n      <td>neutral</td>\n    </tr>\n    <tr>\n      <th>4</th>\n      <td>This network is secured by 9 508 nodes as of t...</td>\n      <td>This network is secured by 9 508 nodes as of t...</td>\n      <td>0.1</td>\n      <td>0.0</td>\n      <td>neutral</td>\n    </tr>\n    <tr>\n      <th>5</th>\n      <td>💹 Trade #Crypto on #Binance \\n\\n📌 Enjoy #Cashb...</td>\n      <td>💹 Trade  on  📌 Enjoy  10% of the Trading fee📌 ...</td>\n      <td>0.5</td>\n      <td>0.4</td>\n      <td>positive</td>\n    </tr>\n  </tbody>\n</table>\n</div>"
     },
     "metadata": {}
    }
   ]
  },
  {
   "cell_type": "code",
   "metadata": {
    "tags": [],
    "cell_id": "00008-e502b9c2-1601-45ef-8c74-e035e88049ff",
    "deepnote_to_be_reexecuted": false,
    "source_hash": "3913a8bc",
    "execution_start": 1622302083182,
    "execution_millis": 37348,
    "deepnote_cell_type": "code"
   },
   "source": "# create a scatter plot to show the subjectivity and the polarity\nplt.figure(figsize=(14,10))\n\nfor i in range(0, 2000):\n    plt.scatter(df[\"polarity\"].iloc[[i]].values[0], df[\"subjectivity\"].iloc[[i]].values[0], color=\"Purple\")\n\nplt.title(\"Sentiment Analysis Scatter Plot\")\nplt.xlabel('polarity')\nplt.ylabel('subjectivity')\nplt.show()",
   "execution_count": 11,
   "outputs": [
    {
     "data": {
      "text/plain": "<Figure size 1008x720 with 1 Axes>",
      "image/png": "[encoded data removed]"
     },
     "metadata": {
      "needs_background": "light",
      "image/png": {
       "width": 832,
       "height": 604
      }
     },
     "output_type": "display_data"
    }
   ]
  },
  {
   "cell_type": "code",
   "metadata": {
    "tags": [],
    "cell_id": "00009-4342e671-2e96-410a-a0d3-1b99be6e80b2",
    "deepnote_to_be_reexecuted": false,
    "source_hash": "af78b666",
    "execution_start": 1622302120543,
    "execution_millis": 214,
    "deepnote_cell_type": "code"
   },
   "source": "# Bar Chart for Positive Negative and Neutral predictions\ndf['sentiment'].value_counts().plot(kind=\"bar\")\nplt.title(\"Sentiment Analysis Scatter Plot\")\nplt.xlabel(\"Polarity\")\nplt.ylabel(\"Subjectivity\")\nplt.show()",
   "execution_count": 12,
   "outputs": [
    {
     "data": {
      "text/plain": "<Figure size 432x288 with 1 Axes>",
      "image/png": "[encoded data removed]"
     },
     "metadata": {
      "needs_background": "light",
      "image/png": {
       "width": 401,
       "height": 312
      }
     },
     "output_type": "display_data"
    }
   ]
  },
  {
   "cell_type": "markdown",
   "source": "<a style='text-decoration:none;line-height:16px;display:flex;color:#5B5B62;padding:10px;justify-content:end;' href='https://deepnote.com?utm_source=created-in-deepnote-cell&projectId=35141e0e-21d1-4e82-b75b-6e0fe3038914' target=\"_blank\">\n<img alt='Created in deepnote.com' style='display:inline;max-height:16px;margin:0px;margin-right:7.5px;' src='data:image/svg+xml;base64,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' > </img>\nCreated in <span style='font-weight:600;margin-left:4px;'>Deepnote</span></a>",
   "metadata": {
    "tags": [],
    "created_in_deepnote_cell": true,
    "deepnote_cell_type": "markdown"
   }
  }
 ],
 "nbformat": 4,
 "nbformat_minor": 2,
 "metadata": {
  "orig_nbformat": 2,
  "deepnote": {
   "is_reactive": true
  },
  "deepnote_notebook_id": "77dcb261-0ed4-4888-839b-965e47c1235d",
  "deepnote_execution_queue": []
 }
}